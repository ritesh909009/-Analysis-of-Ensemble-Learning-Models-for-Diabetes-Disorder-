{
 "cells": [
  {
   "cell_type": "markdown",
   "metadata": {},
   "source": [
    "#  ============Diabetes_Prdection_Analysis============"
   ]
  },
  {
   "cell_type": "markdown",
   "metadata": {},
   "source": [
    "# Importing Liabrary"
   ]
  },
  {
   "cell_type": "code",
   "execution_count": 1,
   "metadata": {},
   "outputs": [],
   "source": [
    "%matplotlib inline\n",
    "import pandas as pd\n",
    "import numpy as np\n",
    "import matplotlib.pyplot as plt\n",
    "import seaborn as sns\n",
    "import xgboost as xgb\n"
   ]
  },
  {
   "cell_type": "markdown",
   "metadata": {},
   "source": [
    "#  1. Data Preparation"
   ]
  },
  {
   "cell_type": "code",
   "execution_count": 2,
   "metadata": {},
   "outputs": [
    {
     "name": "stdout",
     "output_type": "stream",
     "text": [
      "Index(['pregnant', 'glucose', 'bp', 'skin', 'insulin', 'bmi', 'pedigree',\n",
      "       'age', 'outcome'],\n",
      "      dtype='object')\n"
     ]
    }
   ],
   "source": [
    "col_names = ['pregnant', 'glucose', 'bp', 'skin', 'insulin', 'bmi', 'pedigree', 'age', 'outcome']\n",
    "diabetes = pd.read_csv('diabetes.csv',names=col_names)\n",
    "print(diabetes.columns)\n",
    "#diabetes.describe().to_csv('describe.csv')"
   ]
  },
  {
   "cell_type": "markdown",
   "metadata": {},
   "source": [
    "# 2 -  Data Exploration"
   ]
  },
  {
   "cell_type": "code",
   "execution_count": 3,
   "metadata": {},
   "outputs": [
    {
     "data": {
      "text/html": [
       "<div>\n",
       "<style scoped>\n",
       "    .dataframe tbody tr th:only-of-type {\n",
       "        vertical-align: middle;\n",
       "    }\n",
       "\n",
       "    .dataframe tbody tr th {\n",
       "        vertical-align: top;\n",
       "    }\n",
       "\n",
       "    .dataframe thead th {\n",
       "        text-align: right;\n",
       "    }\n",
       "</style>\n",
       "<table border=\"1\" class=\"dataframe\">\n",
       "  <thead>\n",
       "    <tr style=\"text-align: right;\">\n",
       "      <th></th>\n",
       "      <th>pregnant</th>\n",
       "      <th>glucose</th>\n",
       "      <th>bp</th>\n",
       "      <th>skin</th>\n",
       "      <th>insulin</th>\n",
       "      <th>bmi</th>\n",
       "      <th>pedigree</th>\n",
       "      <th>age</th>\n",
       "      <th>outcome</th>\n",
       "    </tr>\n",
       "  </thead>\n",
       "  <tbody>\n",
       "    <tr>\n",
       "      <th>0</th>\n",
       "      <td>Pregnancies</td>\n",
       "      <td>Glucose</td>\n",
       "      <td>BloodPressure</td>\n",
       "      <td>SkinThickness</td>\n",
       "      <td>Insulin</td>\n",
       "      <td>BMI</td>\n",
       "      <td>DiabetesPedigreeFunction</td>\n",
       "      <td>Age</td>\n",
       "      <td>Outcome</td>\n",
       "    </tr>\n",
       "    <tr>\n",
       "      <th>1</th>\n",
       "      <td>6</td>\n",
       "      <td>148</td>\n",
       "      <td>72</td>\n",
       "      <td>35</td>\n",
       "      <td>0</td>\n",
       "      <td>33.6</td>\n",
       "      <td>0.627</td>\n",
       "      <td>50</td>\n",
       "      <td>1</td>\n",
       "    </tr>\n",
       "    <tr>\n",
       "      <th>2</th>\n",
       "      <td>1</td>\n",
       "      <td>85</td>\n",
       "      <td>66</td>\n",
       "      <td>29</td>\n",
       "      <td>0</td>\n",
       "      <td>26.6</td>\n",
       "      <td>0.351</td>\n",
       "      <td>31</td>\n",
       "      <td>0</td>\n",
       "    </tr>\n",
       "    <tr>\n",
       "      <th>3</th>\n",
       "      <td>8</td>\n",
       "      <td>183</td>\n",
       "      <td>64</td>\n",
       "      <td>0</td>\n",
       "      <td>0</td>\n",
       "      <td>23.3</td>\n",
       "      <td>0.672</td>\n",
       "      <td>32</td>\n",
       "      <td>1</td>\n",
       "    </tr>\n",
       "    <tr>\n",
       "      <th>4</th>\n",
       "      <td>1</td>\n",
       "      <td>89</td>\n",
       "      <td>66</td>\n",
       "      <td>23</td>\n",
       "      <td>94</td>\n",
       "      <td>28.1</td>\n",
       "      <td>0.167</td>\n",
       "      <td>21</td>\n",
       "      <td>0</td>\n",
       "    </tr>\n",
       "    <tr>\n",
       "      <th>5</th>\n",
       "      <td>0</td>\n",
       "      <td>137</td>\n",
       "      <td>40</td>\n",
       "      <td>35</td>\n",
       "      <td>168</td>\n",
       "      <td>43.1</td>\n",
       "      <td>2.288</td>\n",
       "      <td>33</td>\n",
       "      <td>1</td>\n",
       "    </tr>\n",
       "    <tr>\n",
       "      <th>6</th>\n",
       "      <td>5</td>\n",
       "      <td>116</td>\n",
       "      <td>74</td>\n",
       "      <td>0</td>\n",
       "      <td>0</td>\n",
       "      <td>25.6</td>\n",
       "      <td>0.201</td>\n",
       "      <td>30</td>\n",
       "      <td>0</td>\n",
       "    </tr>\n",
       "    <tr>\n",
       "      <th>7</th>\n",
       "      <td>3</td>\n",
       "      <td>78</td>\n",
       "      <td>50</td>\n",
       "      <td>32</td>\n",
       "      <td>88</td>\n",
       "      <td>31</td>\n",
       "      <td>0.248</td>\n",
       "      <td>26</td>\n",
       "      <td>1</td>\n",
       "    </tr>\n",
       "    <tr>\n",
       "      <th>8</th>\n",
       "      <td>10</td>\n",
       "      <td>115</td>\n",
       "      <td>0</td>\n",
       "      <td>0</td>\n",
       "      <td>0</td>\n",
       "      <td>35.3</td>\n",
       "      <td>0.134</td>\n",
       "      <td>29</td>\n",
       "      <td>0</td>\n",
       "    </tr>\n",
       "    <tr>\n",
       "      <th>9</th>\n",
       "      <td>2</td>\n",
       "      <td>197</td>\n",
       "      <td>70</td>\n",
       "      <td>45</td>\n",
       "      <td>543</td>\n",
       "      <td>30.5</td>\n",
       "      <td>0.158</td>\n",
       "      <td>53</td>\n",
       "      <td>1</td>\n",
       "    </tr>\n",
       "  </tbody>\n",
       "</table>\n",
       "</div>"
      ],
      "text/plain": [
       "      pregnant  glucose             bp           skin  insulin   bmi  \\\n",
       "0  Pregnancies  Glucose  BloodPressure  SkinThickness  Insulin   BMI   \n",
       "1            6      148             72             35        0  33.6   \n",
       "2            1       85             66             29        0  26.6   \n",
       "3            8      183             64              0        0  23.3   \n",
       "4            1       89             66             23       94  28.1   \n",
       "5            0      137             40             35      168  43.1   \n",
       "6            5      116             74              0        0  25.6   \n",
       "7            3       78             50             32       88    31   \n",
       "8           10      115              0              0        0  35.3   \n",
       "9            2      197             70             45      543  30.5   \n",
       "\n",
       "                   pedigree  age  outcome  \n",
       "0  DiabetesPedigreeFunction  Age  Outcome  \n",
       "1                     0.627   50        1  \n",
       "2                     0.351   31        0  \n",
       "3                     0.672   32        1  \n",
       "4                     0.167   21        0  \n",
       "5                     2.288   33        1  \n",
       "6                     0.201   30        0  \n",
       "7                     0.248   26        1  \n",
       "8                     0.134   29        0  \n",
       "9                     0.158   53        1  "
      ]
     },
     "execution_count": 3,
     "metadata": {},
     "output_type": "execute_result"
    }
   ],
   "source": [
    "diabetes.head(10)"
   ]
  },
  {
   "cell_type": "code",
   "execution_count": 102,
   "metadata": {},
   "outputs": [
    {
     "name": "stdout",
     "output_type": "stream",
     "text": [
      "Diabetes data set dimensions : (768, 9)\n"
     ]
    }
   ],
   "source": [
    "print(\"Diabetes data set dimensions : {}\".format(diabetes.shape))"
   ]
  },
  {
   "cell_type": "code",
   "execution_count": 103,
   "metadata": {},
   "outputs": [
    {
     "data": {
      "image/png": "[encoded data removed]",
      "text/plain": [
       "<Figure size 432x288 with 1 Axes>"
      ]
     },
     "metadata": {
      "needs_background": "light"
     },
     "output_type": "display_data"
    }
   ],
   "source": [
    "diabetic_negtive=diabetes[diabetes.outcome == 0]\n",
    "diabetic_positive=diabetes[diabetes.outcome == 1]\n",
    "plt.scatter(diabetic_negtive['glucose'],diabetic_negtive['bmi'],color='r')\n",
    "plt.scatter(diabetic_positive['glucose'],diabetic_positive['bmi'],color='g')\n",
    "plt.xlabel(\"glucose\")\n",
    "plt.ylabel(\"bmi\")\n",
    "plt.legend(('non-diabetes','diabetes'))\n",
    "plt.grid()\n",
    "plt.savefig('bmi_glucose.png')\n"
   ]
  },
  {
   "cell_type": "markdown",
   "metadata": {},
   "source": [
    "## from above we can see red & green dots not linearly separable"
   ]
  },
  {
   "cell_type": "code",
   "execution_count": 104,
   "metadata": {},
   "outputs": [
    {
     "data": {
      "image/png": "[encoded data removed]",
      "text/plain": [
       "<Figure size 432x288 with 1 Axes>"
      ]
     },
     "metadata": {
      "needs_background": "light"
     },
     "output_type": "display_data"
    }
   ],
   "source": [
    "plt.scatter(diabetic_negtive['glucose'],diabetic_negtive['age'],color='r')\n",
    "plt.scatter(diabetic_positive['glucose'],diabetic_positive['age'],color='g')\n",
    "plt.xlabel(\"glucose\")\n",
    "plt.ylabel(\"age\")\n",
    "plt.legend(('non-diabetes','diabetes'))\n",
    "plt.grid()\n",
    "plt.savefig('glucose_age.png')"
   ]
  },
  {
   "cell_type": "code",
   "execution_count": 105,
   "metadata": {},
   "outputs": [
    {
     "data": {
      "image/png": "[encoded data removed]",
      "text/plain": [
       "<Figure size 432x288 with 1 Axes>"
      ]
     },
     "metadata": {
      "needs_background": "light"
     },
     "output_type": "display_data"
    }
   ],
   "source": [
    "plt.scatter(diabetic_negtive['bmi'],diabetic_negtive['age'],color='r')\n",
    "plt.scatter(diabetic_positive['bmi'],diabetic_positive['age'],color='g')\n",
    "plt.xlabel(\"bmi\")\n",
    "plt.ylabel(\"age\")\n",
    "plt.legend(('non-diabetes','diabetes'))\n",
    "plt.grid()\n",
    "plt.savefig('age_bmi.png')"
   ]
  },
  {
   "cell_type": "markdown",
   "metadata": {},
   "source": []
  },
  {
   "cell_type": "code",
   "execution_count": 106,
   "metadata": {},
   "outputs": [
    {
     "data": {
      "image/png": "[encoded data removed]",
      "text/plain": [
       "<Figure size 648x648 with 9 Axes>"
      ]
     },
     "metadata": {
      "needs_background": "light"
     },
     "output_type": "display_data"
    }
   ],
   "source": [
    "x=diabetes.hist(figsize=(9, 9))"
   ]
  },
  {
   "cell_type": "code",
   "execution_count": 107,
   "metadata": {},
   "outputs": [
    {
     "data": {
      "text/plain": [
       "outcome\n",
       "0    [[AxesSubplot(0.125,0.670278;0.215278x0.209722...\n",
       "1    [[AxesSubplot(0.125,0.670278;0.215278x0.209722...\n",
       "dtype: object"
      ]
     },
     "execution_count": 107,
     "metadata": {},
     "output_type": "execute_result"
    },
    {
     "data": {
      "image/png": "[encoded data removed]",
      "text/plain": [
       "<Figure size 648x648 with 9 Axes>"
      ]
     },
     "metadata": {
      "needs_background": "light"
     },
     "output_type": "display_data"
    },
    {
     "data": {
      "image/png": "[encoded data removed]",
      "text/plain": [
       "<Figure size 648x648 with 9 Axes>"
      ]
     },
     "metadata": {
      "needs_background": "light"
     },
     "output_type": "display_data"
    }
   ],
   "source": [
    "diabetes.groupby('outcome').hist(figsize=(9, 9))"
   ]
  },
  {
   "cell_type": "markdown",
   "metadata": {},
   "source": [
    "# 3 - Data Cleaning\n"
   ]
  },
  {
   "cell_type": "markdown",
   "metadata": {},
   "source": [
    "### a) Missing or Null Data points"
   ]
  },
  {
   "cell_type": "code",
   "execution_count": 108,
   "metadata": {},
   "outputs": [
    {
     "data": {
      "text/plain": [
       "pregnant    0\n",
       "glucose     0\n",
       "bp          0\n",
       "skin        0\n",
       "insulin     0\n",
       "bmi         0\n",
       "pedigree    0\n",
       "age         0\n",
       "outcome     0\n",
       "dtype: int64"
      ]
     },
     "execution_count": 108,
     "metadata": {},
     "output_type": "execute_result"
    }
   ],
   "source": [
    "diabetes.isnull().sum()"
   ]
  },
  {
   "cell_type": "code",
   "execution_count": 109,
   "metadata": {},
   "outputs": [
    {
     "data": {
      "image/png": "[encoded data removed]",
      "text/plain": [
       "<Figure size 432x288 with 1 Axes>"
      ]
     },
     "metadata": {
      "needs_background": "light"
     },
     "output_type": "display_data"
    },
    {
     "data": {
      "image/png": "[encoded data removed]",
      "text/plain": [
       "<Figure size 432x288 with 1 Axes>"
      ]
     },
     "metadata": {
      "needs_background": "light"
     },
     "output_type": "display_data"
    },
    {
     "data": {
      "image/png": "[encoded data removed]",
      "text/plain": [
       "<Figure size 432x288 with 1 Axes>"
      ]
     },
     "metadata": {
      "needs_background": "light"
     },
     "output_type": "display_data"
    },
    {
     "data": {
      "image/png": "[encoded data removed]",
      "text/plain": [
       "<Figure size 432x288 with 1 Axes>"
      ]
     },
     "metadata": {
      "needs_background": "light"
     },
     "output_type": "display_data"
    },
    {
     "data": {
      "image/png": "[encoded data removed]",
      "text/plain": [
       "<Figure size 432x288 with 1 Axes>"
      ]
     },
     "metadata": {
      "needs_background": "light"
     },
     "output_type": "display_data"
    },
    {
     "data": {
      "image/png": "[encoded data removed]",
      "text/plain": [
       "<Figure size 432x288 with 1 Axes>"
      ]
     },
     "metadata": {
      "needs_background": "light"
     },
     "output_type": "display_data"
    },
    {
     "data": {
      "image/png": "[encoded data removed]",
      "text/plain": [
       "<Figure size 432x288 with 1 Axes>"
      ]
     },
     "metadata": {
      "needs_background": "light"
     },
     "output_type": "display_data"
    },
    {
     "data": {
      "image/png": "[encoded data removed]",
      "text/plain": [
       "<Figure size 432x288 with 1 Axes>"
      ]
     },
     "metadata": {
      "needs_background": "light"
     },
     "output_type": "display_data"
    },
    {
     "data": {
      "image/png": "[encoded data removed]",
      "text/plain": [
       "<Figure size 432x288 with 1 Axes>"
      ]
     },
     "metadata": {
      "needs_background": "light"
     },
     "output_type": "display_data"
    }
   ],
   "source": [
    "for i in diabetes.columns :\n",
    "    plt.boxplot(diabetes[i])\n",
    "    plt.title(i)\n",
    "    plt.show()\n",
    "    "
   ]
  },
  {
   "cell_type": "code",
   "execution_count": 110,
   "metadata": {},
   "outputs": [
    {
     "data": {
      "text/plain": [
       "0    500\n",
       "1    268\n",
       "Name: outcome, dtype: int64"
      ]
     },
     "execution_count": 110,
     "metadata": {},
     "output_type": "execute_result"
    }
   ],
   "source": [
    "diabetes.outcome.value_counts()"
   ]
  },
  {
   "cell_type": "markdown",
   "metadata": {},
   "source": [
    "### b) Unexpected Outliers"
   ]
  },
  {
   "cell_type": "markdown",
   "metadata": {},
   "source": [
    "####                 --Glucose:"
   ]
  },
  {
   "cell_type": "code",
   "execution_count": 111,
   "metadata": {},
   "outputs": [
    {
     "name": "stdout",
     "output_type": "stream",
     "text": [
      "Total :  5\n",
      "outcome\n",
      "0    3\n",
      "1    2\n",
      "Name: age, dtype: int64\n"
     ]
    }
   ],
   "source": [
    "print(\"Total : \", diabetes[diabetes.glucose == 0].shape[0])\n",
    "print(diabetes[diabetes.glucose == 0].groupby('outcome')['age'].count())"
   ]
  },
  {
   "cell_type": "markdown",
   "metadata": {},
   "source": [
    "####        --BloodPressure"
   ]
  },
  {
   "cell_type": "code",
   "execution_count": 112,
   "metadata": {},
   "outputs": [
    {
     "name": "stdout",
     "output_type": "stream",
     "text": [
      "Total :  35\n",
      "outcome\n",
      "0    19\n",
      "1    16\n",
      "Name: age, dtype: int64\n"
     ]
    }
   ],
   "source": [
    "print(\"Total : \", diabetes[diabetes.bp == 0].shape[0])\n",
    "print(diabetes[diabetes.bp == 0].groupby('outcome')['age'].count())"
   ]
  },
  {
   "cell_type": "markdown",
   "metadata": {},
   "source": [
    "####        --SkinThickness"
   ]
  },
  {
   "cell_type": "code",
   "execution_count": 113,
   "metadata": {},
   "outputs": [
    {
     "name": "stdout",
     "output_type": "stream",
     "text": [
      "Total :  227\n",
      "outcome\n",
      "0    139\n",
      "1     88\n",
      "Name: age, dtype: int64\n"
     ]
    }
   ],
   "source": [
    "\n",
    "print(\"Total : \", diabetes[diabetes.skin == 0].shape[0])\n",
    "print(diabetes[diabetes.skin == 0].groupby('outcome')['age'].count())"
   ]
  },
  {
   "cell_type": "markdown",
   "metadata": {},
   "source": [
    "####        --BMI"
   ]
  },
  {
   "cell_type": "code",
   "execution_count": 114,
   "metadata": {},
   "outputs": [
    {
     "name": "stdout",
     "output_type": "stream",
     "text": [
      "Total :  11\n",
      "outcome\n",
      "0    9\n",
      "1    2\n",
      "Name: age, dtype: int64\n"
     ]
    }
   ],
   "source": [
    "print(\"Total : \", diabetes[diabetes.bmi == 0].shape[0])\n",
    "print(diabetes[diabetes.bmi == 0].groupby('outcome')['age'].count())"
   ]
  },
  {
   "cell_type": "markdown",
   "metadata": {},
   "source": [
    "####        --Insulin"
   ]
  },
  {
   "cell_type": "code",
   "execution_count": 115,
   "metadata": {},
   "outputs": [
    {
     "name": "stdout",
     "output_type": "stream",
     "text": [
      "Total :  374\n",
      "outcome\n",
      "0    236\n",
      "1    138\n",
      "Name: age, dtype: int64\n"
     ]
    }
   ],
   "source": [
    "print(\"Total : \", diabetes[diabetes.insulin == 0].shape[0])\n",
    "print(diabetes[diabetes.insulin == 0].groupby('outcome')['age'].count())"
   ]
  },
  {
   "cell_type": "code",
   "execution_count": 116,
   "metadata": {},
   "outputs": [
    {
     "name": "stdout",
     "output_type": "stream",
     "text": [
      "(724, 9)\n"
     ]
    }
   ],
   "source": [
    "diabetes_mod = diabetes[(diabetes.bp != 0) & (diabetes.bmi != 0) & (diabetes.glucose != 0)]\n",
    "print(diabetes_mod.shape)"
   ]
  },
  {
   "cell_type": "code",
   "execution_count": 117,
   "metadata": {},
   "outputs": [
    {
     "name": "stdout",
     "output_type": "stream",
     "text": [
      "pregnant : 111\n",
      "glucose : 5\n",
      "bp : 35\n",
      "skin : 227\n",
      "insulin : 374\n",
      "bmi : 11\n",
      "pedigree : 0\n",
      "age : 0\n"
     ]
    }
   ],
   "source": [
    "for value in ['pregnant', 'glucose', 'bp', 'skin', 'insulin', 'bmi', 'pedigree', 'age']:\n",
    "    print (value,\":\", sum(diabetes[value] == 0))\n",
    "    "
   ]
  },
  {
   "cell_type": "markdown",
   "metadata": {},
   "source": [
    "## 3- Feature engineering"
   ]
  },
  {
   "cell_type": "code",
   "execution_count": 118,
   "metadata": {},
   "outputs": [],
   "source": [
    "feature_names=['pregnant', 'glucose', 'bp', 'skin', 'insulin', 'bmi', 'pedigree', 'age']\n",
    "X = diabetes[feature_names]\n",
    "y = diabetes.outcome"
   ]
  },
  {
   "cell_type": "markdown",
   "metadata": {},
   "source": [
    "# 4 - Model Selection"
   ]
  },
  {
   "cell_type": "code",
   "execution_count": 119,
   "metadata": {},
   "outputs": [],
   "source": [
    "from sklearn.neighbors import KNeighborsClassifier\n",
    "from sklearn.svm import SVC\n",
    "from xgboost import XGBClassifier\n",
    "\n",
    "from sklearn.linear_model import LogisticRegression\n",
    "from sklearn.tree import DecisionTreeClassifier\n",
    "from sklearn.naive_bayes import GaussianNB\n",
    "from sklearn.ensemble import RandomForestClassifier\n",
    "from sklearn.ensemble import GradientBoostingClassifier\n",
    "from sklearn.ensemble import AdaBoostClassifier\n",
    "from sklearn import linear_model\n",
    "from sklearn.model_selection import train_test_split\n",
    "from sklearn.model_selection import cross_val_score\n",
    "from sklearn.model_selection import StratifiedKFold\n",
    "from sklearn.metrics import accuracy_score,classification_report,confusion_matrix\n",
    "\n"
   ]
  },
  {
   "cell_type": "code",
   "execution_count": 120,
   "metadata": {},
   "outputs": [],
   "source": [
    "####Current default is ‘auto’ which uses 1 / n_features, if gamma='scale' is passed then it uses 1 / (n_features * X.var()) as value of gamma. The current default of gamma, ‘auto’, will change to ‘scale’ in version 0.22. ‘auto_deprecated’, a deprecated version of ‘auto’ is used as a default indicating that no explicit value of gamma was passed."
   ]
  },
  {
   "cell_type": "markdown",
   "metadata": {},
   "source": [
    "### - a)Train/Test split"
   ]
  },
  {
   "cell_type": "code",
   "execution_count": 121,
   "metadata": {},
   "outputs": [],
   "source": [
    "# Train/Test split\n",
    "from sklearn.model_selection import train_test_split\n",
    "X_train, X_test, y_train, y_test = train_test_split(X, y, test_size=0.2, random_state=0)\n",
    "#X_train, X_test, y_train, y_test = train_test_split(X, y, stratify = diabetes.outcome, random_state=0)"
   ]
  },
  {
   "cell_type": "markdown",
   "metadata": {},
   "source": [
    "### Feature Scaling"
   ]
  },
  {
   "cell_type": "code",
   "execution_count": 122,
   "metadata": {},
   "outputs": [],
   "source": [
    "from sklearn.preprocessing import StandardScaler,MinMaxScaler\n",
    "#sc = StandardScaler()\n",
    "sc=MinMaxScaler()\n",
    "X_train = sc.fit_transform(X_train)\n",
    "X_test = sc.transform(X_test)"
   ]
  },
  {
   "cell_type": "code",
   "execution_count": 123,
   "metadata": {},
   "outputs": [
    {
     "name": "stdout",
     "output_type": "stream",
     "text": [
      "[19:00:39] WARNING: ..\\src\\learner.cc:1115: Starting in XGBoost 1.3.0, the default evaluation metric used with the objective 'binary:logistic' was changed from 'error' to 'logloss'. Explicitly set eval_metric if you'd like to restore the old behavior.\n",
      "              precision    recall  f1-score   support\n",
      "\n",
      "           0       0.88      0.85      0.86       107\n",
      "           1       0.68      0.72      0.70        47\n",
      "\n",
      "    accuracy                           0.81       154\n",
      "   macro avg       0.78      0.79      0.78       154\n",
      "weighted avg       0.82      0.81      0.81       154\n",
      "\n"
     ]
    }
   ],
   "source": [
    "model=XGBClassifier(learning_rate=0.1,subsample = 0.8,n_estimators=100,max_depth=4,gamma=0 ,use_label_encoder=False)\n",
    "model.fit(X_train, y_train)\n",
    "y_pred = model.predict(X_test)\n",
    "print(classification_report(y_test, y_pred))\n",
    "#print (y_pred)"
   ]
  },
  {
   "cell_type": "code",
   "execution_count": 124,
   "metadata": {},
   "outputs": [],
   "source": [
    "# Initial model selection process\n",
    "models = []\n",
    "\n",
    "models.append(('KNN', KNeighborsClassifier(n_neighbors=15)))\n",
    "models.append(('SVC', SVC(gamma=.2,kernel='rbf' )))\n",
    "models.append(('LR', LogisticRegression(solver='lbfgs', max_iter=4000)))\n",
    "models.append(('DT', DecisionTreeClassifier(criterion='entropy',max_depth=4)))\n",
    "models.append(('GNB', GaussianNB()))\n",
    "models.append(('RF', RandomForestClassifier(n_estimators=100)))\n",
    "#models.append(('ADB', AdaBoostClassifier(n_estimators=100,learning_rate=1)))\n",
    "models.append(('GB', GradientBoostingClassifier(n_estimators=100, learning_rate=.01, random_state=0)))\n",
    "models.append(('XGB',  XGBClassifier(learning_rate=0.1,subsample = 0.8,objective='binary:logistic',n_estimators=100,max_depth=4,gamma=10)))\n"
   ]
  },
  {
   "cell_type": "code",
   "execution_count": 125,
   "metadata": {},
   "outputs": [
    {
     "name": "stdout",
     "output_type": "stream",
     "text": [
      "[19:00:42] WARNING: ..\\src\\learner.cc:1115: Starting in XGBoost 1.3.0, the default evaluation metric used with the objective 'binary:logistic' was changed from 'error' to 'logloss'. Explicitly set eval_metric if you'd like to restore the old behavior.\n",
      "  Name     Score\n",
      "0  KNN  0.792208\n",
      "1  SVC  0.831169\n",
      "2   LR  0.818182\n",
      "3   DT  0.740260\n",
      "4  GNB  0.792208\n",
      "5   RF  0.805195\n",
      "6   GB  0.805195\n",
      "7  XGB  0.785714\n"
     ]
    },
    {
     "name": "stderr",
     "output_type": "stream",
     "text": [
      "C:\\Users\\asus\\anaconda3\\lib\\site-packages\\xgboost\\sklearn.py:1224: UserWarning: The use of label encoder in XGBClassifier is deprecated and will be removed in a future release. To remove this warning, do the following: 1) Pass option use_label_encoder=False when constructing XGBClassifier object; and 2) Encode your labels (y) as integers starting with 0, i.e. 0, 1, 2, ..., [num_class - 1].\n",
      "  warnings.warn(label_encoder_deprecation_msg, UserWarning)\n"
     ]
    }
   ],
   "source": [
    "names = []\n",
    "scores = []\n",
    "\n",
    "for name,model in models:\n",
    "    model.fit(X_train, y_train)\n",
    "    y_pred = model.predict(X_test)\n",
    "    scores.append(accuracy_score(y_test, y_pred))\n",
    "    names.append(name)\n",
    "\n",
    "tr_split = pd.DataFrame({'Name': names, 'Score': scores})\n",
    "print(tr_split)\n",
    "tr_split.to_csv('withoutliers.csv')"
   ]
  },
  {
   "cell_type": "code",
   "execution_count": 126,
   "metadata": {},
   "outputs": [
    {
     "data": {
      "image/png": "[encoded data removed]",
      "text/plain": [
       "<Figure size 432x288 with 1 Axes>"
      ]
     },
     "metadata": {
      "needs_background": "light"
     },
     "output_type": "display_data"
    },
    {
     "data": {
      "text/plain": [
       "<Figure size 432x288 with 0 Axes>"
      ]
     },
     "metadata": {},
     "output_type": "display_data"
    }
   ],
   "source": [
    "axis = sns.barplot(x = 'Name', y = 'Score', data = tr_split)\n",
    "axis.set(xlabel='Classifier', ylabel='Accuracy')\n",
    "\n",
    "for p in axis.patches:\n",
    "    height = p.get_height()\n",
    "    axis.text(p.get_x() + p.get_width()/2, height + 0.005, '{:1.4f}'.format(height), ha=\"center\") \n",
    "    \n",
    "plt.show()\n",
    "plt.savefig('xx1.png')"
   ]
  },
  {
   "cell_type": "markdown",
   "metadata": {},
   "source": [
    "### Replacing '0' values into mean value"
   ]
  },
  {
   "cell_type": "code",
   "execution_count": 127,
   "metadata": {},
   "outputs": [
    {
     "name": "stdout",
     "output_type": "stream",
     "text": [
      "pregnant    0\n",
      "glucose     0\n",
      "bp          0\n",
      "skin        0\n",
      "insulin     0\n",
      "bmi         0\n",
      "pedigree    0\n",
      "age         0\n",
      "outcome     0\n",
      "dtype: int64\n"
     ]
    },
    {
     "data": {
      "text/html": [
       "<div>\n",
       "<style scoped>\n",
       "    .dataframe tbody tr th:only-of-type {\n",
       "        vertical-align: middle;\n",
       "    }\n",
       "\n",
       "    .dataframe tbody tr th {\n",
       "        vertical-align: top;\n",
       "    }\n",
       "\n",
       "    .dataframe thead th {\n",
       "        text-align: right;\n",
       "    }\n",
       "</style>\n",
       "<table border=\"1\" class=\"dataframe\">\n",
       "  <thead>\n",
       "    <tr style=\"text-align: right;\">\n",
       "      <th></th>\n",
       "      <th>pregnant</th>\n",
       "      <th>glucose</th>\n",
       "      <th>bp</th>\n",
       "      <th>skin</th>\n",
       "      <th>insulin</th>\n",
       "      <th>bmi</th>\n",
       "      <th>pedigree</th>\n",
       "      <th>age</th>\n",
       "      <th>outcome</th>\n",
       "    </tr>\n",
       "  </thead>\n",
       "  <tbody>\n",
       "    <tr>\n",
       "      <th>0</th>\n",
       "      <td>6</td>\n",
       "      <td>148</td>\n",
       "      <td>72</td>\n",
       "      <td>35</td>\n",
       "      <td>0</td>\n",
       "      <td>33.6</td>\n",
       "      <td>0.627</td>\n",
       "      <td>50</td>\n",
       "      <td>1</td>\n",
       "    </tr>\n",
       "    <tr>\n",
       "      <th>1</th>\n",
       "      <td>1</td>\n",
       "      <td>85</td>\n",
       "      <td>66</td>\n",
       "      <td>29</td>\n",
       "      <td>0</td>\n",
       "      <td>26.6</td>\n",
       "      <td>0.351</td>\n",
       "      <td>31</td>\n",
       "      <td>0</td>\n",
       "    </tr>\n",
       "    <tr>\n",
       "      <th>2</th>\n",
       "      <td>8</td>\n",
       "      <td>183</td>\n",
       "      <td>64</td>\n",
       "      <td>0</td>\n",
       "      <td>0</td>\n",
       "      <td>23.3</td>\n",
       "      <td>0.672</td>\n",
       "      <td>32</td>\n",
       "      <td>1</td>\n",
       "    </tr>\n",
       "    <tr>\n",
       "      <th>3</th>\n",
       "      <td>1</td>\n",
       "      <td>89</td>\n",
       "      <td>66</td>\n",
       "      <td>23</td>\n",
       "      <td>94</td>\n",
       "      <td>28.1</td>\n",
       "      <td>0.167</td>\n",
       "      <td>21</td>\n",
       "      <td>0</td>\n",
       "    </tr>\n",
       "    <tr>\n",
       "      <th>4</th>\n",
       "      <td>0</td>\n",
       "      <td>137</td>\n",
       "      <td>40</td>\n",
       "      <td>35</td>\n",
       "      <td>168</td>\n",
       "      <td>43.1</td>\n",
       "      <td>2.288</td>\n",
       "      <td>33</td>\n",
       "      <td>1</td>\n",
       "    </tr>\n",
       "  </tbody>\n",
       "</table>\n",
       "</div>"
      ],
      "text/plain": [
       "   pregnant  glucose  bp  skin  insulin   bmi  pedigree  age  outcome\n",
       "0         6      148  72    35        0  33.6     0.627   50        1\n",
       "1         1       85  66    29        0  26.6     0.351   31        0\n",
       "2         8      183  64     0        0  23.3     0.672   32        1\n",
       "3         1       89  66    23       94  28.1     0.167   21        0\n",
       "4         0      137  40    35      168  43.1     2.288   33        1"
      ]
     },
     "execution_count": 127,
     "metadata": {},
     "output_type": "execute_result"
    }
   ],
   "source": [
    "diabetes[['glucose', 'bp', 'skin', 'insulin', 'bmi']] = diabetes[['glucose', 'bp', 'skin', 'insulin', 'bmi']]\n",
    "print(diabetes.isnull().sum())\n",
    "diabetes.head()\n"
   ]
  },
  {
   "cell_type": "code",
   "execution_count": 128,
   "metadata": {},
   "outputs": [
    {
     "data": {
      "text/html": [
       "<div>\n",
       "<style scoped>\n",
       "    .dataframe tbody tr th:only-of-type {\n",
       "        vertical-align: middle;\n",
       "    }\n",
       "\n",
       "    .dataframe tbody tr th {\n",
       "        vertical-align: top;\n",
       "    }\n",
       "\n",
       "    .dataframe thead th {\n",
       "        text-align: right;\n",
       "    }\n",
       "</style>\n",
       "<table border=\"1\" class=\"dataframe\">\n",
       "  <thead>\n",
       "    <tr style=\"text-align: right;\">\n",
       "      <th></th>\n",
       "      <th>pregnant</th>\n",
       "      <th>glucose</th>\n",
       "      <th>bp</th>\n",
       "      <th>skin</th>\n",
       "      <th>insulin</th>\n",
       "      <th>bmi</th>\n",
       "      <th>pedigree</th>\n",
       "      <th>age</th>\n",
       "      <th>outcome</th>\n",
       "    </tr>\n",
       "  </thead>\n",
       "  <tbody>\n",
       "    <tr>\n",
       "      <th>0</th>\n",
       "      <td>6</td>\n",
       "      <td>148</td>\n",
       "      <td>72</td>\n",
       "      <td>35</td>\n",
       "      <td>0</td>\n",
       "      <td>33.6</td>\n",
       "      <td>0.627</td>\n",
       "      <td>50</td>\n",
       "      <td>1</td>\n",
       "    </tr>\n",
       "    <tr>\n",
       "      <th>1</th>\n",
       "      <td>1</td>\n",
       "      <td>85</td>\n",
       "      <td>66</td>\n",
       "      <td>29</td>\n",
       "      <td>0</td>\n",
       "      <td>26.6</td>\n",
       "      <td>0.351</td>\n",
       "      <td>31</td>\n",
       "      <td>0</td>\n",
       "    </tr>\n",
       "    <tr>\n",
       "      <th>2</th>\n",
       "      <td>8</td>\n",
       "      <td>183</td>\n",
       "      <td>64</td>\n",
       "      <td>0</td>\n",
       "      <td>0</td>\n",
       "      <td>23.3</td>\n",
       "      <td>0.672</td>\n",
       "      <td>32</td>\n",
       "      <td>1</td>\n",
       "    </tr>\n",
       "    <tr>\n",
       "      <th>3</th>\n",
       "      <td>1</td>\n",
       "      <td>89</td>\n",
       "      <td>66</td>\n",
       "      <td>23</td>\n",
       "      <td>94</td>\n",
       "      <td>28.1</td>\n",
       "      <td>0.167</td>\n",
       "      <td>21</td>\n",
       "      <td>0</td>\n",
       "    </tr>\n",
       "    <tr>\n",
       "      <th>4</th>\n",
       "      <td>0</td>\n",
       "      <td>137</td>\n",
       "      <td>40</td>\n",
       "      <td>35</td>\n",
       "      <td>168</td>\n",
       "      <td>43.1</td>\n",
       "      <td>2.288</td>\n",
       "      <td>33</td>\n",
       "      <td>1</td>\n",
       "    </tr>\n",
       "  </tbody>\n",
       "</table>\n",
       "</div>"
      ],
      "text/plain": [
       "   pregnant  glucose  bp  skin  insulin   bmi  pedigree  age  outcome\n",
       "0         6      148  72    35        0  33.6     0.627   50        1\n",
       "1         1       85  66    29        0  26.6     0.351   31        0\n",
       "2         8      183  64     0        0  23.3     0.672   32        1\n",
       "3         1       89  66    23       94  28.1     0.167   21        0\n",
       "4         0      137  40    35      168  43.1     2.288   33        1"
      ]
     },
     "execution_count": 128,
     "metadata": {},
     "output_type": "execute_result"
    }
   ],
   "source": [
    "diabetes.fillna(diabetes.mean(), inplace=True)\n",
    "#diabetes.isnull().sum()\n",
    "diabetes.head()\n",
    "#diabetes.describe()"
   ]
  },
  {
   "cell_type": "code",
   "execution_count": 129,
   "metadata": {},
   "outputs": [],
   "source": [
    "feature_names=['pregnant', 'glucose', 'bp', 'skin', 'insulin', 'bmi', 'pedigree', 'age']\n",
    "X = diabetes[feature_names]\n",
    "y = diabetes.outcome"
   ]
  },
  {
   "cell_type": "code",
   "execution_count": 130,
   "metadata": {},
   "outputs": [],
   "source": [
    "X_train, X_test, y_train, y_test = train_test_split(X, y, test_size=0.2, random_state=0)\n",
    "from sklearn.preprocessing import StandardScaler\n",
    "sc = MinMaxScaler()\n",
    "X_train = sc.fit_transform(X_train)\n",
    "X_test = sc.transform(X_test)"
   ]
  },
  {
   "cell_type": "code",
   "execution_count": 131,
   "metadata": {},
   "outputs": [
    {
     "name": "stdout",
     "output_type": "stream",
     "text": [
      "[[0.41176471 0.75757576 0.63934426 ... 0.52459016 0.26216909 0.55      ]\n",
      " [0.23529412 0.48989899 0.49180328 ... 0.42026826 0.1558497  0.01666667]\n",
      " [0.         0.83333333 0.73770492 ... 0.77943368 0.14901793 0.03333333]\n",
      " ...\n",
      " [0.23529412 0.47474747 0.53278689 ... 0.3681073  0.02988898 0.        ]\n",
      " [0.64705882 0.42929293 0.60655738 ... 0.4485842  0.09479078 0.23333333]\n",
      " [0.29411765 0.68686869 0.67213115 ... 0.         0.23996584 0.8       ]]\n"
     ]
    }
   ],
   "source": [
    "print(X_train)"
   ]
  },
  {
   "cell_type": "code",
   "execution_count": 132,
   "metadata": {},
   "outputs": [],
   "source": [
    "# Initial model selection process\n",
    "models = []\n",
    "\n",
    "models.append(('KNN', KNeighborsClassifier(n_neighbors=15)))\n",
    "models.append(('SVC', SVC(gamma=.2)))\n",
    "models.append(('LR', LogisticRegression(solver='lbfgs', max_iter=4000)))\n",
    "models.append(('DT', DecisionTreeClassifier(criterion='entropy',max_depth=4)))\n",
    "models.append(('GNB', GaussianNB()))\n",
    "models.append(('RF', RandomForestClassifier(n_estimators=100)))\n",
    "#models.append(('ADB', AdaBoostClassifier(n_estimators=20,learning_rate=1,random_state=0)))\n",
    "models.append(('GB', GradientBoostingClassifier(n_estimators=50, learning_rate=.1, random_state=0)))\n",
    "models.append(('XGB',  XGBClassifier(learning_rate=0.1,subsample = 0.7,objective='binary:logistic',n_estimators=20,max_depth=4,gamma=0)))\n",
    "#models.append(('XGB',  XGBClassifier(objective='binary:logistic', gamma= 4, learning_rate=  0.15, max_depth= 1,n_estimators=60 ,subsample= 0.1)))\n",
    "#'gamma': 4, 'learning_rate': 0.15000000000000002, 'max_depth': 1, 'n_estimators': 60, 'objective': 'binary:logistic', 'subsample': 0.1\n",
    "#models.append(('XGB',  XGBClassifier(learning_rate=0.1,objective='binary:logistic',alpha= 0,colsample_bytree= 0.9, eta= 0.17500000000000002, gamma= 0.8500000000000001,reg_lambda= 1.9000000000000001, max_depth= 4, min_child_weight=2.0, n_estimators= 587, subsample= 0.8500000000000001)))"
   ]
  },
  {
   "cell_type": "code",
   "execution_count": 133,
   "metadata": {},
   "outputs": [
    {
     "name": "stdout",
     "output_type": "stream",
     "text": [
      "[19:01:03] WARNING: ..\\src\\learner.cc:1115: Starting in XGBoost 1.3.0, the default evaluation metric used with the objective 'binary:logistic' was changed from 'error' to 'logloss'. Explicitly set eval_metric if you'd like to restore the old behavior.\n",
      "  Name     Score\n",
      "0  KNN  0.792208\n",
      "1  SVC  0.831169\n",
      "2   LR  0.818182\n",
      "3   DT  0.740260\n",
      "4  GNB  0.792208\n",
      "5   RF  0.818182\n",
      "6   GB  0.818182\n",
      "7  XGB  0.798701\n"
     ]
    },
    {
     "name": "stderr",
     "output_type": "stream",
     "text": [
      "C:\\Users\\asus\\anaconda3\\lib\\site-packages\\xgboost\\sklearn.py:1224: UserWarning: The use of label encoder in XGBClassifier is deprecated and will be removed in a future release. To remove this warning, do the following: 1) Pass option use_label_encoder=False when constructing XGBClassifier object; and 2) Encode your labels (y) as integers starting with 0, i.e. 0, 1, 2, ..., [num_class - 1].\n",
      "  warnings.warn(label_encoder_deprecation_msg, UserWarning)\n"
     ]
    }
   ],
   "source": [
    "names = []\n",
    "scores = []\n",
    "\n",
    "for name,model in models:\n",
    "    model.fit(X_train, y_train)\n",
    "    y_pred = model.predict(X_test)\n",
    "    scores.append(accuracy_score(y_test, y_pred))\n",
    "    names.append(name)\n",
    "\n",
    "tr_split = pd.DataFrame({'Name': names, 'Score': scores})\n",
    "print(tr_split)\n",
    "#tr_split.to_csv('after cleaning.csv')"
   ]
  },
  {
   "cell_type": "code",
   "execution_count": 135,
   "metadata": {},
   "outputs": [
    {
     "name": "stdout",
     "output_type": "stream",
     "text": [
      "[0.7922077922077922, 0.8311688311688312, 0.8181818181818182, 0.7402597402597403, 0.7922077922077922, 0.8181818181818182, 0.8181818181818182, 0.7987012987012987]\n"
     ]
    }
   ],
   "source": [
    "print(scores)"
   ]
  },
  {
   "cell_type": "code",
   "execution_count": 137,
   "metadata": {},
   "outputs": [
    {
     "data": {
      "image/png": "[encoded data removed]",
      "text/plain": [
       "<Figure size 432x288 with 1 Axes>"
      ]
     },
     "metadata": {
      "needs_background": "light"
     },
     "output_type": "display_data"
    }
   ],
   "source": [
    "axis = sns.barplot(x = 'Name', y = 'Score', data = tr_split)\n",
    "axis.set(xlabel='Classifier', ylabel='Accuracy')\n",
    "\n",
    "for p in axis.patches:\n",
    "    height = p.get_height()\n",
    "    axis.text(p.get_x() + p.get_width()/2, height + 0.005, '{:1.4f}'.format(height), ha=\"center\") \n",
    "    \n",
    "plt.show()"
   ]
  },
  {
   "cell_type": "markdown",
   "metadata": {},
   "source": [
    "### Applying PCA without scaling through standazation(Z score normalization)"
   ]
  },
  {
   "cell_type": "code",
   "execution_count": 138,
   "metadata": {},
   "outputs": [],
   "source": [
    "X_train, X_test, y_train, y_test = train_test_split(X, y, test_size=0.2, random_state=0)\n",
    "from sklearn.decomposition import PCA\n",
    "pca = PCA(n_components = 4)\n",
    "X_train = pca.fit_transform(X_train)\n",
    "X_test = pca.transform(X_test)\n",
    "explained_variance = pca.explained_variance_ratio_"
   ]
  },
  {
   "cell_type": "code",
   "execution_count": 139,
   "metadata": {},
   "outputs": [],
   "source": [
    "# Initial model selection process\n",
    "models = []\n",
    "\n",
    "models.append(('KNN', KNeighborsClassifier(n_neighbors=15)))\n",
    "models.append(('SVC', SVC(gamma=.2)))\n",
    "models.append(('LR', LogisticRegression(solver='lbfgs', max_iter=4000)))\n",
    "models.append(('DT', DecisionTreeClassifier(criterion='entropy',max_depth=4)))\n",
    "models.append(('GNB', GaussianNB()))\n",
    "models.append(('RF', RandomForestClassifier(n_estimators=100)))\n",
    "models.append(('GB', GradientBoostingClassifier(n_estimators=100, learning_rate=.01, random_state=0)))\n",
    "models.append(('XGB',  XGBClassifier(learning_rate=0.1,subsample = 0.8,objective='binary:logistic',n_estimators=100,max_depth=4,gamma=10)))"
   ]
  },
  {
   "cell_type": "code",
   "execution_count": 140,
   "metadata": {},
   "outputs": [
    {
     "name": "stdout",
     "output_type": "stream",
     "text": [
      "[19:02:25] WARNING: ..\\src\\learner.cc:1115: Starting in XGBoost 1.3.0, the default evaluation metric used with the objective 'binary:logistic' was changed from 'error' to 'logloss'. Explicitly set eval_metric if you'd like to restore the old behavior.\n",
      "  Name     Score\n",
      "0  KNN  0.785714\n",
      "1  SVC  0.694805\n",
      "2   LR  0.753247\n",
      "3   DT  0.707792\n",
      "4  GNB  0.766234\n",
      "5   RF  0.714286\n",
      "6   GB  0.766234\n",
      "7  XGB  0.759740\n"
     ]
    },
    {
     "name": "stderr",
     "output_type": "stream",
     "text": [
      "C:\\Users\\asus\\anaconda3\\lib\\site-packages\\xgboost\\sklearn.py:1224: UserWarning: The use of label encoder in XGBClassifier is deprecated and will be removed in a future release. To remove this warning, do the following: 1) Pass option use_label_encoder=False when constructing XGBClassifier object; and 2) Encode your labels (y) as integers starting with 0, i.e. 0, 1, 2, ..., [num_class - 1].\n",
      "  warnings.warn(label_encoder_deprecation_msg, UserWarning)\n"
     ]
    }
   ],
   "source": [
    "names = []\n",
    "scores = []\n",
    "\n",
    "for name,model in models:\n",
    "    model.fit(X_train, y_train)\n",
    "    y_pred = model.predict(X_test)\n",
    "    scores.append(accuracy_score(y_test, y_pred))\n",
    "    names.append(name)\n",
    "\n",
    "tr_split = pd.DataFrame({'Name': names, 'Score': scores})\n",
    "print(tr_split)\n",
    "\n"
   ]
  },
  {
   "cell_type": "code",
   "execution_count": 141,
   "metadata": {},
   "outputs": [
    {
     "data": {
      "image/png": "[encoded data removed]",
      "text/plain": [
       "<Figure size 432x288 with 1 Axes>"
      ]
     },
     "metadata": {
      "needs_background": "light"
     },
     "output_type": "display_data"
    }
   ],
   "source": [
    "axis = sns.barplot(x = 'Name', y = 'Score', data = tr_split)\n",
    "axis.set(xlabel='Classifier', ylabel='Accuracy')\n",
    "\n",
    "for p in axis.patches:\n",
    "    height = p.get_height()\n",
    "    axis.text(p.get_x() + p.get_width()/2, height + 0.005, '{:1.4f}'.format(height), ha=\"center\") \n",
    "    \n",
    "plt.show()"
   ]
  },
  {
   "cell_type": "markdown",
   "metadata": {},
   "source": [
    "### PCA with Feature Scaling through standazation(Z score normalization)"
   ]
  },
  {
   "cell_type": "code",
   "execution_count": 142,
   "metadata": {},
   "outputs": [],
   "source": [
    "X_train, X_test, y_train, y_test = train_test_split(X, y, test_size=0.2, random_state=0)\n",
    "\n",
    "from sklearn.preprocessing import StandardScaler\n",
    "sc = StandardScaler()\n",
    "X_train = sc.fit_transform(X_train)\n",
    "X_test = sc.transform(X_test)\n",
    "\n",
    "from sklearn.decomposition import PCA\n",
    "pca = PCA(n_components = 4)\n",
    "X_train = pca.fit_transform(X_train)\n",
    "X_test = pca.transform(X_test)\n",
    "explained_variance = pca.explained_variance_ratio_"
   ]
  },
  {
   "cell_type": "code",
   "execution_count": 143,
   "metadata": {
    "scrolled": true
   },
   "outputs": [
    {
     "name": "stdout",
     "output_type": "stream",
     "text": [
      "[19:02:31] WARNING: ..\\src\\learner.cc:1115: Starting in XGBoost 1.3.0, the default evaluation metric used with the objective 'binary:logistic' was changed from 'error' to 'logloss'. Explicitly set eval_metric if you'd like to restore the old behavior.\n",
      "  Name     Score\n",
      "0  KNN  0.733766\n",
      "1  SVC  0.779221\n",
      "2   LR  0.740260\n",
      "3   DT  0.746753\n",
      "4  GNB  0.746753\n",
      "5   RF  0.740260\n",
      "6   GB  0.727273\n",
      "7  XGB  0.727273\n"
     ]
    },
    {
     "name": "stderr",
     "output_type": "stream",
     "text": [
      "C:\\Users\\asus\\anaconda3\\lib\\site-packages\\xgboost\\sklearn.py:1224: UserWarning: The use of label encoder in XGBClassifier is deprecated and will be removed in a future release. To remove this warning, do the following: 1) Pass option use_label_encoder=False when constructing XGBClassifier object; and 2) Encode your labels (y) as integers starting with 0, i.e. 0, 1, 2, ..., [num_class - 1].\n",
      "  warnings.warn(label_encoder_deprecation_msg, UserWarning)\n"
     ]
    }
   ],
   "source": [
    "# Initial model selection process\n",
    "models = []\n",
    "\n",
    "models.append(('KNN', KNeighborsClassifier(n_neighbors=15)))\n",
    "models.append(('SVC', SVC(gamma=.2)))\n",
    "models.append(('LR', LogisticRegression(solver='lbfgs', max_iter=4000)))\n",
    "models.append(('DT', DecisionTreeClassifier(criterion='entropy',max_depth=4)))\n",
    "models.append(('GNB', GaussianNB()))\n",
    "models.append(('RF', RandomForestClassifier(n_estimators=100)))\n",
    "models.append(('GB', GradientBoostingClassifier(n_estimators=100, learning_rate=.01, random_state=0)))\n",
    "models.append(('XGB',  XGBClassifier(learning_rate=0.1,subsample = 0.8,objective='binary:logistic',n_estimators=100,max_depth=4,gamma=10)))\n",
    "\n",
    "names = []\n",
    "scores = []\n",
    "\n",
    "for name,model in models:\n",
    "    model.fit(X_train, y_train)\n",
    "    y_pred = model.predict(X_test)\n",
    "    scores.append(accuracy_score(y_test, y_pred))\n",
    "    names.append(name)\n",
    "\n",
    "tr_split = pd.DataFrame({'Name': names, 'Score': scores})\n",
    "print(tr_split)\n",
    "tr_split.to_csv('PCAreasult.csv')"
   ]
  },
  {
   "cell_type": "code",
   "execution_count": 144,
   "metadata": {},
   "outputs": [
    {
     "data": {
      "image/png": "[encoded data removed]",
      "text/plain": [
       "<Figure size 432x288 with 1 Axes>"
      ]
     },
     "metadata": {
      "needs_background": "light"
     },
     "output_type": "display_data"
    }
   ],
   "source": [
    "axis = sns.barplot(x = 'Name', y = 'Score', data = tr_split)\n",
    "axis.set(xlabel='Classifier', ylabel='Accuracy')\n",
    "\n",
    "for p in axis.patches:\n",
    "    height = p.get_height()\n",
    "    axis.text(p.get_x() + p.get_width()/2, height + 0.005, '{:1.4f}'.format(height), ha=\"center\") \n",
    "    \n",
    "plt.show()"
   ]
  },
  {
   "cell_type": "markdown",
   "metadata": {},
   "source": [
    "### parameter tuning"
   ]
  },
  {
   "cell_type": "code",
   "execution_count": 145,
   "metadata": {},
   "outputs": [],
   "source": [
    "models = []\n",
    "\n",
    "models.append(('KNN', KNeighborsClassifier()))\n",
    "models.append(('SVC', SVC()))\n",
    "models.append(('LR', LogisticRegression()))\n",
    "models.append(('DT', DecisionTreeClassifier()))\n",
    "models.append(('GNB', GaussianNB()))\n",
    "models.append(('RF', RandomForestClassifier()))\n",
    "models.append(('GB', GradientBoostingClassifier()))\n",
    "models.append(('XGB',  XGBClassifier()))"
   ]
  },
  {
   "cell_type": "code",
   "execution_count": 146,
   "metadata": {},
   "outputs": [
    {
     "name": "stdout",
     "output_type": "stream",
     "text": [
      "[19:02:36] WARNING: ..\\src\\learner.cc:1115: Starting in XGBoost 1.3.0, the default evaluation metric used with the objective 'binary:logistic' was changed from 'error' to 'logloss'. Explicitly set eval_metric if you'd like to restore the old behavior.\n"
     ]
    },
    {
     "name": "stderr",
     "output_type": "stream",
     "text": [
      "C:\\Users\\asus\\anaconda3\\lib\\site-packages\\xgboost\\sklearn.py:1224: UserWarning: The use of label encoder in XGBClassifier is deprecated and will be removed in a future release. To remove this warning, do the following: 1) Pass option use_label_encoder=False when constructing XGBClassifier object; and 2) Encode your labels (y) as integers starting with 0, i.e. 0, 1, 2, ..., [num_class - 1].\n",
      "  warnings.warn(label_encoder_deprecation_msg, UserWarning)\n"
     ]
    }
   ],
   "source": [
    "names = []\n",
    "scores = []\n",
    "\n",
    "for name,model in models:\n",
    "    model.fit(X_train, y_train)\n",
    "    y_pred = model.predict(X_test)\n",
    "    scores.append(accuracy_score(y_test, y_pred))\n",
    "    names.append(name)\n",
    "\n",
    "tr_split = pd.DataFrame({'Name': names, 'Score': scores})\n",
    "#print(tr_split)\n",
    "tr_split.to_csv('withoutparameter.csv')\n"
   ]
  },
  {
   "cell_type": "code",
   "execution_count": 147,
   "metadata": {},
   "outputs": [
    {
     "data": {
      "image/png": "[encoded data removed]",
      "text/plain": [
       "<Figure size 432x288 with 1 Axes>"
      ]
     },
     "metadata": {
      "needs_background": "light"
     },
     "output_type": "display_data"
    }
   ],
   "source": [
    "axis = sns.barplot(x = 'Name', y = 'Score', data = tr_split)\n",
    "axis.set(xlabel='Classifier', ylabel='Accuracy')\n",
    "\n",
    "for p in axis.patches:\n",
    "    height = p.get_height()\n",
    "    axis.text(p.get_x() + p.get_width()/2, height + 0.005, '{:1.4f}'.format(height), ha=\"center\") \n",
    "    \n",
    "plt.show()"
   ]
  },
  {
   "cell_type": "code",
   "execution_count": 148,
   "metadata": {},
   "outputs": [],
   "source": [
    "# Initial model selection process\n",
    "models = []\n",
    "\n",
    "models.append(('KNN', KNeighborsClassifier(n_neighbors=5)))\n",
    "models.append(('SVC', SVC(gamma=.2)))\n",
    "models.append(('LR', LogisticRegression(solver='lbfgs', max_iter=1000)))\n",
    "models.append(('DT', DecisionTreeClassifier(criterion='gini',max_depth=3)))\n",
    "models.append(('GNB', GaussianNB()))\n",
    "models.append(('RF', RandomForestClassifier(n_estimators=50)))\n",
    "models.append(('GB', GradientBoostingClassifier(n_estimators=50, learning_rate=.1, random_state=0)))\n",
    "models.append(('XGB',  XGBClassifier(learning_rate=0.1,subsample = 0.8,objective='binary:logistic',n_estimators=100,max_depth=4,gamma=10)))\n"
   ]
  },
  {
   "cell_type": "code",
   "execution_count": 149,
   "metadata": {},
   "outputs": [
    {
     "name": "stdout",
     "output_type": "stream",
     "text": [
      "[19:02:40] WARNING: ..\\src\\learner.cc:1115: Starting in XGBoost 1.3.0, the default evaluation metric used with the objective 'binary:logistic' was changed from 'error' to 'logloss'. Explicitly set eval_metric if you'd like to restore the old behavior.\n",
      "  Name     Score\n",
      "0  KNN  0.727273\n",
      "1  SVC  0.779221\n",
      "2   LR  0.740260\n",
      "3   DT  0.707792\n",
      "4  GNB  0.746753\n",
      "5   RF  0.733766\n",
      "6   GB  0.727273\n",
      "7  XGB  0.727273\n"
     ]
    },
    {
     "name": "stderr",
     "output_type": "stream",
     "text": [
      "C:\\Users\\asus\\anaconda3\\lib\\site-packages\\xgboost\\sklearn.py:1224: UserWarning: The use of label encoder in XGBClassifier is deprecated and will be removed in a future release. To remove this warning, do the following: 1) Pass option use_label_encoder=False when constructing XGBClassifier object; and 2) Encode your labels (y) as integers starting with 0, i.e. 0, 1, 2, ..., [num_class - 1].\n",
      "  warnings.warn(label_encoder_deprecation_msg, UserWarning)\n"
     ]
    }
   ],
   "source": [
    "names = []\n",
    "scores = []\n",
    "\n",
    "for name,model in models:\n",
    "    model.fit(X_train, y_train)\n",
    "    y_pred = model.predict(X_test)\n",
    "    scores.append(accuracy_score(y_test, y_pred))\n",
    "    names.append(name)\n",
    "\n",
    "tr_split = pd.DataFrame({'Name': names, 'Score': scores})\n",
    "print(tr_split)"
   ]
  },
  {
   "cell_type": "code",
   "execution_count": 150,
   "metadata": {},
   "outputs": [
    {
     "data": {
      "image/png": "[encoded data removed]",
      "text/plain": [
       "<Figure size 432x288 with 1 Axes>"
      ]
     },
     "metadata": {
      "needs_background": "light"
     },
     "output_type": "display_data"
    }
   ],
   "source": [
    "axis = sns.barplot(x = 'Name', y = 'Score', data = tr_split)\n",
    "axis.set(xlabel='Classifier', ylabel='Accuracy')\n",
    "\n",
    "for p in axis.patches:\n",
    "    height = p.get_height()\n",
    "    axis.text(p.get_x() + p.get_width()/2, height + 0.005, '{:1.4f}'.format(height), ha=\"center\") \n",
    "    \n",
    "plt.show()"
   ]
  },
  {
   "cell_type": "code",
   "execution_count": 151,
   "metadata": {},
   "outputs": [],
   "source": [
    "X_train, X_test, y_train, y_test = train_test_split(X, y, test_size=0.2, random_state=0)\n",
    "\n",
    "from sklearn.preprocessing import StandardScaler\n",
    "sc = StandardScaler()\n",
    "X_train = sc.fit_transform(X_train)\n",
    "X_test = sc.transform(X_test)\n",
    "\n",
    "models = []\n",
    "\n",
    "models.append(('KNN', KNeighborsClassifier(n_neighbors=15)))\n",
    "#models.append(('SVC', SVC(probability=True)))\n",
    "models.append(('SVC', SVC(C=1.0, kernel='rbf', degree=3, gamma='auto')))\n",
    "models.append(('LR', LogisticRegression(solver='lbfgs', max_iter=4000)))\n",
    "models.append(('DT', DecisionTreeClassifier(criterion='entropy',max_depth=4)))\n",
    "models.append(('GNB', GaussianNB()))\n",
    "models.append(('RF', RandomForestClassifier(n_estimators=100)))\n",
    "models.append(('GB', GradientBoostingClassifier(n_estimators=100, learning_rate=.01, random_state=0)))\n",
    "models.append(('XGB',  XGBClassifier(learning_rate=0.1,subsample = .8,objective='binary:logistic',n_estimators=100,max_depth=5,gamma=1)))"
   ]
  },
  {
   "cell_type": "code",
   "execution_count": 152,
   "metadata": {},
   "outputs": [
    {
     "name": "stdout",
     "output_type": "stream",
     "text": [
      "[19:02:45] WARNING: ..\\src\\learner.cc:1115: Starting in XGBoost 1.3.0, the default evaluation metric used with the objective 'binary:logistic' was changed from 'error' to 'logloss'. Explicitly set eval_metric if you'd like to restore the old behavior.\n",
      "  Name     Score\n",
      "0  KNN  0.805195\n",
      "1  SVC  0.792208\n",
      "2   LR  0.824675\n",
      "3   DT  0.733766\n",
      "4  GNB  0.792208\n",
      "5   RF  0.798701\n",
      "6   GB  0.805195\n",
      "7  XGB  0.831169\n"
     ]
    },
    {
     "name": "stderr",
     "output_type": "stream",
     "text": [
      "C:\\Users\\asus\\anaconda3\\lib\\site-packages\\xgboost\\sklearn.py:1224: UserWarning: The use of label encoder in XGBClassifier is deprecated and will be removed in a future release. To remove this warning, do the following: 1) Pass option use_label_encoder=False when constructing XGBClassifier object; and 2) Encode your labels (y) as integers starting with 0, i.e. 0, 1, 2, ..., [num_class - 1].\n",
      "  warnings.warn(label_encoder_deprecation_msg, UserWarning)\n"
     ]
    }
   ],
   "source": [
    "names = []\n",
    "scores = []\n",
    "\n",
    "for name,model in models:\n",
    "    model.fit(X_train, y_train)\n",
    "    y_pred = model.predict(X_test)\n",
    "    scores.append(accuracy_score(y_test, y_pred))\n",
    "    names.append(name)\n",
    "\n",
    "tr_split = pd.DataFrame({'Name': names, 'Score': scores})\n",
    "print(tr_split)"
   ]
  },
  {
   "cell_type": "code",
   "execution_count": 153,
   "metadata": {},
   "outputs": [
    {
     "data": {
      "image/png": "[encoded data removed]",
      "text/plain": [
       "<Figure size 432x288 with 1 Axes>"
      ]
     },
     "metadata": {
      "needs_background": "light"
     },
     "output_type": "display_data"
    }
   ],
   "source": [
    "axis = sns.barplot(x = 'Name', y = 'Score', data = tr_split)\n",
    "axis.set(xlabel='Classifier', ylabel='Accuracy')\n",
    "\n",
    "for p in axis.patches:\n",
    "    height = p.get_height()\n",
    "    axis.text(p.get_x() + p.get_width()/2, height + 0.005, '{:1.4f}'.format(height), ha=\"center\") \n",
    "    \n",
    "plt.show()"
   ]
  },
  {
   "cell_type": "code",
   "execution_count": 154,
   "metadata": {},
   "outputs": [
    {
     "name": "stdout",
     "output_type": "stream",
     "text": [
      "KNN\n"
     ]
    },
    {
     "data": {
      "image/png": "[encoded data removed]",
      "text/plain": [
       "<Figure size 432x288 with 2 Axes>"
      ]
     },
     "metadata": {
      "needs_background": "light"
     },
     "output_type": "display_data"
    },
    {
     "name": "stdout",
     "output_type": "stream",
     "text": [
      "SVC\n"
     ]
    },
    {
     "data": {
      "image/png": "[encoded data removed]",
      "text/plain": [
       "<Figure size 432x288 with 2 Axes>"
      ]
     },
     "metadata": {
      "needs_background": "light"
     },
     "output_type": "display_data"
    },
    {
     "name": "stdout",
     "output_type": "stream",
     "text": [
      "LR\n"
     ]
    },
    {
     "data": {
      "image/png": "[encoded data removed]",
      "text/plain": [
       "<Figure size 432x288 with 2 Axes>"
      ]
     },
     "metadata": {
      "needs_background": "light"
     },
     "output_type": "display_data"
    },
    {
     "name": "stdout",
     "output_type": "stream",
     "text": [
      "DT\n"
     ]
    },
    {
     "data": {
      "image/png": "[encoded data removed]",
      "text/plain": [
       "<Figure size 432x288 with 2 Axes>"
      ]
     },
     "metadata": {
      "needs_background": "light"
     },
     "output_type": "display_data"
    },
    {
     "name": "stdout",
     "output_type": "stream",
     "text": [
      "GNB\n"
     ]
    },
    {
     "data": {
      "image/png": "[encoded data removed]",
      "text/plain": [
       "<Figure size 432x288 with 2 Axes>"
      ]
     },
     "metadata": {
      "needs_background": "light"
     },
     "output_type": "display_data"
    },
    {
     "name": "stdout",
     "output_type": "stream",
     "text": [
      "RF\n"
     ]
    },
    {
     "data": {
      "image/png": "[encoded data removed]",
      "text/plain": [
       "<Figure size 432x288 with 2 Axes>"
      ]
     },
     "metadata": {
      "needs_background": "light"
     },
     "output_type": "display_data"
    },
    {
     "name": "stdout",
     "output_type": "stream",
     "text": [
      "GB\n"
     ]
    },
    {
     "data": {
      "image/png": "[encoded data removed]",
      "text/plain": [
       "<Figure size 432x288 with 2 Axes>"
      ]
     },
     "metadata": {
      "needs_background": "light"
     },
     "output_type": "display_data"
    },
    {
     "name": "stdout",
     "output_type": "stream",
     "text": [
      "[19:02:49] WARNING: ..\\src\\learner.cc:1115: Starting in XGBoost 1.3.0, the default evaluation metric used with the objective 'binary:logistic' was changed from 'error' to 'logloss'. Explicitly set eval_metric if you'd like to restore the old behavior.\n"
     ]
    },
    {
     "name": "stderr",
     "output_type": "stream",
     "text": [
      "C:\\Users\\asus\\anaconda3\\lib\\site-packages\\xgboost\\sklearn.py:1224: UserWarning: The use of label encoder in XGBClassifier is deprecated and will be removed in a future release. To remove this warning, do the following: 1) Pass option use_label_encoder=False when constructing XGBClassifier object; and 2) Encode your labels (y) as integers starting with 0, i.e. 0, 1, 2, ..., [num_class - 1].\n",
      "  warnings.warn(label_encoder_deprecation_msg, UserWarning)\n"
     ]
    },
    {
     "name": "stdout",
     "output_type": "stream",
     "text": [
      "XGB\n"
     ]
    },
    {
     "data": {
      "image/png": "[encoded data removed]",
      "text/plain": [
       "<Figure size 432x288 with 2 Axes>"
      ]
     },
     "metadata": {
      "needs_background": "light"
     },
     "output_type": "display_data"
    }
   ],
   "source": [
    "import seaborn\n",
    "from sklearn.metrics import confusion_matrix\n",
    "import matplotlib.pyplot as plt\n",
    "\n",
    "for name,model in models:\n",
    "    model.fit(X_train, y_train)\n",
    "    y_pred = model.predict(X_test)\n",
    "    seaborn.heatmap(confusion_matrix(y_test,y_pred),annot=True,cmap='Pastel1')\n",
    "    print(name)\n",
    "    plt.show()\n"
   ]
  },
  {
   "cell_type": "code",
   "execution_count": 155,
   "metadata": {},
   "outputs": [
    {
     "name": "stdout",
     "output_type": "stream",
     "text": [
      "[19:02:51] WARNING: ..\\src\\learner.cc:1115: Starting in XGBoost 1.3.0, the default evaluation metric used with the objective 'binary:logistic' was changed from 'error' to 'logloss'. Explicitly set eval_metric if you'd like to restore the old behavior.\n"
     ]
    },
    {
     "name": "stderr",
     "output_type": "stream",
     "text": [
      "C:\\Users\\asus\\anaconda3\\lib\\site-packages\\xgboost\\sklearn.py:1224: UserWarning: The use of label encoder in XGBClassifier is deprecated and will be removed in a future release. To remove this warning, do the following: 1) Pass option use_label_encoder=False when constructing XGBClassifier object; and 2) Encode your labels (y) as integers starting with 0, i.e. 0, 1, 2, ..., [num_class - 1].\n",
      "  warnings.warn(label_encoder_deprecation_msg, UserWarning)\n"
     ]
    }
   ],
   "source": [
    "from sklearn import metrics\n",
    "from sklearn.metrics import f1_score,matthews_corrcoef\n",
    "from sklearn.metrics import confusion_matrix, roc_curve, roc_auc_score\n",
    "fpr, tpr,_=roc_curve(model.predict(X_train),y_train,drop_intermediate=False)\n",
    "names = []\n",
    "AUC_score = []\n",
    "precision=[]\n",
    "Recall=[]\n",
    "Accuracy=[]\n",
    "F1_score=[]\n",
    "Matthews_corrcoef=[]\n",
    "specificity=[]\n",
    "for name,model in models:\n",
    "    model.fit(X_train, y_train)\n",
    "    y_pred = model.predict(X_test)\n",
    "    confusion = metrics.confusion_matrix(y_test, y_pred)\n",
    "    TP = confusion[1, 1]\n",
    "    TN = confusion[0, 0]\n",
    "    FP = confusion[0, 1]\n",
    "    FN = confusion[1, 0]\n",
    "    Accuracy.append(accuracy_score(y_test, y_pred))\n",
    "    Recall.append(metrics.recall_score(y_test, y_pred))\n",
    "    precision.append(metrics.precision_score(y_test, y_pred))\n",
    "    AUC_score.append(roc_auc_score(y_test, y_pred))\n",
    "    F1_score.append(f1_score(y_test,y_pred))\n",
    "    Matthews_corrcoef.append(matthews_corrcoef(y_test,y_pred))\n",
    "    specificity.append(TN / (TN + FP))\n",
    "    names.append(name)\n",
    "\n",
    "tr_split = pd.DataFrame({'Name': names, 'precision': precision,'Sensitivity':Recall,'F1 score':F1_score,'AUC score':AUC_score,'Accuracy':Accuracy,'Matthews corrcoef':Matthews_corrcoef,'specificity':specificity})\n",
    "#print(tr_split)\n",
    "tr_split.to_csv('result1.csv')\n"
   ]
  },
  {
   "cell_type": "code",
   "execution_count": 156,
   "metadata": {},
   "outputs": [
    {
     "data": {
      "image/png": "[encoded data removed]",
      "text/plain": [
       "<Figure size 1080x360 with 1 Axes>"
      ]
     },
     "metadata": {
      "needs_background": "light"
     },
     "output_type": "display_data"
    }
   ],
   "source": [
    "barWidth = 0.1\n",
    "\n",
    "r1 = np.arange(len(precision))\n",
    "r2 = [x + barWidth for x in r1]\n",
    "r3 = [x + barWidth for x in r2]\n",
    "r4 = [x + barWidth for x in r3]\n",
    "r5 = [x + barWidth for x in r4]\n",
    "r6 = [x + barWidth for x in r5]\n",
    "r7 = [x + barWidth for x in r6]\n",
    " \n",
    "# Make the plot\n",
    "plt.subplots(figsize=(15,5))\n",
    "plt.bar(r1, precision, color='blue', width=barWidth, edgecolor='white', label='precision')\n",
    "plt.bar(r2, Recall, color='red', width=barWidth, edgecolor='white', label='Recall')\n",
    "plt.bar(r3, F1_score, color='#f49842', width=barWidth, edgecolor='white', label='F1_score')\n",
    "plt.bar(r4, AUC_score, color='green', width=barWidth, edgecolor='white', label='AUC_score')\n",
    "plt.bar(r5, Accuracy, color='#7f6d5f', width=barWidth, edgecolor='white', label='Accuracy')\n",
    "plt.bar(r6, Matthews_corrcoef, color='#7313f2', width=barWidth, edgecolor='white', label='Matthews_corrcoef')\n",
    "plt.bar(r7, specificity, color='#6d0649', width=barWidth, edgecolor='white', label='specificity')\n",
    "# Add xticks on the middle of the group bars\n",
    "plt.xlabel('classifier', fontweight='bold')\n",
    "plt.ylabel('scores', fontweight='bold')\n",
    "plt.xticks([r + barWidth for r in range(len(precision))], ['KNN', 'SVC', 'LR', 'DT', 'GNB','RF','GB','XGB'])\n",
    " \n",
    "# Create legend & Show graphic\n",
    "plt.legend(loc='lower center',bbox_to_anchor=(0.5,1.05),ncol=4,fancybox=True,shadow=True)\n",
    "plt.show()"
   ]
  },
  {
   "cell_type": "code",
   "execution_count": 157,
   "metadata": {},
   "outputs": [
    {
     "name": "stdout",
     "output_type": "stream",
     "text": [
      "[19:03:04] WARNING: ..\\src\\learner.cc:1115: Starting in XGBoost 1.3.0, the default evaluation metric used with the objective 'binary:logistic' was changed from 'error' to 'logloss'. Explicitly set eval_metric if you'd like to restore the old behavior.\n",
      "  Name  TP   TN  FP  FN\n",
      "0  KNN  29   95  12  18\n",
      "1  SVC  26   96  11  21\n",
      "2   LR  29   98   9  18\n",
      "3   DT  30   83  24  17\n",
      "4  GNB  29   93  14  18\n",
      "5   RF  33   94  13  14\n",
      "6   GB  24  100   7  23\n",
      "7  XGB  36   92  15  11\n"
     ]
    },
    {
     "name": "stderr",
     "output_type": "stream",
     "text": [
      "C:\\Users\\asus\\anaconda3\\lib\\site-packages\\xgboost\\sklearn.py:1224: UserWarning: The use of label encoder in XGBClassifier is deprecated and will be removed in a future release. To remove this warning, do the following: 1) Pass option use_label_encoder=False when constructing XGBClassifier object; and 2) Encode your labels (y) as integers starting with 0, i.e. 0, 1, 2, ..., [num_class - 1].\n",
      "  warnings.warn(label_encoder_deprecation_msg, UserWarning)\n"
     ]
    }
   ],
   "source": [
    "from sklearn import metrics\n",
    "names = []\n",
    "TP=[]\n",
    "TN=[]\n",
    "FP=[]\n",
    "FN=[]\n",
    "for name,model in models:\n",
    "    model.fit(X_train, y_train)\n",
    "    y_pred = model.predict(X_test)\n",
    "    confusion = metrics.confusion_matrix(y_test, y_pred)\n",
    "    TP.append(confusion[1, 1])\n",
    "    TN.append(confusion[0, 0])\n",
    "    FP.append(confusion[0, 1])\n",
    "    FN.append(confusion[1, 0])\n",
    "    \n",
    "    names.append(name)\n",
    "\n",
    "tr_split = pd.DataFrame({'Name': names,'TP': TP,'TN': TN,'FP': FP,'FN': FN})\n",
    "print(tr_split)\n",
    "#tr_split.to_csv('confusionmatrix1.csv')"
   ]
  },
  {
   "cell_type": "code",
   "execution_count": 158,
   "metadata": {},
   "outputs": [
    {
     "name": "stdout",
     "output_type": "stream",
     "text": [
      "[19:03:05] WARNING: ..\\src\\learner.cc:1115: Starting in XGBoost 1.3.0, the default evaluation metric used with the objective 'binary:logistic' was changed from 'error' to 'logloss'. Explicitly set eval_metric if you'd like to restore the old behavior.\n",
      "  Name  speficity\n",
      "0  KNN   0.887850\n",
      "1  SVC   0.897196\n",
      "2   LR   0.915888\n",
      "3   DT   0.775701\n",
      "4  GNB   0.869159\n",
      "5   RF   0.869159\n",
      "6   GB   0.934579\n",
      "7  XGB   0.859813\n"
     ]
    },
    {
     "name": "stderr",
     "output_type": "stream",
     "text": [
      "C:\\Users\\asus\\anaconda3\\lib\\site-packages\\xgboost\\sklearn.py:1224: UserWarning: The use of label encoder in XGBClassifier is deprecated and will be removed in a future release. To remove this warning, do the following: 1) Pass option use_label_encoder=False when constructing XGBClassifier object; and 2) Encode your labels (y) as integers starting with 0, i.e. 0, 1, 2, ..., [num_class - 1].\n",
      "  warnings.warn(label_encoder_deprecation_msg, UserWarning)\n"
     ]
    }
   ],
   "source": [
    "#from sklearn import metrics\n",
    "#confusion = metrics.confusion_matrix(y_test, y_pred)\n",
    "#print(confusion)\n",
    "#[row, column]\n",
    "speficity=[]\n",
    "for name,model in models:\n",
    "    model.fit(X_train, y_train)\n",
    "    y_pred = model.predict(X_test)\n",
    "    confusion = metrics.confusion_matrix(y_test, y_pred)\n",
    "    TP = confusion[1, 1]\n",
    "    TN = confusion[0, 0]\n",
    "    FP = confusion[0, 1]\n",
    "    FN = confusion[1, 0]\n",
    "    #print(name)\n",
    "    speficity.append(TN / (TN + FP))\n",
    "tr_split = pd.DataFrame({'Name': names,'speficity': speficity})\n",
    "print(tr_split)"
   ]
  },
  {
   "cell_type": "code",
   "execution_count": 159,
   "metadata": {},
   "outputs": [
    {
     "name": "stdout",
     "output_type": "stream",
     "text": [
      "0.8311688311688312\n",
      "0.8311688311688312\n"
     ]
    }
   ],
   "source": [
    "print((TP + TN) / float(TP + TN + FP + FN))\n",
    "print(metrics.accuracy_score(y_test, y_pred))"
   ]
  },
  {
   "cell_type": "markdown",
   "metadata": {},
   "source": [
    "### Classification Error:\"Misclassification Rate\""
   ]
  },
  {
   "cell_type": "code",
   "execution_count": 160,
   "metadata": {},
   "outputs": [
    {
     "name": "stdout",
     "output_type": "stream",
     "text": [
      "0.16883116883116883\n",
      "0.16883116883116878\n"
     ]
    }
   ],
   "source": [
    "classification_error = (FP + FN) / float(TP + TN + FP + FN)\n",
    "\n",
    "print(classification_error)\n",
    "print(1 - metrics.accuracy_score(y_test, y_pred))"
   ]
  },
  {
   "cell_type": "markdown",
   "metadata": {},
   "source": [
    "### Specificity: TN / (TN + FP)"
   ]
  },
  {
   "cell_type": "code",
   "execution_count": 161,
   "metadata": {},
   "outputs": [
    {
     "name": "stdout",
     "output_type": "stream",
     "text": [
      "0.8598130841121495\n"
     ]
    }
   ],
   "source": [
    "specificity = TN / (TN + FP)\n",
    "\n",
    "print(specificity)"
   ]
  },
  {
   "cell_type": "markdown",
   "metadata": {},
   "source": [
    "### False Positive Rate:"
   ]
  },
  {
   "cell_type": "code",
   "execution_count": 162,
   "metadata": {},
   "outputs": [
    {
     "name": "stdout",
     "output_type": "stream",
     "text": [
      "0.14018691588785046\n",
      "0.14018691588785048\n"
     ]
    }
   ],
   "source": [
    "false_positive_rate = FP / float(TN + FP)\n",
    "\n",
    "print(false_positive_rate)\n",
    "print(1 - specificity)"
   ]
  },
  {
   "cell_type": "markdown",
   "metadata": {},
   "source": [
    "### Precision:"
   ]
  },
  {
   "cell_type": "code",
   "execution_count": 163,
   "metadata": {},
   "outputs": [
    {
     "name": "stdout",
     "output_type": "stream",
     "text": [
      "0.7058823529411765\n",
      "0.7058823529411765\n"
     ]
    }
   ],
   "source": [
    "precision = TP / float(TP + FP)\n",
    "\n",
    "print(precision)\n",
    "print(metrics.precision_score(y_test, y_pred))"
   ]
  },
  {
   "cell_type": "code",
   "execution_count": 164,
   "metadata": {},
   "outputs": [
    {
     "data": {
      "text/plain": [
       "array([1, 0, 0, 1, 0, 0, 1, 1, 0, 0], dtype=int64)"
      ]
     },
     "execution_count": 164,
     "metadata": {},
     "output_type": "execute_result"
    }
   ],
   "source": [
    "model.predict(X_test)[0:10]"
   ]
  },
  {
   "cell_type": "code",
   "execution_count": 165,
   "metadata": {},
   "outputs": [
    {
     "data": {
      "text/plain": [
       "array([[0.09214652, 0.9078535 ],\n",
       "       [0.9204782 , 0.07952175],\n",
       "       [0.978697  , 0.02130302],\n",
       "       [0.18329549, 0.8167045 ],\n",
       "       [0.9340757 , 0.06592427],\n",
       "       [0.98991185, 0.01008812],\n",
       "       [0.07907784, 0.92092216],\n",
       "       [0.02537966, 0.97462034],\n",
       "       [0.8352008 , 0.1647992 ],\n",
       "       [0.5351024 , 0.46489757]], dtype=float32)"
      ]
     },
     "execution_count": 165,
     "metadata": {},
     "output_type": "execute_result"
    }
   ],
   "source": [
    "model.predict_proba(X_test)[0:10]"
   ]
  },
  {
   "cell_type": "code",
   "execution_count": 166,
   "metadata": {},
   "outputs": [
    {
     "data": {
      "text/plain": [
       "array([0.9078535 , 0.07952175, 0.02130302, 0.8167045 , 0.06592427,\n",
       "       0.01008812, 0.92092216, 0.97462034, 0.1647992 , 0.46489757],\n",
       "      dtype=float32)"
      ]
     },
     "execution_count": 166,
     "metadata": {},
     "output_type": "execute_result"
    }
   ],
   "source": [
    "model.predict_proba(X_test)[0:10, 1]"
   ]
  },
  {
   "cell_type": "code",
   "execution_count": 167,
   "metadata": {},
   "outputs": [
    {
     "data": {
      "text/plain": [
       "Text(0, 0.5, 'Frequency')"
      ]
     },
     "execution_count": 167,
     "metadata": {},
     "output_type": "execute_result"
    },
    {
     "data": {
      "image/png": "[encoded data removed]",
      "text/plain": [
       "<Figure size 432x288 with 1 Axes>"
      ]
     },
     "metadata": {
      "needs_background": "light"
     },
     "output_type": "display_data"
    }
   ],
   "source": [
    "\n",
    "y_pred_prob = model.predict_proba(X_test)[:, 1]\n",
    "plt.hist(y_pred_prob, bins=8)\n",
    "\n",
    "# x-axis limit from 0 to 1\n",
    "plt.xlim(0,1)\n",
    "plt.title('Histogram of predicted probabilities')\n",
    "plt.xlabel('Predicted probability of diabetes')\n",
    "plt.ylabel('Frequency')"
   ]
  },
  {
   "cell_type": "code",
   "execution_count": 168,
   "metadata": {},
   "outputs": [
    {
     "name": "stdout",
     "output_type": "stream",
     "text": [
      "KNN\n"
     ]
    },
    {
     "data": {
      "image/png": "[encoded data removed]",
      "text/plain": [
       "<Figure size 432x288 with 1 Axes>"
      ]
     },
     "metadata": {
      "needs_background": "light"
     },
     "output_type": "display_data"
    },
    {
     "ename": "AttributeError",
     "evalue": "predict_proba is not available when  probability=False",
     "output_type": "error",
     "traceback": [
      "\u001b[1;31m---------------------------------------------------------------------------\u001b[0m",
      "\u001b[1;31mAttributeError\u001b[0m                            Traceback (most recent call last)",
      "\u001b[1;32m<ipython-input-168-f37ffc82fed2>\u001b[0m in \u001b[0;36m<module>\u001b[1;34m\u001b[0m\n\u001b[0;32m      1\u001b[0m \u001b[1;32mfor\u001b[0m \u001b[0mname\u001b[0m\u001b[1;33m,\u001b[0m\u001b[0mmodel\u001b[0m \u001b[1;32min\u001b[0m \u001b[0mmodels\u001b[0m\u001b[1;33m:\u001b[0m\u001b[1;33m\u001b[0m\u001b[1;33m\u001b[0m\u001b[0m\n\u001b[0;32m      2\u001b[0m     \u001b[1;31m##Adding the ROC\u001b[0m\u001b[1;33m\u001b[0m\u001b[1;33m\u001b[0m\u001b[1;33m\u001b[0m\u001b[0m\n\u001b[1;32m----> 3\u001b[1;33m     \u001b[0my_pred_prob\u001b[0m \u001b[1;33m=\u001b[0m \u001b[0mmodel\u001b[0m\u001b[1;33m.\u001b[0m\u001b[0mpredict_proba\u001b[0m\u001b[1;33m(\u001b[0m\u001b[0mX_test\u001b[0m\u001b[1;33m)\u001b[0m\u001b[1;33m[\u001b[0m\u001b[1;33m:\u001b[0m\u001b[1;33m,\u001b[0m \u001b[1;36m1\u001b[0m\u001b[1;33m]\u001b[0m\u001b[1;33m\u001b[0m\u001b[1;33m\u001b[0m\u001b[0m\n\u001b[0m\u001b[0;32m      4\u001b[0m     \u001b[0mfpr\u001b[0m\u001b[1;33m,\u001b[0m \u001b[0mtpr\u001b[0m\u001b[1;33m,\u001b[0m \u001b[0mthresholds\u001b[0m \u001b[1;33m=\u001b[0m \u001b[0mmetrics\u001b[0m\u001b[1;33m.\u001b[0m\u001b[0mroc_curve\u001b[0m\u001b[1;33m(\u001b[0m\u001b[0my_test\u001b[0m\u001b[1;33m,\u001b[0m \u001b[0my_pred_prob\u001b[0m\u001b[1;33m)\u001b[0m\u001b[1;33m\u001b[0m\u001b[1;33m\u001b[0m\u001b[0m\n\u001b[0;32m      5\u001b[0m     \u001b[0mauc\u001b[0m \u001b[1;33m=\u001b[0m \u001b[0mmetrics\u001b[0m\u001b[1;33m.\u001b[0m\u001b[0mroc_auc_score\u001b[0m\u001b[1;33m(\u001b[0m\u001b[0my_test\u001b[0m\u001b[1;33m,\u001b[0m\u001b[0mmodel\u001b[0m\u001b[1;33m.\u001b[0m\u001b[0mpredict\u001b[0m\u001b[1;33m(\u001b[0m\u001b[0mX_test\u001b[0m\u001b[1;33m)\u001b[0m\u001b[1;33m)\u001b[0m\u001b[1;33m\u001b[0m\u001b[1;33m\u001b[0m\u001b[0m\n",
      "\u001b[1;32m~\\anaconda3\\lib\\site-packages\\sklearn\\svm\\_base.py\u001b[0m in \u001b[0;36mpredict_proba\u001b[1;34m(self)\u001b[0m\n\u001b[0;32m    664\u001b[0m         \u001b[0mdatasets\u001b[0m\u001b[1;33m.\u001b[0m\u001b[1;33m\u001b[0m\u001b[1;33m\u001b[0m\u001b[0m\n\u001b[0;32m    665\u001b[0m         \"\"\"\n\u001b[1;32m--> 666\u001b[1;33m         \u001b[0mself\u001b[0m\u001b[1;33m.\u001b[0m\u001b[0m_check_proba\u001b[0m\u001b[1;33m(\u001b[0m\u001b[1;33m)\u001b[0m\u001b[1;33m\u001b[0m\u001b[1;33m\u001b[0m\u001b[0m\n\u001b[0m\u001b[0;32m    667\u001b[0m         \u001b[1;32mreturn\u001b[0m \u001b[0mself\u001b[0m\u001b[1;33m.\u001b[0m\u001b[0m_predict_proba\u001b[0m\u001b[1;33m\u001b[0m\u001b[1;33m\u001b[0m\u001b[0m\n\u001b[0;32m    668\u001b[0m \u001b[1;33m\u001b[0m\u001b[0m\n",
      "\u001b[1;32m~\\anaconda3\\lib\\site-packages\\sklearn\\svm\\_base.py\u001b[0m in \u001b[0;36m_check_proba\u001b[1;34m(self)\u001b[0m\n\u001b[0;32m    631\u001b[0m     \u001b[1;32mdef\u001b[0m \u001b[0m_check_proba\u001b[0m\u001b[1;33m(\u001b[0m\u001b[0mself\u001b[0m\u001b[1;33m)\u001b[0m\u001b[1;33m:\u001b[0m\u001b[1;33m\u001b[0m\u001b[1;33m\u001b[0m\u001b[0m\n\u001b[0;32m    632\u001b[0m         \u001b[1;32mif\u001b[0m \u001b[1;32mnot\u001b[0m \u001b[0mself\u001b[0m\u001b[1;33m.\u001b[0m\u001b[0mprobability\u001b[0m\u001b[1;33m:\u001b[0m\u001b[1;33m\u001b[0m\u001b[1;33m\u001b[0m\u001b[0m\n\u001b[1;32m--> 633\u001b[1;33m             raise AttributeError(\"predict_proba is not available when \"\n\u001b[0m\u001b[0;32m    634\u001b[0m                                  \" probability=False\")\n\u001b[0;32m    635\u001b[0m         \u001b[1;32mif\u001b[0m \u001b[0mself\u001b[0m\u001b[1;33m.\u001b[0m\u001b[0m_impl\u001b[0m \u001b[1;32mnot\u001b[0m \u001b[1;32min\u001b[0m \u001b[1;33m(\u001b[0m\u001b[1;34m'c_svc'\u001b[0m\u001b[1;33m,\u001b[0m \u001b[1;34m'nu_svc'\u001b[0m\u001b[1;33m)\u001b[0m\u001b[1;33m:\u001b[0m\u001b[1;33m\u001b[0m\u001b[1;33m\u001b[0m\u001b[0m\n",
      "\u001b[1;31mAttributeError\u001b[0m: predict_proba is not available when  probability=False"
     ]
    }
   ],
   "source": [
    "\n",
    "for name,model in models:\n",
    "    ##Adding the ROC\n",
    "    y_pred_prob = model.predict_proba(X_test)[:, 1]\n",
    "    fpr, tpr, thresholds = metrics.roc_curve(y_test, y_pred_prob)\n",
    "    auc = metrics.roc_auc_score(y_test,model.predict(X_test))\n",
    "    print(name)\n",
    "    plt.plot(fpr, tpr,lw=2,color='red',label='ROC curve(area = %0.2f)' %(auc))\n",
    "    ##Random FPR and TPR\n",
    "# Now, plot the computed values\n",
    "    plt.plot([0, 1], [0, 1], lw=2,color='blue',linestyle='--')\n",
    "    ##Title and label\n",
    "    plt.xlabel('False Positive')\n",
    "    plt.ylabel('True Positive')\n",
    "    plt.title('ROC curve')\n",
    "    plt.legend(loc=\"lower right\")\n",
    "    plt.show()"
   ]
  },
  {
   "cell_type": "code",
   "execution_count": 169,
   "metadata": {},
   "outputs": [
    {
     "name": "stderr",
     "output_type": "stream",
     "text": [
      "C:\\Users\\asus\\anaconda3\\lib\\site-packages\\xgboost\\sklearn.py:1224: UserWarning: The use of label encoder in XGBClassifier is deprecated and will be removed in a future release. To remove this warning, do the following: 1) Pass option use_label_encoder=False when constructing XGBClassifier object; and 2) Encode your labels (y) as integers starting with 0, i.e. 0, 1, 2, ..., [num_class - 1].\n",
      "  warnings.warn(label_encoder_deprecation_msg, UserWarning)\n"
     ]
    },
    {
     "name": "stdout",
     "output_type": "stream",
     "text": [
      "[19:03:28] WARNING: ..\\src\\learner.cc:1115: Starting in XGBoost 1.3.0, the default evaluation metric used with the objective 'binary:logistic' was changed from 'error' to 'logloss'. Explicitly set eval_metric if you'd like to restore the old behavior.\n"
     ]
    },
    {
     "data": {
      "image/png": "[encoded data removed]",
      "text/plain": [
       "<Figure size 432x288 with 1 Axes>"
      ]
     },
     "metadata": {
      "needs_background": "light"
     },
     "output_type": "display_data"
    }
   ],
   "source": [
    "#from sklearn.linear_model import LogisticRegression\n",
    "#from sklearn.ensemble import GradientBoostingClassifier\n",
    "#from sklearn import metrics\n",
    "#import matplotlib.pyplot as plt\n",
    "\n",
    "plt.figure()\n",
    "\n",
    "# Add the models to the list that you want to view on the ROC plot\n",
    "models = [\n",
    "{\n",
    "    'label': 'LR',\n",
    "    'model': LogisticRegression(),\n",
    "},\n",
    "{\n",
    "    'label': 'GB',\n",
    "    'model': GradientBoostingClassifier(),\n",
    "},    \n",
    "{\n",
    "    'label': 'GNB',\n",
    "    'model': GaussianNB(),\n",
    "}, \n",
    "{\n",
    "    'label': 'KNN',\n",
    "    'model': KNeighborsClassifier(),\n",
    "},\n",
    "{\n",
    "    'label': 'RF',\n",
    "    'model': RandomForestClassifier(),\n",
    "},\n",
    "{\n",
    "    'label': 'DT',\n",
    "    'model': DecisionTreeClassifier(),\n",
    "},\n",
    "{\n",
    "    'label': 'SVC',\n",
    "    'model': SVC(probability=True),\n",
    "},\n",
    "{\n",
    "    'label': 'XGB',\n",
    "    'model':  XGBClassifier(),\n",
    "},\n",
    "]\n",
    "\n",
    "\n",
    "# Below for loop iterates through your models list\n",
    "for m in models:\n",
    "    model = m['model'] # select the model\n",
    "    model.fit(X_train, y_train) # train the model\n",
    "    y_pred=model.predict(X_test) # predict the test data\n",
    "# Compute False postive rate, and True positive rate\n",
    "    fpr, tpr, thresholds = metrics.roc_curve(y_test, model.predict_proba(X_test)[:,1])\n",
    "# Calculate Area under the curve to display on the plot\n",
    "    auc = metrics.roc_auc_score(y_test,model.predict(X_test))\n",
    "# Now, plot the computed values\n",
    "    plt.plot(fpr, tpr, label='%s ROC (area = %0.2f)' % (m['label'], auc))\n",
    "# Custom settings for the plot \n",
    "plt.plot([0, 1], [0, 1],'r--')\n",
    "plt.xlim([0.0, 1.0])\n",
    "plt.ylim([0.0, 1.05])\n",
    "plt.xlabel('1-Specificity(False Positive Rate)')\n",
    "plt.ylabel('Sensitivity(True Positive Rate)')\n",
    "plt.title('Receiver Operating Characteristic')\n",
    "plt.legend(loc=\"lower right\")\n",
    "plt.show()"
   ]
  },
  {
   "cell_type": "markdown",
   "metadata": {},
   "source": [
    "### ROC curve"
   ]
  },
  {
   "cell_type": "code",
   "execution_count": 170,
   "metadata": {},
   "outputs": [
    {
     "data": {
      "image/png": "[encoded data removed]",
      "text/plain": [
       "<Figure size 432x288 with 1 Axes>"
      ]
     },
     "metadata": {
      "needs_background": "light"
     },
     "output_type": "display_data"
    }
   ],
   "source": [
    "\n",
    "import matplotlib.pyplot as plt\n",
    "plt.figure()\n",
    "##Adding the ROC\n",
    "fpr, tpr, thresholds = metrics.roc_curve(y_test, y_pred_prob)\n",
    "plt.plot(fpr, tpr, color='red',\n",
    " lw=2, label='ROC curve')\n",
    "##Random FPR and TPR\n",
    "plt.plot([0, 1], [0, 1], color='blue', lw=2, linestyle='--')\n",
    "##Title and label\n",
    "plt.xlabel('False Positive')\n",
    "plt.ylabel('True Positive')\n",
    "plt.title('ROC curve')\n",
    "plt.show()"
   ]
  },
  {
   "cell_type": "code",
   "execution_count": 171,
   "metadata": {},
   "outputs": [
    {
     "name": "stdout",
     "output_type": "stream",
     "text": [
      "0.7316563929210578\n"
     ]
    }
   ],
   "source": [
    "print(metrics.roc_auc_score(y_test, y_pred))"
   ]
  },
  {
   "cell_type": "markdown",
   "metadata": {},
   "source": [
    "### Deep learning(convolutional neural network (CNN)"
   ]
  },
  {
   "cell_type": "code",
   "execution_count": 172,
   "metadata": {
    "scrolled": false
   },
   "outputs": [
    {
     "name": "stdout",
     "output_type": "stream",
     "text": [
      "Epoch 1/1000\n",
      "58/58 [==============================] - 1s 3ms/step - loss: 1.0251 - accuracy: 0.6059 - val_loss: 0.6009 - val_accuracy: 0.7031\n",
      "Epoch 2/1000\n",
      "58/58 [==============================] - 0s 2ms/step - loss: 0.6520 - accuracy: 0.6424 - val_loss: 0.5996 - val_accuracy: 0.6979\n",
      "Epoch 3/1000\n",
      "58/58 [==============================] - 0s 2ms/step - loss: 0.6374 - accuracy: 0.6510 - val_loss: 0.5807 - val_accuracy: 0.7448\n",
      "Epoch 4/1000\n",
      "58/58 [==============================] - 0s 2ms/step - loss: 0.6149 - accuracy: 0.6684 - val_loss: 0.5821 - val_accuracy: 0.7188\n",
      "Epoch 5/1000\n",
      "58/58 [==============================] - 0s 2ms/step - loss: 0.6175 - accuracy: 0.6910 - val_loss: 0.5891 - val_accuracy: 0.7240\n",
      "Epoch 6/1000\n",
      "58/58 [==============================] - 0s 2ms/step - loss: 0.5987 - accuracy: 0.6892 - val_loss: 0.6285 - val_accuracy: 0.6875\n",
      "Epoch 7/1000\n",
      "58/58 [==============================] - 0s 2ms/step - loss: 0.6077 - accuracy: 0.6788 - val_loss: 0.5733 - val_accuracy: 0.7292\n",
      "Epoch 8/1000\n",
      "58/58 [==============================] - 0s 2ms/step - loss: 0.5842 - accuracy: 0.7083 - val_loss: 0.5774 - val_accuracy: 0.7240\n",
      "Epoch 9/1000\n",
      "58/58 [==============================] - 0s 2ms/step - loss: 0.5791 - accuracy: 0.7188 - val_loss: 0.5591 - val_accuracy: 0.7240\n",
      "Epoch 10/1000\n",
      "58/58 [==============================] - 0s 2ms/step - loss: 0.5807 - accuracy: 0.7083 - val_loss: 0.5927 - val_accuracy: 0.6771\n",
      "Epoch 11/1000\n",
      "58/58 [==============================] - 0s 2ms/step - loss: 0.5781 - accuracy: 0.7031 - val_loss: 0.5811 - val_accuracy: 0.7240\n",
      "Epoch 12/1000\n",
      "58/58 [==============================] - 0s 2ms/step - loss: 0.5989 - accuracy: 0.6701 - val_loss: 0.5714 - val_accuracy: 0.7135\n",
      "Epoch 13/1000\n",
      "58/58 [==============================] - 0s 2ms/step - loss: 0.5973 - accuracy: 0.6962 - val_loss: 0.6044 - val_accuracy: 0.6771\n",
      "Epoch 14/1000\n",
      "58/58 [==============================] - 0s 2ms/step - loss: 0.5882 - accuracy: 0.6736 - val_loss: 0.6492 - val_accuracy: 0.5990\n",
      "Epoch 15/1000\n",
      "58/58 [==============================] - 0s 2ms/step - loss: 0.5649 - accuracy: 0.7135 - val_loss: 0.6061 - val_accuracy: 0.6979\n",
      "Epoch 16/1000\n",
      "58/58 [==============================] - 0s 2ms/step - loss: 0.5672 - accuracy: 0.6927 - val_loss: 0.5846 - val_accuracy: 0.6823\n",
      "Epoch 17/1000\n",
      "58/58 [==============================] - 0s 2ms/step - loss: 0.5517 - accuracy: 0.7483 - val_loss: 0.5971 - val_accuracy: 0.7188\n",
      "Epoch 18/1000\n",
      "58/58 [==============================] - 0s 2ms/step - loss: 0.5779 - accuracy: 0.6840 - val_loss: 0.5686 - val_accuracy: 0.7344\n",
      "Epoch 19/1000\n",
      "58/58 [==============================] - 0s 2ms/step - loss: 0.5621 - accuracy: 0.7049 - val_loss: 0.5777 - val_accuracy: 0.6823\n",
      "Epoch 20/1000\n",
      "58/58 [==============================] - 0s 2ms/step - loss: 0.5484 - accuracy: 0.7153 - val_loss: 0.5663 - val_accuracy: 0.7083\n",
      "Epoch 21/1000\n",
      "58/58 [==============================] - 0s 2ms/step - loss: 0.5439 - accuracy: 0.7257 - val_loss: 0.5731 - val_accuracy: 0.7135\n",
      "Epoch 22/1000\n",
      "58/58 [==============================] - 0s 2ms/step - loss: 0.5615 - accuracy: 0.7049 - val_loss: 0.5745 - val_accuracy: 0.7344\n",
      "Epoch 23/1000\n",
      "58/58 [==============================] - 0s 2ms/step - loss: 0.5449 - accuracy: 0.7361 - val_loss: 0.5977 - val_accuracy: 0.6927\n",
      "Epoch 24/1000\n",
      "58/58 [==============================] - 0s 2ms/step - loss: 0.5354 - accuracy: 0.7257 - val_loss: 0.6024 - val_accuracy: 0.6719\n",
      "Epoch 25/1000\n",
      "58/58 [==============================] - 0s 2ms/step - loss: 0.5293 - accuracy: 0.7378 - val_loss: 0.5620 - val_accuracy: 0.7604\n",
      "Epoch 26/1000\n",
      "58/58 [==============================] - 0s 2ms/step - loss: 0.5433 - accuracy: 0.7118 - val_loss: 0.5694 - val_accuracy: 0.7552\n",
      "Epoch 27/1000\n",
      "58/58 [==============================] - 0s 2ms/step - loss: 0.5376 - accuracy: 0.7326 - val_loss: 0.5820 - val_accuracy: 0.7031\n",
      "Epoch 28/1000\n",
      "58/58 [==============================] - 0s 2ms/step - loss: 0.5317 - accuracy: 0.7448 - val_loss: 0.5913 - val_accuracy: 0.6927\n",
      "Epoch 29/1000\n",
      "58/58 [==============================] - 0s 2ms/step - loss: 0.5355 - accuracy: 0.7240 - val_loss: 0.5926 - val_accuracy: 0.6979\n",
      "Epoch 30/1000\n",
      "58/58 [==============================] - 0s 2ms/step - loss: 0.5247 - accuracy: 0.7378 - val_loss: 0.6013 - val_accuracy: 0.7135\n",
      "Epoch 31/1000\n",
      "58/58 [==============================] - 0s 2ms/step - loss: 0.5222 - accuracy: 0.7292 - val_loss: 0.6381 - val_accuracy: 0.6406\n",
      "Epoch 32/1000\n",
      "58/58 [==============================] - 0s 2ms/step - loss: 0.5090 - accuracy: 0.7483 - val_loss: 0.6673 - val_accuracy: 0.6146\n",
      "Epoch 33/1000\n",
      "58/58 [==============================] - 0s 2ms/step - loss: 0.5383 - accuracy: 0.7274 - val_loss: 0.6295 - val_accuracy: 0.7031\n",
      "Epoch 34/1000\n",
      "58/58 [==============================] - 0s 2ms/step - loss: 0.5308 - accuracy: 0.7257 - val_loss: 0.5723 - val_accuracy: 0.7344\n",
      "Epoch 35/1000\n",
      "58/58 [==============================] - 0s 2ms/step - loss: 0.5130 - accuracy: 0.7552 - val_loss: 0.5758 - val_accuracy: 0.7344\n",
      "Epoch 36/1000\n",
      "58/58 [==============================] - 0s 2ms/step - loss: 0.5049 - accuracy: 0.7517 - val_loss: 0.6222 - val_accuracy: 0.6927\n",
      "Epoch 37/1000\n",
      "58/58 [==============================] - 0s 2ms/step - loss: 0.5230 - accuracy: 0.7465 - val_loss: 0.5665 - val_accuracy: 0.7552\n",
      "Epoch 38/1000\n",
      "58/58 [==============================] - 0s 2ms/step - loss: 0.5013 - accuracy: 0.7656 - val_loss: 0.6018 - val_accuracy: 0.7240\n",
      "Epoch 39/1000\n",
      "58/58 [==============================] - 0s 2ms/step - loss: 0.5001 - accuracy: 0.7500 - val_loss: 0.6018 - val_accuracy: 0.7135\n",
      "Epoch 40/1000\n",
      "58/58 [==============================] - 0s 2ms/step - loss: 0.5076 - accuracy: 0.7587 - val_loss: 0.6109 - val_accuracy: 0.6823\n",
      "Epoch 41/1000\n",
      "58/58 [==============================] - 0s 2ms/step - loss: 0.5024 - accuracy: 0.7812 - val_loss: 0.5894 - val_accuracy: 0.7344\n",
      "Epoch 42/1000\n",
      "58/58 [==============================] - 0s 2ms/step - loss: 0.5051 - accuracy: 0.7500 - val_loss: 0.5711 - val_accuracy: 0.7344\n",
      "Epoch 43/1000\n",
      "58/58 [==============================] - 0s 2ms/step - loss: 0.4960 - accuracy: 0.7674 - val_loss: 0.5927 - val_accuracy: 0.7292\n",
      "Epoch 44/1000\n",
      "58/58 [==============================] - 0s 2ms/step - loss: 0.4980 - accuracy: 0.7604 - val_loss: 0.5834 - val_accuracy: 0.7500\n",
      "Epoch 45/1000\n",
      "58/58 [==============================] - 0s 2ms/step - loss: 0.4965 - accuracy: 0.7587 - val_loss: 0.5684 - val_accuracy: 0.7292\n",
      "Epoch 46/1000\n",
      "58/58 [==============================] - 0s 2ms/step - loss: 0.5108 - accuracy: 0.7517 - val_loss: 0.5991 - val_accuracy: 0.7031\n",
      "Epoch 47/1000\n",
      "58/58 [==============================] - 0s 2ms/step - loss: 0.5161 - accuracy: 0.7222 - val_loss: 0.6092 - val_accuracy: 0.6979\n",
      "Epoch 48/1000\n",
      "58/58 [==============================] - 0s 2ms/step - loss: 0.4872 - accuracy: 0.7483 - val_loss: 0.5918 - val_accuracy: 0.7031\n",
      "Epoch 49/1000\n",
      "58/58 [==============================] - 0s 2ms/step - loss: 0.4935 - accuracy: 0.7639 - val_loss: 0.5852 - val_accuracy: 0.7448\n",
      "Epoch 50/1000\n",
      "58/58 [==============================] - 0s 2ms/step - loss: 0.4926 - accuracy: 0.7622 - val_loss: 0.6009 - val_accuracy: 0.6771\n",
      "Epoch 51/1000\n",
      "58/58 [==============================] - 0s 2ms/step - loss: 0.4868 - accuracy: 0.7622 - val_loss: 0.5670 - val_accuracy: 0.7135\n",
      "Epoch 52/1000\n",
      "58/58 [==============================] - 0s 2ms/step - loss: 0.4931 - accuracy: 0.7587 - val_loss: 0.5848 - val_accuracy: 0.7188\n",
      "Epoch 53/1000\n",
      "58/58 [==============================] - 0s 2ms/step - loss: 0.4906 - accuracy: 0.7656 - val_loss: 0.5920 - val_accuracy: 0.7240\n",
      "Epoch 54/1000\n",
      "58/58 [==============================] - 0s 2ms/step - loss: 0.4802 - accuracy: 0.7639 - val_loss: 0.5812 - val_accuracy: 0.7240\n",
      "Epoch 55/1000\n",
      "58/58 [==============================] - 0s 2ms/step - loss: 0.4702 - accuracy: 0.7795 - val_loss: 0.5674 - val_accuracy: 0.7292\n",
      "Epoch 56/1000\n",
      "58/58 [==============================] - 0s 2ms/step - loss: 0.4948 - accuracy: 0.7674 - val_loss: 0.5997 - val_accuracy: 0.6823\n",
      "Epoch 57/1000\n",
      "58/58 [==============================] - 0s 2ms/step - loss: 0.4915 - accuracy: 0.7587 - val_loss: 0.5566 - val_accuracy: 0.7344\n",
      "Epoch 58/1000\n",
      "58/58 [==============================] - 0s 2ms/step - loss: 0.4819 - accuracy: 0.7604 - val_loss: 0.5570 - val_accuracy: 0.7500\n",
      "Epoch 59/1000\n",
      "58/58 [==============================] - 0s 2ms/step - loss: 0.4864 - accuracy: 0.7622 - val_loss: 0.5931 - val_accuracy: 0.7083\n",
      "Epoch 60/1000\n",
      "58/58 [==============================] - 0s 2ms/step - loss: 0.4678 - accuracy: 0.7726 - val_loss: 0.5976 - val_accuracy: 0.7188\n",
      "Epoch 61/1000\n",
      "58/58 [==============================] - 0s 2ms/step - loss: 0.4790 - accuracy: 0.7639 - val_loss: 0.5814 - val_accuracy: 0.7240\n",
      "Epoch 62/1000\n",
      "58/58 [==============================] - 0s 2ms/step - loss: 0.4689 - accuracy: 0.7691 - val_loss: 0.5868 - val_accuracy: 0.7188\n",
      "Epoch 63/1000\n",
      "58/58 [==============================] - 0s 2ms/step - loss: 0.4665 - accuracy: 0.7674 - val_loss: 0.5830 - val_accuracy: 0.7344\n",
      "Epoch 64/1000\n",
      "58/58 [==============================] - 0s 2ms/step - loss: 0.4692 - accuracy: 0.7726 - val_loss: 0.6370 - val_accuracy: 0.6667\n",
      "Epoch 65/1000\n",
      "58/58 [==============================] - 0s 2ms/step - loss: 0.4823 - accuracy: 0.7830 - val_loss: 0.6032 - val_accuracy: 0.7083\n",
      "Epoch 66/1000\n",
      "58/58 [==============================] - 0s 2ms/step - loss: 0.4614 - accuracy: 0.7830 - val_loss: 0.5663 - val_accuracy: 0.7448\n",
      "Epoch 67/1000\n",
      "58/58 [==============================] - 0s 2ms/step - loss: 0.4688 - accuracy: 0.7899 - val_loss: 0.5947 - val_accuracy: 0.7188\n",
      "Epoch 68/1000\n",
      "58/58 [==============================] - 0s 2ms/step - loss: 0.4710 - accuracy: 0.7517 - val_loss: 0.6073 - val_accuracy: 0.7188\n",
      "Epoch 69/1000\n",
      "58/58 [==============================] - 0s 2ms/step - loss: 0.4737 - accuracy: 0.7604 - val_loss: 0.6125 - val_accuracy: 0.7240\n",
      "Epoch 70/1000\n",
      "58/58 [==============================] - 0s 2ms/step - loss: 0.4540 - accuracy: 0.7847 - val_loss: 0.5642 - val_accuracy: 0.7500\n",
      "Epoch 71/1000\n",
      "58/58 [==============================] - 0s 2ms/step - loss: 0.4706 - accuracy: 0.7691 - val_loss: 0.5917 - val_accuracy: 0.7292\n",
      "Epoch 72/1000\n",
      "58/58 [==============================] - 0s 2ms/step - loss: 0.4601 - accuracy: 0.7760 - val_loss: 0.5912 - val_accuracy: 0.7031\n",
      "Epoch 73/1000\n",
      "58/58 [==============================] - 0s 2ms/step - loss: 0.4594 - accuracy: 0.7622 - val_loss: 0.5872 - val_accuracy: 0.7188\n",
      "Epoch 74/1000\n",
      "58/58 [==============================] - 0s 2ms/step - loss: 0.4479 - accuracy: 0.7691 - val_loss: 0.5853 - val_accuracy: 0.7135\n",
      "Epoch 75/1000\n",
      "58/58 [==============================] - 0s 2ms/step - loss: 0.4468 - accuracy: 0.7917 - val_loss: 0.6004 - val_accuracy: 0.7135\n",
      "Epoch 76/1000\n",
      "58/58 [==============================] - 0s 2ms/step - loss: 0.4441 - accuracy: 0.7778 - val_loss: 0.5947 - val_accuracy: 0.7188\n",
      "Epoch 77/1000\n",
      "58/58 [==============================] - 0s 2ms/step - loss: 0.4611 - accuracy: 0.7778 - val_loss: 0.6499 - val_accuracy: 0.6615\n",
      "Epoch 78/1000\n",
      "58/58 [==============================] - 0s 2ms/step - loss: 0.4678 - accuracy: 0.7743 - val_loss: 0.5843 - val_accuracy: 0.7604\n",
      "Epoch 79/1000\n",
      "58/58 [==============================] - 0s 2ms/step - loss: 0.4629 - accuracy: 0.7674 - val_loss: 0.6878 - val_accuracy: 0.6406\n",
      "Epoch 80/1000\n",
      "58/58 [==============================] - 0s 2ms/step - loss: 0.4764 - accuracy: 0.7604 - val_loss: 0.6153 - val_accuracy: 0.6875\n",
      "Epoch 81/1000\n",
      "58/58 [==============================] - 0s 2ms/step - loss: 0.4607 - accuracy: 0.7552 - val_loss: 0.6153 - val_accuracy: 0.7240\n",
      "Epoch 82/1000\n",
      "58/58 [==============================] - 0s 2ms/step - loss: 0.4524 - accuracy: 0.7951 - val_loss: 0.6024 - val_accuracy: 0.7240\n",
      "Epoch 83/1000\n",
      "58/58 [==============================] - 0s 2ms/step - loss: 0.4455 - accuracy: 0.7726 - val_loss: 0.5974 - val_accuracy: 0.7188\n",
      "Epoch 84/1000\n",
      "58/58 [==============================] - 0s 2ms/step - loss: 0.4720 - accuracy: 0.7847 - val_loss: 0.5698 - val_accuracy: 0.7448\n",
      "Epoch 85/1000\n",
      "58/58 [==============================] - 0s 2ms/step - loss: 0.4536 - accuracy: 0.7778 - val_loss: 0.5706 - val_accuracy: 0.7448\n",
      "Epoch 86/1000\n",
      "58/58 [==============================] - 0s 2ms/step - loss: 0.4385 - accuracy: 0.7882 - val_loss: 0.5840 - val_accuracy: 0.7448\n",
      "Epoch 87/1000\n",
      "58/58 [==============================] - 0s 2ms/step - loss: 0.4318 - accuracy: 0.7812 - val_loss: 0.6037 - val_accuracy: 0.7031\n",
      "Epoch 88/1000\n",
      "58/58 [==============================] - 0s 2ms/step - loss: 0.4403 - accuracy: 0.7882 - val_loss: 0.5623 - val_accuracy: 0.7396\n",
      "Epoch 89/1000\n",
      "58/58 [==============================] - 0s 2ms/step - loss: 0.4478 - accuracy: 0.7778 - val_loss: 0.6055 - val_accuracy: 0.7083\n",
      "Epoch 90/1000\n",
      "58/58 [==============================] - 0s 2ms/step - loss: 0.4270 - accuracy: 0.7951 - val_loss: 0.5789 - val_accuracy: 0.7188\n",
      "Epoch 91/1000\n",
      "58/58 [==============================] - 0s 2ms/step - loss: 0.4254 - accuracy: 0.7847 - val_loss: 0.6293 - val_accuracy: 0.6823\n",
      "Epoch 92/1000\n",
      "58/58 [==============================] - 0s 2ms/step - loss: 0.4472 - accuracy: 0.7812 - val_loss: 0.5774 - val_accuracy: 0.7292\n",
      "Epoch 93/1000\n",
      "58/58 [==============================] - 0s 2ms/step - loss: 0.4260 - accuracy: 0.7899 - val_loss: 0.5680 - val_accuracy: 0.7188\n",
      "Epoch 94/1000\n",
      "58/58 [==============================] - 0s 2ms/step - loss: 0.4422 - accuracy: 0.7847 - val_loss: 0.6091 - val_accuracy: 0.6875\n",
      "Epoch 95/1000\n",
      "58/58 [==============================] - 0s 2ms/step - loss: 0.4307 - accuracy: 0.7899 - val_loss: 0.5917 - val_accuracy: 0.7083\n",
      "Epoch 96/1000\n",
      "58/58 [==============================] - 0s 2ms/step - loss: 0.4230 - accuracy: 0.8003 - val_loss: 0.5634 - val_accuracy: 0.7552\n",
      "Epoch 97/1000\n",
      "58/58 [==============================] - 0s 2ms/step - loss: 0.4317 - accuracy: 0.7778 - val_loss: 0.6211 - val_accuracy: 0.6719\n",
      "Epoch 98/1000\n",
      "58/58 [==============================] - 0s 2ms/step - loss: 0.4137 - accuracy: 0.7969 - val_loss: 0.6689 - val_accuracy: 0.6927\n",
      "Epoch 99/1000\n",
      "58/58 [==============================] - 0s 2ms/step - loss: 0.4218 - accuracy: 0.7847 - val_loss: 0.5940 - val_accuracy: 0.7448\n",
      "Epoch 100/1000\n",
      "58/58 [==============================] - 0s 2ms/step - loss: 0.4275 - accuracy: 0.7795 - val_loss: 0.5737 - val_accuracy: 0.7083\n",
      "Epoch 101/1000\n",
      "58/58 [==============================] - 0s 2ms/step - loss: 0.4206 - accuracy: 0.7969 - val_loss: 0.5809 - val_accuracy: 0.7448\n",
      "Epoch 102/1000\n",
      "58/58 [==============================] - 0s 2ms/step - loss: 0.4209 - accuracy: 0.8021 - val_loss: 0.5954 - val_accuracy: 0.6927\n",
      "Epoch 103/1000\n",
      "58/58 [==============================] - 0s 2ms/step - loss: 0.4260 - accuracy: 0.7899 - val_loss: 0.6012 - val_accuracy: 0.7396\n",
      "Epoch 104/1000\n",
      "58/58 [==============================] - 0s 2ms/step - loss: 0.4228 - accuracy: 0.7986 - val_loss: 0.5719 - val_accuracy: 0.7396\n",
      "Epoch 105/1000\n",
      "58/58 [==============================] - 0s 2ms/step - loss: 0.4086 - accuracy: 0.8056 - val_loss: 0.5843 - val_accuracy: 0.7031\n",
      "Epoch 106/1000\n",
      "58/58 [==============================] - 0s 2ms/step - loss: 0.3984 - accuracy: 0.8003 - val_loss: 0.6247 - val_accuracy: 0.6875\n",
      "Epoch 107/1000\n",
      "58/58 [==============================] - 0s 2ms/step - loss: 0.4042 - accuracy: 0.8125 - val_loss: 0.5742 - val_accuracy: 0.7292\n",
      "Epoch 108/1000\n",
      "58/58 [==============================] - 0s 2ms/step - loss: 0.4064 - accuracy: 0.7951 - val_loss: 0.5877 - val_accuracy: 0.7188\n",
      "Epoch 109/1000\n",
      "58/58 [==============================] - 0s 2ms/step - loss: 0.4127 - accuracy: 0.7934 - val_loss: 0.5706 - val_accuracy: 0.7031\n",
      "Epoch 110/1000\n",
      "58/58 [==============================] - 0s 2ms/step - loss: 0.4058 - accuracy: 0.8264 - val_loss: 0.5951 - val_accuracy: 0.7083\n",
      "Epoch 111/1000\n",
      "58/58 [==============================] - 0s 2ms/step - loss: 0.3983 - accuracy: 0.8021 - val_loss: 0.5952 - val_accuracy: 0.7240\n",
      "Epoch 112/1000\n",
      "58/58 [==============================] - 0s 2ms/step - loss: 0.4067 - accuracy: 0.8073 - val_loss: 0.6132 - val_accuracy: 0.7188\n",
      "Epoch 113/1000\n",
      "58/58 [==============================] - 0s 2ms/step - loss: 0.4301 - accuracy: 0.7969 - val_loss: 0.5722 - val_accuracy: 0.7292\n",
      "Epoch 114/1000\n",
      "58/58 [==============================] - 0s 2ms/step - loss: 0.4293 - accuracy: 0.7882 - val_loss: 0.5940 - val_accuracy: 0.7188\n",
      "Epoch 115/1000\n"
     ]
    },
    {
     "name": "stdout",
     "output_type": "stream",
     "text": [
      "58/58 [==============================] - 0s 2ms/step - loss: 0.4106 - accuracy: 0.8073 - val_loss: 0.5858 - val_accuracy: 0.7344\n",
      "Epoch 116/1000\n",
      "58/58 [==============================] - 0s 2ms/step - loss: 0.3905 - accuracy: 0.8090 - val_loss: 0.6276 - val_accuracy: 0.6927\n",
      "Epoch 117/1000\n",
      "58/58 [==============================] - 0s 2ms/step - loss: 0.4103 - accuracy: 0.7865 - val_loss: 0.6569 - val_accuracy: 0.6615\n",
      "Epoch 118/1000\n",
      "58/58 [==============================] - 0s 2ms/step - loss: 0.4216 - accuracy: 0.7951 - val_loss: 0.6078 - val_accuracy: 0.7292\n",
      "Epoch 119/1000\n",
      "58/58 [==============================] - 0s 2ms/step - loss: 0.4183 - accuracy: 0.7917 - val_loss: 0.5743 - val_accuracy: 0.7292\n",
      "Epoch 120/1000\n",
      "58/58 [==============================] - 0s 2ms/step - loss: 0.3915 - accuracy: 0.7969 - val_loss: 0.6203 - val_accuracy: 0.6927\n",
      "Epoch 121/1000\n",
      "58/58 [==============================] - 0s 2ms/step - loss: 0.3914 - accuracy: 0.8212 - val_loss: 0.5989 - val_accuracy: 0.7240\n",
      "Epoch 122/1000\n",
      "58/58 [==============================] - 0s 2ms/step - loss: 0.4321 - accuracy: 0.7934 - val_loss: 0.6024 - val_accuracy: 0.6823\n",
      "Epoch 123/1000\n",
      "58/58 [==============================] - 0s 2ms/step - loss: 0.4034 - accuracy: 0.8090 - val_loss: 0.5979 - val_accuracy: 0.7396\n",
      "Epoch 124/1000\n",
      "58/58 [==============================] - 0s 2ms/step - loss: 0.4110 - accuracy: 0.8021 - val_loss: 0.6069 - val_accuracy: 0.7240\n",
      "Epoch 125/1000\n",
      "58/58 [==============================] - 0s 2ms/step - loss: 0.3935 - accuracy: 0.8056 - val_loss: 0.5702 - val_accuracy: 0.7188\n",
      "Epoch 126/1000\n",
      "58/58 [==============================] - 0s 2ms/step - loss: 0.3845 - accuracy: 0.8177 - val_loss: 0.6098 - val_accuracy: 0.7188\n",
      "Epoch 127/1000\n",
      "58/58 [==============================] - 0s 2ms/step - loss: 0.4111 - accuracy: 0.8038 - val_loss: 0.6515 - val_accuracy: 0.6823\n",
      "Epoch 128/1000\n",
      "58/58 [==============================] - 0s 2ms/step - loss: 0.4055 - accuracy: 0.7917 - val_loss: 0.6464 - val_accuracy: 0.6979\n",
      "Epoch 129/1000\n",
      "58/58 [==============================] - 0s 2ms/step - loss: 0.4169 - accuracy: 0.8038 - val_loss: 0.5908 - val_accuracy: 0.7135\n",
      "Epoch 130/1000\n",
      "58/58 [==============================] - 0s 2ms/step - loss: 0.3830 - accuracy: 0.8090 - val_loss: 0.5826 - val_accuracy: 0.7448\n",
      "Epoch 131/1000\n",
      "58/58 [==============================] - 0s 2ms/step - loss: 0.3770 - accuracy: 0.8212 - val_loss: 0.6113 - val_accuracy: 0.7135\n",
      "Epoch 132/1000\n",
      "58/58 [==============================] - 0s 2ms/step - loss: 0.3785 - accuracy: 0.8125 - val_loss: 0.5922 - val_accuracy: 0.6979\n",
      "Epoch 133/1000\n",
      "58/58 [==============================] - 0s 2ms/step - loss: 0.3926 - accuracy: 0.8177 - val_loss: 0.6138 - val_accuracy: 0.7135\n",
      "Epoch 134/1000\n",
      "58/58 [==============================] - 0s 2ms/step - loss: 0.3889 - accuracy: 0.8090 - val_loss: 0.6210 - val_accuracy: 0.6927\n",
      "Epoch 135/1000\n",
      "58/58 [==============================] - 0s 2ms/step - loss: 0.3853 - accuracy: 0.8038 - val_loss: 0.6373 - val_accuracy: 0.6927\n",
      "Epoch 136/1000\n",
      "58/58 [==============================] - 0s 2ms/step - loss: 0.4114 - accuracy: 0.8090 - val_loss: 0.6130 - val_accuracy: 0.6823\n",
      "Epoch 137/1000\n",
      "58/58 [==============================] - 0s 2ms/step - loss: 0.3945 - accuracy: 0.8090 - val_loss: 0.6279 - val_accuracy: 0.7083\n",
      "Epoch 138/1000\n",
      "58/58 [==============================] - 0s 2ms/step - loss: 0.3805 - accuracy: 0.8212 - val_loss: 0.5880 - val_accuracy: 0.6979\n",
      "Epoch 139/1000\n",
      "58/58 [==============================] - 0s 2ms/step - loss: 0.3778 - accuracy: 0.8351 - val_loss: 0.5907 - val_accuracy: 0.7240\n",
      "Epoch 140/1000\n",
      "58/58 [==============================] - 0s 2ms/step - loss: 0.3840 - accuracy: 0.7986 - val_loss: 0.6235 - val_accuracy: 0.6927\n",
      "Epoch 141/1000\n",
      "58/58 [==============================] - 0s 2ms/step - loss: 0.3720 - accuracy: 0.8299 - val_loss: 0.6161 - val_accuracy: 0.6875\n",
      "Epoch 142/1000\n",
      "58/58 [==============================] - 0s 2ms/step - loss: 0.4034 - accuracy: 0.8108 - val_loss: 0.5841 - val_accuracy: 0.7083\n",
      "Epoch 143/1000\n",
      "58/58 [==============================] - 0s 2ms/step - loss: 0.3684 - accuracy: 0.8247 - val_loss: 0.5973 - val_accuracy: 0.7135\n",
      "Epoch 144/1000\n",
      "58/58 [==============================] - 0s 2ms/step - loss: 0.3913 - accuracy: 0.8056 - val_loss: 0.5873 - val_accuracy: 0.7083\n",
      "Epoch 145/1000\n",
      "58/58 [==============================] - 0s 2ms/step - loss: 0.3807 - accuracy: 0.8368 - val_loss: 0.5785 - val_accuracy: 0.7188\n",
      "Epoch 146/1000\n",
      "58/58 [==============================] - 0s 2ms/step - loss: 0.3685 - accuracy: 0.8212 - val_loss: 0.5969 - val_accuracy: 0.7135\n",
      "Epoch 147/1000\n",
      "58/58 [==============================] - 0s 2ms/step - loss: 0.3941 - accuracy: 0.8021 - val_loss: 0.6291 - val_accuracy: 0.6771\n",
      "Epoch 148/1000\n",
      "58/58 [==============================] - 0s 2ms/step - loss: 0.3762 - accuracy: 0.8229 - val_loss: 0.6184 - val_accuracy: 0.7031\n",
      "Epoch 149/1000\n",
      "58/58 [==============================] - 0s 2ms/step - loss: 0.4016 - accuracy: 0.8160 - val_loss: 0.5769 - val_accuracy: 0.7031\n",
      "Epoch 150/1000\n",
      "58/58 [==============================] - 0s 2ms/step - loss: 0.3666 - accuracy: 0.8333 - val_loss: 0.6044 - val_accuracy: 0.7083\n",
      "Epoch 151/1000\n",
      "58/58 [==============================] - 0s 2ms/step - loss: 0.3810 - accuracy: 0.8247 - val_loss: 0.6118 - val_accuracy: 0.7083\n",
      "Epoch 152/1000\n",
      "58/58 [==============================] - 0s 2ms/step - loss: 0.3605 - accuracy: 0.8333 - val_loss: 0.6180 - val_accuracy: 0.6823\n",
      "Epoch 153/1000\n",
      "58/58 [==============================] - 0s 2ms/step - loss: 0.3686 - accuracy: 0.8316 - val_loss: 0.6204 - val_accuracy: 0.7135\n",
      "Epoch 154/1000\n",
      "58/58 [==============================] - 0s 2ms/step - loss: 0.3633 - accuracy: 0.8333 - val_loss: 0.6186 - val_accuracy: 0.6875\n",
      "Epoch 155/1000\n",
      "58/58 [==============================] - 0s 2ms/step - loss: 0.3679 - accuracy: 0.8194 - val_loss: 0.6023 - val_accuracy: 0.7031\n",
      "Epoch 156/1000\n",
      "58/58 [==============================] - 0s 2ms/step - loss: 0.3715 - accuracy: 0.8351 - val_loss: 0.6591 - val_accuracy: 0.6979\n",
      "Epoch 157/1000\n",
      "58/58 [==============================] - 0s 2ms/step - loss: 0.3677 - accuracy: 0.8212 - val_loss: 0.6406 - val_accuracy: 0.6823\n",
      "Epoch 158/1000\n",
      "58/58 [==============================] - 0s 2ms/step - loss: 0.3837 - accuracy: 0.8247 - val_loss: 0.6331 - val_accuracy: 0.6979\n",
      "Epoch 159/1000\n",
      "58/58 [==============================] - 0s 2ms/step - loss: 0.3558 - accuracy: 0.8281 - val_loss: 0.6270 - val_accuracy: 0.6979\n",
      "Epoch 160/1000\n",
      "58/58 [==============================] - 0s 2ms/step - loss: 0.3537 - accuracy: 0.8333 - val_loss: 0.7439 - val_accuracy: 0.6615\n",
      "Epoch 161/1000\n",
      "58/58 [==============================] - 0s 2ms/step - loss: 0.3672 - accuracy: 0.8333 - val_loss: 0.6614 - val_accuracy: 0.6927\n",
      "Epoch 162/1000\n",
      "58/58 [==============================] - 0s 2ms/step - loss: 0.3583 - accuracy: 0.8281 - val_loss: 0.6506 - val_accuracy: 0.6719\n",
      "Epoch 163/1000\n",
      "58/58 [==============================] - 0s 2ms/step - loss: 0.3597 - accuracy: 0.8333 - val_loss: 0.6607 - val_accuracy: 0.6875\n",
      "Epoch 164/1000\n",
      "58/58 [==============================] - 0s 2ms/step - loss: 0.3333 - accuracy: 0.8490 - val_loss: 0.6380 - val_accuracy: 0.7188\n",
      "Epoch 165/1000\n",
      "58/58 [==============================] - 0s 2ms/step - loss: 0.3703 - accuracy: 0.8229 - val_loss: 0.6509 - val_accuracy: 0.7240\n",
      "Epoch 166/1000\n",
      "58/58 [==============================] - 0s 2ms/step - loss: 0.3868 - accuracy: 0.8229 - val_loss: 0.6945 - val_accuracy: 0.6719\n",
      "Epoch 167/1000\n",
      "58/58 [==============================] - 0s 2ms/step - loss: 0.3575 - accuracy: 0.8351 - val_loss: 0.6530 - val_accuracy: 0.6562\n",
      "Epoch 168/1000\n",
      "58/58 [==============================] - 0s 2ms/step - loss: 0.3559 - accuracy: 0.8403 - val_loss: 0.6277 - val_accuracy: 0.7083\n",
      "Epoch 169/1000\n",
      "58/58 [==============================] - 0s 2ms/step - loss: 0.3516 - accuracy: 0.8438 - val_loss: 0.6155 - val_accuracy: 0.7083\n",
      "Epoch 170/1000\n",
      "58/58 [==============================] - 0s 2ms/step - loss: 0.3506 - accuracy: 0.8333 - val_loss: 0.6700 - val_accuracy: 0.7031\n",
      "Epoch 171/1000\n",
      "58/58 [==============================] - 0s 2ms/step - loss: 0.3450 - accuracy: 0.8385 - val_loss: 0.6479 - val_accuracy: 0.7135\n"
     ]
    },
    {
     "name": "stdout",
     "output_type": "stream",
     "text": [
      "Epoch 172/1000\n",
      "58/58 [==============================] - 0s 2ms/step - loss: 0.3504 - accuracy: 0.8299 - val_loss: 0.6603 - val_accuracy: 0.6615\n",
      "Epoch 173/1000\n",
      "58/58 [==============================] - 0s 2ms/step - loss: 0.3431 - accuracy: 0.8455 - val_loss: 0.6681 - val_accuracy: 0.7083\n",
      "Epoch 174/1000\n",
      "58/58 [==============================] - 0s 2ms/step - loss: 0.3661 - accuracy: 0.8264 - val_loss: 0.6804 - val_accuracy: 0.6979\n",
      "Epoch 175/1000\n",
      "58/58 [==============================] - 0s 2ms/step - loss: 0.3868 - accuracy: 0.8090 - val_loss: 0.6334 - val_accuracy: 0.6875\n",
      "Epoch 176/1000\n",
      "58/58 [==============================] - 0s 2ms/step - loss: 0.3472 - accuracy: 0.8194 - val_loss: 0.7032 - val_accuracy: 0.6719\n",
      "Epoch 177/1000\n",
      "58/58 [==============================] - 0s 2ms/step - loss: 0.3462 - accuracy: 0.8368 - val_loss: 0.6629 - val_accuracy: 0.6927\n",
      "Epoch 178/1000\n",
      "58/58 [==============================] - 0s 2ms/step - loss: 0.3258 - accuracy: 0.8663 - val_loss: 0.6139 - val_accuracy: 0.7188\n",
      "Epoch 179/1000\n",
      "58/58 [==============================] - 0s 2ms/step - loss: 0.3339 - accuracy: 0.8472 - val_loss: 0.7416 - val_accuracy: 0.6979\n",
      "Epoch 180/1000\n",
      "58/58 [==============================] - 0s 2ms/step - loss: 0.3368 - accuracy: 0.8438 - val_loss: 0.6431 - val_accuracy: 0.6875\n",
      "Epoch 181/1000\n",
      "58/58 [==============================] - 0s 2ms/step - loss: 0.3354 - accuracy: 0.8438 - val_loss: 0.6541 - val_accuracy: 0.6979\n",
      "Epoch 182/1000\n",
      "58/58 [==============================] - 0s 2ms/step - loss: 0.3278 - accuracy: 0.8490 - val_loss: 0.6436 - val_accuracy: 0.7344\n",
      "Epoch 183/1000\n",
      "58/58 [==============================] - 0s 2ms/step - loss: 0.3399 - accuracy: 0.8524 - val_loss: 0.6681 - val_accuracy: 0.6979\n",
      "Epoch 184/1000\n",
      "58/58 [==============================] - 0s 2ms/step - loss: 0.3278 - accuracy: 0.8559 - val_loss: 0.6599 - val_accuracy: 0.7083\n",
      "Epoch 185/1000\n",
      "58/58 [==============================] - 0s 2ms/step - loss: 0.3383 - accuracy: 0.8385 - val_loss: 0.6622 - val_accuracy: 0.6823\n",
      "Epoch 186/1000\n",
      "58/58 [==============================] - 0s 2ms/step - loss: 0.3394 - accuracy: 0.8420 - val_loss: 0.7050 - val_accuracy: 0.6979\n",
      "Epoch 187/1000\n",
      "58/58 [==============================] - 0s 2ms/step - loss: 0.3432 - accuracy: 0.8490 - val_loss: 0.6117 - val_accuracy: 0.7344\n",
      "Epoch 188/1000\n",
      "58/58 [==============================] - 0s 2ms/step - loss: 0.3239 - accuracy: 0.8559 - val_loss: 0.6853 - val_accuracy: 0.7031\n",
      "Epoch 189/1000\n",
      "58/58 [==============================] - 0s 2ms/step - loss: 0.3302 - accuracy: 0.8490 - val_loss: 0.6780 - val_accuracy: 0.7031\n",
      "Epoch 190/1000\n",
      "58/58 [==============================] - 0s 2ms/step - loss: 0.3260 - accuracy: 0.8472 - val_loss: 0.6844 - val_accuracy: 0.7135\n",
      "Epoch 191/1000\n",
      "58/58 [==============================] - 0s 2ms/step - loss: 0.3158 - accuracy: 0.8542 - val_loss: 0.6625 - val_accuracy: 0.6979\n",
      "Epoch 192/1000\n",
      "58/58 [==============================] - 0s 2ms/step - loss: 0.3287 - accuracy: 0.8438 - val_loss: 0.6801 - val_accuracy: 0.6979\n",
      "Epoch 193/1000\n",
      "58/58 [==============================] - 0s 2ms/step - loss: 0.3434 - accuracy: 0.8420 - val_loss: 0.6756 - val_accuracy: 0.6979\n",
      "Epoch 194/1000\n",
      "58/58 [==============================] - 0s 2ms/step - loss: 0.3273 - accuracy: 0.8507 - val_loss: 0.7207 - val_accuracy: 0.6719\n",
      "Epoch 195/1000\n",
      "58/58 [==============================] - 0s 2ms/step - loss: 0.3189 - accuracy: 0.8403 - val_loss: 0.6904 - val_accuracy: 0.7031\n",
      "Epoch 196/1000\n",
      "58/58 [==============================] - 0s 2ms/step - loss: 0.3287 - accuracy: 0.8507 - val_loss: 0.6634 - val_accuracy: 0.7135\n",
      "Epoch 197/1000\n",
      "58/58 [==============================] - 0s 2ms/step - loss: 0.3216 - accuracy: 0.8542 - val_loss: 0.7017 - val_accuracy: 0.6979\n",
      "Epoch 198/1000\n",
      "58/58 [==============================] - 0s 2ms/step - loss: 0.3360 - accuracy: 0.8472 - val_loss: 0.7166 - val_accuracy: 0.6719\n",
      "Epoch 199/1000\n",
      "58/58 [==============================] - 0s 2ms/step - loss: 0.3538 - accuracy: 0.8247 - val_loss: 0.6612 - val_accuracy: 0.6927\n",
      "Epoch 200/1000\n",
      "58/58 [==============================] - 0s 2ms/step - loss: 0.3508 - accuracy: 0.8351 - val_loss: 0.6462 - val_accuracy: 0.7083\n",
      "Epoch 201/1000\n",
      "58/58 [==============================] - 0s 2ms/step - loss: 0.3290 - accuracy: 0.8403 - val_loss: 0.6629 - val_accuracy: 0.6979\n",
      "Epoch 202/1000\n",
      "58/58 [==============================] - 0s 2ms/step - loss: 0.3090 - accuracy: 0.8646 - val_loss: 0.6580 - val_accuracy: 0.7083\n",
      "Epoch 203/1000\n",
      "58/58 [==============================] - 0s 2ms/step - loss: 0.3010 - accuracy: 0.8698 - val_loss: 0.6606 - val_accuracy: 0.6927\n",
      "Epoch 204/1000\n",
      "58/58 [==============================] - 0s 2ms/step - loss: 0.3209 - accuracy: 0.8594 - val_loss: 0.6629 - val_accuracy: 0.6875\n",
      "Epoch 205/1000\n",
      "58/58 [==============================] - 0s 2ms/step - loss: 0.3170 - accuracy: 0.8594 - val_loss: 0.6419 - val_accuracy: 0.6823\n",
      "Epoch 206/1000\n",
      "58/58 [==============================] - 0s 2ms/step - loss: 0.3024 - accuracy: 0.8594 - val_loss: 0.6909 - val_accuracy: 0.6979\n",
      "Epoch 207/1000\n",
      "58/58 [==============================] - 0s 2ms/step - loss: 0.2997 - accuracy: 0.8628 - val_loss: 0.6807 - val_accuracy: 0.7031\n",
      "Epoch 208/1000\n",
      "58/58 [==============================] - 0s 2ms/step - loss: 0.3054 - accuracy: 0.8524 - val_loss: 0.6995 - val_accuracy: 0.7188\n",
      "Epoch 209/1000\n",
      "58/58 [==============================] - 0s 2ms/step - loss: 0.3332 - accuracy: 0.8594 - val_loss: 0.6959 - val_accuracy: 0.6979\n",
      "Epoch 210/1000\n",
      "58/58 [==============================] - 0s 2ms/step - loss: 0.3111 - accuracy: 0.8663 - val_loss: 0.6897 - val_accuracy: 0.6875\n",
      "Epoch 211/1000\n",
      "58/58 [==============================] - 0s 2ms/step - loss: 0.3068 - accuracy: 0.8594 - val_loss: 0.6618 - val_accuracy: 0.6927\n",
      "Epoch 212/1000\n",
      "58/58 [==============================] - 0s 2ms/step - loss: 0.2929 - accuracy: 0.8681 - val_loss: 0.6747 - val_accuracy: 0.7083\n",
      "Epoch 213/1000\n",
      "58/58 [==============================] - 0s 2ms/step - loss: 0.3085 - accuracy: 0.8524 - val_loss: 0.6777 - val_accuracy: 0.7188\n",
      "Epoch 214/1000\n",
      "58/58 [==============================] - 0s 2ms/step - loss: 0.3084 - accuracy: 0.8507 - val_loss: 0.6475 - val_accuracy: 0.6979\n",
      "Epoch 215/1000\n",
      "58/58 [==============================] - 0s 2ms/step - loss: 0.3065 - accuracy: 0.8576 - val_loss: 0.7028 - val_accuracy: 0.6875\n",
      "Epoch 216/1000\n",
      "58/58 [==============================] - 0s 2ms/step - loss: 0.3036 - accuracy: 0.8559 - val_loss: 0.6999 - val_accuracy: 0.6875\n",
      "Epoch 217/1000\n",
      "58/58 [==============================] - 0s 2ms/step - loss: 0.3309 - accuracy: 0.8438 - val_loss: 0.6697 - val_accuracy: 0.6875\n",
      "Epoch 218/1000\n",
      "58/58 [==============================] - 0s 2ms/step - loss: 0.3342 - accuracy: 0.8438 - val_loss: 0.7521 - val_accuracy: 0.7135\n",
      "Epoch 219/1000\n",
      "58/58 [==============================] - 0s 2ms/step - loss: 0.2971 - accuracy: 0.8681 - val_loss: 0.6707 - val_accuracy: 0.7083\n",
      "Epoch 220/1000\n",
      "58/58 [==============================] - 0s 2ms/step - loss: 0.3087 - accuracy: 0.8628 - val_loss: 0.6685 - val_accuracy: 0.6979\n",
      "Epoch 221/1000\n",
      "58/58 [==============================] - 0s 2ms/step - loss: 0.3004 - accuracy: 0.8542 - val_loss: 0.7176 - val_accuracy: 0.6719\n",
      "Epoch 222/1000\n",
      "58/58 [==============================] - 0s 2ms/step - loss: 0.3204 - accuracy: 0.8490 - val_loss: 0.6797 - val_accuracy: 0.6823\n",
      "Epoch 223/1000\n",
      "58/58 [==============================] - 0s 2ms/step - loss: 0.3085 - accuracy: 0.8507 - val_loss: 0.6889 - val_accuracy: 0.7083\n",
      "Epoch 224/1000\n",
      "58/58 [==============================] - 0s 2ms/step - loss: 0.3070 - accuracy: 0.8507 - val_loss: 0.6726 - val_accuracy: 0.6719\n",
      "Epoch 225/1000\n",
      "58/58 [==============================] - 0s 2ms/step - loss: 0.2982 - accuracy: 0.8576 - val_loss: 0.7159 - val_accuracy: 0.6927\n",
      "Epoch 226/1000\n",
      "58/58 [==============================] - 0s 2ms/step - loss: 0.2985 - accuracy: 0.8663 - val_loss: 0.6806 - val_accuracy: 0.6823\n",
      "Epoch 227/1000\n",
      "58/58 [==============================] - 0s 2ms/step - loss: 0.2870 - accuracy: 0.8681 - val_loss: 0.7645 - val_accuracy: 0.7083\n",
      "Epoch 228/1000\n",
      "58/58 [==============================] - 0s 2ms/step - loss: 0.2893 - accuracy: 0.8681 - val_loss: 0.7429 - val_accuracy: 0.6771\n"
     ]
    },
    {
     "name": "stdout",
     "output_type": "stream",
     "text": [
      "Epoch 229/1000\n",
      "58/58 [==============================] - 0s 2ms/step - loss: 0.2946 - accuracy: 0.8715 - val_loss: 0.7606 - val_accuracy: 0.6771\n",
      "Epoch 230/1000\n",
      "58/58 [==============================] - 0s 2ms/step - loss: 0.3248 - accuracy: 0.8507 - val_loss: 0.7291 - val_accuracy: 0.6927\n",
      "Epoch 231/1000\n",
      "58/58 [==============================] - 0s 2ms/step - loss: 0.3371 - accuracy: 0.8611 - val_loss: 0.7276 - val_accuracy: 0.6875\n",
      "Epoch 232/1000\n",
      "58/58 [==============================] - 0s 2ms/step - loss: 0.3131 - accuracy: 0.8507 - val_loss: 0.7299 - val_accuracy: 0.6823\n",
      "Epoch 233/1000\n",
      "58/58 [==============================] - 0s 2ms/step - loss: 0.2821 - accuracy: 0.8663 - val_loss: 0.7358 - val_accuracy: 0.6875\n",
      "Epoch 234/1000\n",
      "58/58 [==============================] - 0s 2ms/step - loss: 0.3176 - accuracy: 0.8524 - val_loss: 0.7371 - val_accuracy: 0.7031\n",
      "Epoch 235/1000\n",
      "58/58 [==============================] - 0s 2ms/step - loss: 0.3272 - accuracy: 0.8490 - val_loss: 0.6728 - val_accuracy: 0.6667\n",
      "Epoch 236/1000\n",
      "58/58 [==============================] - 0s 2ms/step - loss: 0.2817 - accuracy: 0.8767 - val_loss: 0.7290 - val_accuracy: 0.6667\n",
      "Epoch 237/1000\n",
      "58/58 [==============================] - 0s 2ms/step - loss: 0.2900 - accuracy: 0.8698 - val_loss: 0.7111 - val_accuracy: 0.6771\n",
      "Epoch 238/1000\n",
      "58/58 [==============================] - 0s 2ms/step - loss: 0.2925 - accuracy: 0.8646 - val_loss: 0.7079 - val_accuracy: 0.6771\n",
      "Epoch 239/1000\n",
      "58/58 [==============================] - 0s 2ms/step - loss: 0.2939 - accuracy: 0.8472 - val_loss: 0.7219 - val_accuracy: 0.6927\n",
      "Epoch 240/1000\n",
      "58/58 [==============================] - 0s 2ms/step - loss: 0.2733 - accuracy: 0.8698 - val_loss: 0.6742 - val_accuracy: 0.7083\n",
      "Epoch 241/1000\n",
      "58/58 [==============================] - 0s 2ms/step - loss: 0.2876 - accuracy: 0.8663 - val_loss: 0.7725 - val_accuracy: 0.7031\n",
      "Epoch 242/1000\n",
      "58/58 [==============================] - 0s 2ms/step - loss: 0.2806 - accuracy: 0.8785 - val_loss: 0.7019 - val_accuracy: 0.6979\n",
      "Epoch 243/1000\n",
      "58/58 [==============================] - 0s 2ms/step - loss: 0.2781 - accuracy: 0.8733 - val_loss: 0.7221 - val_accuracy: 0.6823\n",
      "Epoch 244/1000\n",
      "58/58 [==============================] - 0s 2ms/step - loss: 0.2753 - accuracy: 0.8663 - val_loss: 0.7756 - val_accuracy: 0.6823\n",
      "Epoch 245/1000\n",
      "58/58 [==============================] - 0s 2ms/step - loss: 0.3027 - accuracy: 0.8646 - val_loss: 0.7291 - val_accuracy: 0.6667\n",
      "Epoch 246/1000\n",
      "58/58 [==============================] - 0s 2ms/step - loss: 0.2969 - accuracy: 0.8559 - val_loss: 0.7723 - val_accuracy: 0.7083\n",
      "Epoch 247/1000\n",
      "58/58 [==============================] - 0s 2ms/step - loss: 0.2940 - accuracy: 0.8542 - val_loss: 0.8302 - val_accuracy: 0.6771\n",
      "Epoch 248/1000\n",
      "58/58 [==============================] - 0s 2ms/step - loss: 0.2800 - accuracy: 0.8785 - val_loss: 0.7506 - val_accuracy: 0.6875\n",
      "Epoch 249/1000\n",
      "58/58 [==============================] - 0s 2ms/step - loss: 0.2900 - accuracy: 0.8663 - val_loss: 0.7953 - val_accuracy: 0.6927\n",
      "Epoch 250/1000\n",
      "58/58 [==============================] - 0s 2ms/step - loss: 0.3282 - accuracy: 0.8576 - val_loss: 0.7234 - val_accuracy: 0.6927\n",
      "Epoch 251/1000\n",
      "58/58 [==============================] - 0s 2ms/step - loss: 0.2859 - accuracy: 0.8646 - val_loss: 0.7373 - val_accuracy: 0.6927\n",
      "Epoch 252/1000\n",
      "58/58 [==============================] - 0s 2ms/step - loss: 0.3150 - accuracy: 0.8576 - val_loss: 0.7168 - val_accuracy: 0.7031\n",
      "Epoch 253/1000\n",
      "58/58 [==============================] - 0s 2ms/step - loss: 0.2905 - accuracy: 0.8733 - val_loss: 0.7459 - val_accuracy: 0.6927\n",
      "Epoch 254/1000\n",
      "58/58 [==============================] - 0s 2ms/step - loss: 0.2748 - accuracy: 0.8854 - val_loss: 0.7202 - val_accuracy: 0.7188\n",
      "Epoch 255/1000\n",
      "58/58 [==============================] - 0s 2ms/step - loss: 0.2771 - accuracy: 0.8785 - val_loss: 0.7866 - val_accuracy: 0.6771\n",
      "Epoch 256/1000\n",
      "58/58 [==============================] - 0s 2ms/step - loss: 0.2675 - accuracy: 0.8785 - val_loss: 0.7398 - val_accuracy: 0.6979\n",
      "Epoch 257/1000\n",
      "58/58 [==============================] - 0s 2ms/step - loss: 0.2775 - accuracy: 0.8837 - val_loss: 0.7350 - val_accuracy: 0.6927\n",
      "Epoch 258/1000\n",
      "58/58 [==============================] - 0s 2ms/step - loss: 0.2773 - accuracy: 0.8819 - val_loss: 0.8163 - val_accuracy: 0.6823\n",
      "Epoch 259/1000\n",
      "58/58 [==============================] - 0s 2ms/step - loss: 0.2762 - accuracy: 0.8802 - val_loss: 0.7657 - val_accuracy: 0.6979\n",
      "Epoch 260/1000\n",
      "58/58 [==============================] - 0s 2ms/step - loss: 0.3050 - accuracy: 0.8542 - val_loss: 0.7916 - val_accuracy: 0.6875\n",
      "Epoch 261/1000\n",
      "58/58 [==============================] - 0s 2ms/step - loss: 0.2701 - accuracy: 0.8819 - val_loss: 0.7529 - val_accuracy: 0.6875\n",
      "Epoch 262/1000\n",
      "58/58 [==============================] - 0s 2ms/step - loss: 0.2686 - accuracy: 0.8733 - val_loss: 0.7454 - val_accuracy: 0.6875\n",
      "Epoch 263/1000\n",
      "58/58 [==============================] - 0s 2ms/step - loss: 0.2727 - accuracy: 0.8698 - val_loss: 0.8480 - val_accuracy: 0.6875\n",
      "Epoch 264/1000\n",
      "58/58 [==============================] - 0s 2ms/step - loss: 0.2692 - accuracy: 0.8819 - val_loss: 0.8687 - val_accuracy: 0.6615\n",
      "Epoch 265/1000\n",
      "58/58 [==============================] - 0s 2ms/step - loss: 0.2745 - accuracy: 0.8715 - val_loss: 0.8637 - val_accuracy: 0.6875\n",
      "Epoch 266/1000\n",
      "58/58 [==============================] - 0s 2ms/step - loss: 0.3153 - accuracy: 0.8524 - val_loss: 0.7428 - val_accuracy: 0.6927\n",
      "Epoch 267/1000\n",
      "58/58 [==============================] - 0s 2ms/step - loss: 0.2737 - accuracy: 0.8785 - val_loss: 0.7237 - val_accuracy: 0.6875\n",
      "Epoch 268/1000\n",
      "58/58 [==============================] - 0s 2ms/step - loss: 0.2767 - accuracy: 0.8819 - val_loss: 0.8198 - val_accuracy: 0.6667\n",
      "Epoch 269/1000\n",
      "58/58 [==============================] - 0s 2ms/step - loss: 0.2832 - accuracy: 0.8733 - val_loss: 0.8558 - val_accuracy: 0.6979\n",
      "Epoch 270/1000\n",
      "58/58 [==============================] - 0s 2ms/step - loss: 0.2805 - accuracy: 0.8698 - val_loss: 0.8341 - val_accuracy: 0.7083\n",
      "Epoch 271/1000\n",
      "58/58 [==============================] - 0s 2ms/step - loss: 0.2733 - accuracy: 0.8767 - val_loss: 0.8492 - val_accuracy: 0.6615\n",
      "Epoch 272/1000\n",
      "58/58 [==============================] - 0s 2ms/step - loss: 0.2519 - accuracy: 0.8854 - val_loss: 0.8751 - val_accuracy: 0.6667\n",
      "Epoch 273/1000\n",
      "58/58 [==============================] - 0s 2ms/step - loss: 0.2627 - accuracy: 0.8958 - val_loss: 0.8915 - val_accuracy: 0.7031\n",
      "Epoch 274/1000\n",
      "58/58 [==============================] - 0s 2ms/step - loss: 0.2619 - accuracy: 0.8802 - val_loss: 0.9034 - val_accuracy: 0.6667\n",
      "Epoch 275/1000\n",
      "58/58 [==============================] - 0s 2ms/step - loss: 0.2537 - accuracy: 0.8976 - val_loss: 0.8841 - val_accuracy: 0.7031\n",
      "Epoch 276/1000\n",
      "58/58 [==============================] - 0s 2ms/step - loss: 0.2761 - accuracy: 0.8750 - val_loss: 0.8249 - val_accuracy: 0.6719\n",
      "Epoch 277/1000\n",
      "58/58 [==============================] - 0s 2ms/step - loss: 0.2654 - accuracy: 0.8837 - val_loss: 0.8058 - val_accuracy: 0.6667\n",
      "Epoch 278/1000\n",
      "58/58 [==============================] - 0s 2ms/step - loss: 0.2738 - accuracy: 0.8733 - val_loss: 0.7902 - val_accuracy: 0.6823\n",
      "Epoch 279/1000\n",
      "58/58 [==============================] - 0s 2ms/step - loss: 0.2651 - accuracy: 0.8819 - val_loss: 0.7692 - val_accuracy: 0.6667\n",
      "Epoch 280/1000\n",
      "58/58 [==============================] - 0s 2ms/step - loss: 0.2755 - accuracy: 0.8698 - val_loss: 0.7683 - val_accuracy: 0.6979\n",
      "Epoch 281/1000\n",
      "58/58 [==============================] - 0s 2ms/step - loss: 0.2794 - accuracy: 0.8698 - val_loss: 0.7317 - val_accuracy: 0.6771\n",
      "Epoch 282/1000\n",
      "58/58 [==============================] - 0s 2ms/step - loss: 0.2641 - accuracy: 0.8785 - val_loss: 0.8272 - val_accuracy: 0.6875\n",
      "Epoch 283/1000\n",
      "58/58 [==============================] - 0s 2ms/step - loss: 0.2688 - accuracy: 0.8663 - val_loss: 0.7874 - val_accuracy: 0.7083\n",
      "Epoch 284/1000\n",
      "58/58 [==============================] - 0s 2ms/step - loss: 0.2472 - accuracy: 0.8958 - val_loss: 0.7697 - val_accuracy: 0.7031\n",
      "Epoch 285/1000\n",
      "58/58 [==============================] - 0s 2ms/step - loss: 0.2751 - accuracy: 0.8733 - val_loss: 0.8251 - val_accuracy: 0.6823\n"
     ]
    },
    {
     "name": "stdout",
     "output_type": "stream",
     "text": [
      "Epoch 286/1000\n",
      "58/58 [==============================] - 0s 2ms/step - loss: 0.2531 - accuracy: 0.8819 - val_loss: 0.7954 - val_accuracy: 0.6875\n",
      "Epoch 287/1000\n",
      "58/58 [==============================] - 0s 2ms/step - loss: 0.2607 - accuracy: 0.8802 - val_loss: 0.8301 - val_accuracy: 0.6875\n",
      "Epoch 288/1000\n",
      "58/58 [==============================] - 0s 2ms/step - loss: 0.2688 - accuracy: 0.8906 - val_loss: 0.7916 - val_accuracy: 0.6823\n",
      "Epoch 289/1000\n",
      "58/58 [==============================] - 0s 2ms/step - loss: 0.2706 - accuracy: 0.8663 - val_loss: 0.8323 - val_accuracy: 0.6771\n",
      "Epoch 290/1000\n",
      "58/58 [==============================] - 0s 2ms/step - loss: 0.2652 - accuracy: 0.8767 - val_loss: 0.8192 - val_accuracy: 0.6823\n",
      "Epoch 291/1000\n",
      "58/58 [==============================] - 0s 2ms/step - loss: 0.2414 - accuracy: 0.8958 - val_loss: 0.8087 - val_accuracy: 0.6615\n",
      "Epoch 292/1000\n",
      "58/58 [==============================] - 0s 2ms/step - loss: 0.2402 - accuracy: 0.9028 - val_loss: 0.7780 - val_accuracy: 0.6875\n",
      "Epoch 293/1000\n",
      "58/58 [==============================] - 0s 2ms/step - loss: 0.2383 - accuracy: 0.8958 - val_loss: 0.8071 - val_accuracy: 0.6823\n",
      "Epoch 294/1000\n",
      "58/58 [==============================] - 0s 2ms/step - loss: 0.2984 - accuracy: 0.8594 - val_loss: 0.8070 - val_accuracy: 0.6667\n",
      "Epoch 295/1000\n",
      "58/58 [==============================] - 0s 2ms/step - loss: 0.2577 - accuracy: 0.8924 - val_loss: 0.8680 - val_accuracy: 0.6510\n",
      "Epoch 296/1000\n",
      "58/58 [==============================] - 0s 2ms/step - loss: 0.2532 - accuracy: 0.8889 - val_loss: 0.8024 - val_accuracy: 0.6823\n",
      "Epoch 297/1000\n",
      "58/58 [==============================] - 0s 2ms/step - loss: 0.2673 - accuracy: 0.8819 - val_loss: 0.8270 - val_accuracy: 0.6875\n",
      "Epoch 298/1000\n",
      "58/58 [==============================] - 0s 2ms/step - loss: 0.2568 - accuracy: 0.8819 - val_loss: 0.8035 - val_accuracy: 0.6979\n",
      "Epoch 299/1000\n",
      "58/58 [==============================] - 0s 2ms/step - loss: 0.2759 - accuracy: 0.8628 - val_loss: 0.7819 - val_accuracy: 0.6719\n",
      "Epoch 300/1000\n",
      "58/58 [==============================] - 0s 2ms/step - loss: 0.2513 - accuracy: 0.8681 - val_loss: 0.8550 - val_accuracy: 0.6927\n",
      "Epoch 301/1000\n",
      "58/58 [==============================] - 0s 2ms/step - loss: 0.2594 - accuracy: 0.8993 - val_loss: 0.8426 - val_accuracy: 0.7031\n",
      "Epoch 302/1000\n",
      "58/58 [==============================] - 0s 2ms/step - loss: 0.2492 - accuracy: 0.9097 - val_loss: 0.8482 - val_accuracy: 0.6979\n",
      "Epoch 303/1000\n",
      "58/58 [==============================] - 0s 2ms/step - loss: 0.2525 - accuracy: 0.8854 - val_loss: 0.8188 - val_accuracy: 0.6771\n",
      "Epoch 304/1000\n",
      "58/58 [==============================] - 0s 2ms/step - loss: 0.2450 - accuracy: 0.8889 - val_loss: 0.8282 - val_accuracy: 0.6823\n",
      "Epoch 305/1000\n",
      "58/58 [==============================] - 0s 2ms/step - loss: 0.2360 - accuracy: 0.8924 - val_loss: 0.8829 - val_accuracy: 0.6875\n",
      "Epoch 306/1000\n",
      "58/58 [==============================] - 0s 2ms/step - loss: 0.2450 - accuracy: 0.8872 - val_loss: 0.9309 - val_accuracy: 0.6719\n",
      "Epoch 307/1000\n",
      "58/58 [==============================] - 0s 2ms/step - loss: 0.2519 - accuracy: 0.8837 - val_loss: 0.8606 - val_accuracy: 0.6771\n",
      "Epoch 308/1000\n",
      "58/58 [==============================] - 0s 2ms/step - loss: 0.2666 - accuracy: 0.8819 - val_loss: 0.8176 - val_accuracy: 0.7083\n",
      "Epoch 309/1000\n",
      "58/58 [==============================] - 0s 2ms/step - loss: 0.2490 - accuracy: 0.8924 - val_loss: 0.8724 - val_accuracy: 0.6615\n",
      "Epoch 310/1000\n",
      "58/58 [==============================] - 0s 2ms/step - loss: 0.2441 - accuracy: 0.8993 - val_loss: 0.8919 - val_accuracy: 0.6667\n",
      "Epoch 311/1000\n",
      "58/58 [==============================] - 0s 2ms/step - loss: 0.2652 - accuracy: 0.8646 - val_loss: 0.9802 - val_accuracy: 0.6875\n",
      "Epoch 312/1000\n",
      "58/58 [==============================] - 0s 2ms/step - loss: 0.2477 - accuracy: 0.8958 - val_loss: 0.9346 - val_accuracy: 0.6458\n",
      "Epoch 313/1000\n",
      "58/58 [==============================] - 0s 2ms/step - loss: 0.2351 - accuracy: 0.8889 - val_loss: 0.9170 - val_accuracy: 0.7083\n",
      "Epoch 314/1000\n",
      "58/58 [==============================] - 0s 2ms/step - loss: 0.2551 - accuracy: 0.8958 - val_loss: 0.8467 - val_accuracy: 0.7031\n",
      "Epoch 315/1000\n",
      "58/58 [==============================] - 0s 2ms/step - loss: 0.2341 - accuracy: 0.9010 - val_loss: 0.9431 - val_accuracy: 0.6927\n",
      "Epoch 316/1000\n",
      "58/58 [==============================] - 0s 2ms/step - loss: 0.2333 - accuracy: 0.9062 - val_loss: 0.9198 - val_accuracy: 0.6719\n",
      "Epoch 317/1000\n",
      "58/58 [==============================] - 0s 2ms/step - loss: 0.2582 - accuracy: 0.8993 - val_loss: 0.8182 - val_accuracy: 0.7031\n",
      "Epoch 318/1000\n",
      "58/58 [==============================] - 0s 2ms/step - loss: 0.2466 - accuracy: 0.8906 - val_loss: 0.8825 - val_accuracy: 0.6927\n",
      "Epoch 319/1000\n",
      "58/58 [==============================] - 0s 2ms/step - loss: 0.2467 - accuracy: 0.8854 - val_loss: 0.8474 - val_accuracy: 0.7083\n",
      "Epoch 320/1000\n",
      "58/58 [==============================] - 0s 2ms/step - loss: 0.2344 - accuracy: 0.8993 - val_loss: 0.8872 - val_accuracy: 0.6927\n",
      "Epoch 321/1000\n",
      "58/58 [==============================] - 0s 2ms/step - loss: 0.2431 - accuracy: 0.8924 - val_loss: 0.8802 - val_accuracy: 0.6771\n",
      "Epoch 322/1000\n",
      "58/58 [==============================] - 0s 2ms/step - loss: 0.2245 - accuracy: 0.9045 - val_loss: 0.9138 - val_accuracy: 0.6927\n",
      "Epoch 323/1000\n",
      "58/58 [==============================] - 0s 2ms/step - loss: 0.2411 - accuracy: 0.8906 - val_loss: 0.9042 - val_accuracy: 0.6875\n",
      "Epoch 324/1000\n",
      "58/58 [==============================] - 0s 2ms/step - loss: 0.2350 - accuracy: 0.8941 - val_loss: 0.9017 - val_accuracy: 0.6979\n",
      "Epoch 325/1000\n",
      "58/58 [==============================] - 0s 2ms/step - loss: 0.2386 - accuracy: 0.8872 - val_loss: 0.9518 - val_accuracy: 0.6771\n",
      "Epoch 326/1000\n",
      "58/58 [==============================] - 0s 2ms/step - loss: 0.2419 - accuracy: 0.8767 - val_loss: 0.9381 - val_accuracy: 0.6771\n",
      "Epoch 327/1000\n",
      "58/58 [==============================] - 0s 2ms/step - loss: 0.2552 - accuracy: 0.8785 - val_loss: 0.9557 - val_accuracy: 0.6979\n",
      "Epoch 328/1000\n",
      "58/58 [==============================] - 0s 2ms/step - loss: 0.2631 - accuracy: 0.8941 - val_loss: 0.8477 - val_accuracy: 0.6979\n",
      "Epoch 329/1000\n",
      "58/58 [==============================] - 0s 2ms/step - loss: 0.2642 - accuracy: 0.8750 - val_loss: 0.8750 - val_accuracy: 0.7083\n",
      "Epoch 330/1000\n",
      "58/58 [==============================] - 0s 2ms/step - loss: 0.2379 - accuracy: 0.8941 - val_loss: 0.9186 - val_accuracy: 0.6719\n",
      "Epoch 331/1000\n",
      "58/58 [==============================] - 0s 2ms/step - loss: 0.2111 - accuracy: 0.9115 - val_loss: 0.9536 - val_accuracy: 0.6562\n",
      "Epoch 332/1000\n",
      "58/58 [==============================] - 0s 2ms/step - loss: 0.2466 - accuracy: 0.8906 - val_loss: 0.9207 - val_accuracy: 0.6927\n",
      "Epoch 333/1000\n",
      "58/58 [==============================] - 0s 2ms/step - loss: 0.2479 - accuracy: 0.8958 - val_loss: 0.8832 - val_accuracy: 0.6719\n",
      "Epoch 334/1000\n",
      "58/58 [==============================] - 0s 2ms/step - loss: 0.2150 - accuracy: 0.9028 - val_loss: 1.0217 - val_accuracy: 0.6667\n",
      "Epoch 335/1000\n",
      "58/58 [==============================] - 0s 2ms/step - loss: 0.2191 - accuracy: 0.9045 - val_loss: 0.8595 - val_accuracy: 0.7135\n",
      "Epoch 336/1000\n",
      "58/58 [==============================] - 0s 2ms/step - loss: 0.2480 - accuracy: 0.8854 - val_loss: 0.9098 - val_accuracy: 0.6771\n",
      "Epoch 337/1000\n",
      "58/58 [==============================] - 0s 2ms/step - loss: 0.2512 - accuracy: 0.8854 - val_loss: 0.8630 - val_accuracy: 0.6719\n",
      "Epoch 338/1000\n",
      "58/58 [==============================] - 0s 2ms/step - loss: 0.3023 - accuracy: 0.8750 - val_loss: 0.9587 - val_accuracy: 0.7135\n",
      "Epoch 339/1000\n",
      "58/58 [==============================] - 0s 2ms/step - loss: 0.2460 - accuracy: 0.8872 - val_loss: 0.9698 - val_accuracy: 0.6771\n",
      "Epoch 340/1000\n",
      "58/58 [==============================] - 0s 2ms/step - loss: 0.2302 - accuracy: 0.8872 - val_loss: 0.9153 - val_accuracy: 0.6823\n",
      "Epoch 341/1000\n",
      "58/58 [==============================] - 0s 2ms/step - loss: 0.2677 - accuracy: 0.8785 - val_loss: 0.8608 - val_accuracy: 0.6979\n",
      "Epoch 342/1000\n",
      "58/58 [==============================] - 0s 2ms/step - loss: 0.2518 - accuracy: 0.8715 - val_loss: 0.8989 - val_accuracy: 0.7083\n"
     ]
    },
    {
     "name": "stdout",
     "output_type": "stream",
     "text": [
      "Epoch 343/1000\n",
      "58/58 [==============================] - 0s 2ms/step - loss: 0.2389 - accuracy: 0.8941 - val_loss: 0.9011 - val_accuracy: 0.7083\n",
      "Epoch 344/1000\n",
      "58/58 [==============================] - 0s 2ms/step - loss: 0.2234 - accuracy: 0.9010 - val_loss: 1.0367 - val_accuracy: 0.6875\n",
      "Epoch 345/1000\n",
      "58/58 [==============================] - 0s 2ms/step - loss: 0.2209 - accuracy: 0.8941 - val_loss: 1.0270 - val_accuracy: 0.6458\n",
      "Epoch 346/1000\n",
      "58/58 [==============================] - 0s 2ms/step - loss: 0.2352 - accuracy: 0.9028 - val_loss: 0.8477 - val_accuracy: 0.6875\n",
      "Epoch 347/1000\n",
      "58/58 [==============================] - 0s 2ms/step - loss: 0.2259 - accuracy: 0.8924 - val_loss: 0.9568 - val_accuracy: 0.6615\n",
      "Epoch 348/1000\n",
      "58/58 [==============================] - 0s 2ms/step - loss: 0.2203 - accuracy: 0.8941 - val_loss: 0.9736 - val_accuracy: 0.6823\n",
      "Epoch 349/1000\n",
      "58/58 [==============================] - 0s 2ms/step - loss: 0.2118 - accuracy: 0.9097 - val_loss: 0.9506 - val_accuracy: 0.6615\n",
      "Epoch 350/1000\n",
      "58/58 [==============================] - 0s 2ms/step - loss: 0.2270 - accuracy: 0.8906 - val_loss: 0.9157 - val_accuracy: 0.6771\n",
      "Epoch 351/1000\n",
      "58/58 [==============================] - 0s 2ms/step - loss: 0.2683 - accuracy: 0.8872 - val_loss: 1.0043 - val_accuracy: 0.6458\n",
      "Epoch 352/1000\n",
      "58/58 [==============================] - 0s 2ms/step - loss: 0.3314 - accuracy: 0.8490 - val_loss: 0.9550 - val_accuracy: 0.6719\n",
      "Epoch 353/1000\n",
      "58/58 [==============================] - 0s 2ms/step - loss: 0.2652 - accuracy: 0.8733 - val_loss: 0.9492 - val_accuracy: 0.6458\n",
      "Epoch 354/1000\n",
      "58/58 [==============================] - 0s 2ms/step - loss: 0.2474 - accuracy: 0.8906 - val_loss: 0.9335 - val_accuracy: 0.6719\n",
      "Epoch 355/1000\n",
      "58/58 [==============================] - 0s 2ms/step - loss: 0.2220 - accuracy: 0.8924 - val_loss: 0.8762 - val_accuracy: 0.7083\n",
      "Epoch 356/1000\n",
      "58/58 [==============================] - 0s 2ms/step - loss: 0.2182 - accuracy: 0.9028 - val_loss: 0.9446 - val_accuracy: 0.6875\n",
      "Epoch 357/1000\n",
      "58/58 [==============================] - 0s 2ms/step - loss: 0.2526 - accuracy: 0.8802 - val_loss: 1.0744 - val_accuracy: 0.6562\n",
      "Epoch 358/1000\n",
      "58/58 [==============================] - 0s 2ms/step - loss: 0.2491 - accuracy: 0.9115 - val_loss: 1.0516 - val_accuracy: 0.6667\n",
      "Epoch 359/1000\n",
      "58/58 [==============================] - 0s 2ms/step - loss: 0.2195 - accuracy: 0.8941 - val_loss: 0.9581 - val_accuracy: 0.6927\n",
      "Epoch 360/1000\n",
      "58/58 [==============================] - 0s 2ms/step - loss: 0.2149 - accuracy: 0.9097 - val_loss: 0.9635 - val_accuracy: 0.6979\n",
      "Epoch 361/1000\n",
      "58/58 [==============================] - 0s 2ms/step - loss: 0.2283 - accuracy: 0.9045 - val_loss: 0.9467 - val_accuracy: 0.6927\n",
      "Epoch 362/1000\n",
      "58/58 [==============================] - 0s 2ms/step - loss: 0.2082 - accuracy: 0.9062 - val_loss: 0.9458 - val_accuracy: 0.6719\n",
      "Epoch 363/1000\n",
      "58/58 [==============================] - 0s 2ms/step - loss: 0.2346 - accuracy: 0.8906 - val_loss: 1.0113 - val_accuracy: 0.6719\n",
      "Epoch 364/1000\n",
      "58/58 [==============================] - 0s 2ms/step - loss: 0.3262 - accuracy: 0.8611 - val_loss: 1.0144 - val_accuracy: 0.6771\n",
      "Epoch 365/1000\n",
      "58/58 [==============================] - 0s 2ms/step - loss: 0.2898 - accuracy: 0.8785 - val_loss: 0.9384 - val_accuracy: 0.6771\n",
      "Epoch 366/1000\n",
      "58/58 [==============================] - 0s 2ms/step - loss: 0.2127 - accuracy: 0.9045 - val_loss: 0.9631 - val_accuracy: 0.6667\n",
      "Epoch 367/1000\n",
      "58/58 [==============================] - 0s 2ms/step - loss: 0.1980 - accuracy: 0.9115 - val_loss: 0.9653 - val_accuracy: 0.6719\n",
      "Epoch 368/1000\n",
      "58/58 [==============================] - 0s 2ms/step - loss: 0.2596 - accuracy: 0.8767 - val_loss: 0.9236 - val_accuracy: 0.6927\n",
      "Epoch 369/1000\n",
      "58/58 [==============================] - 0s 2ms/step - loss: 0.2284 - accuracy: 0.8872 - val_loss: 0.9547 - val_accuracy: 0.7135\n",
      "Epoch 370/1000\n",
      "58/58 [==============================] - 0s 2ms/step - loss: 0.2059 - accuracy: 0.9149 - val_loss: 1.0183 - val_accuracy: 0.6771\n",
      "Epoch 371/1000\n",
      "58/58 [==============================] - 0s 2ms/step - loss: 0.2240 - accuracy: 0.8976 - val_loss: 1.0438 - val_accuracy: 0.6562\n",
      "Epoch 372/1000\n",
      "58/58 [==============================] - 0s 2ms/step - loss: 0.2163 - accuracy: 0.9028 - val_loss: 1.0046 - val_accuracy: 0.7031\n",
      "Epoch 373/1000\n",
      "58/58 [==============================] - 0s 2ms/step - loss: 0.2181 - accuracy: 0.9062 - val_loss: 1.0774 - val_accuracy: 0.6979\n",
      "Epoch 374/1000\n",
      "58/58 [==============================] - 0s 2ms/step - loss: 0.2322 - accuracy: 0.8924 - val_loss: 1.0138 - val_accuracy: 0.6927\n",
      "Epoch 375/1000\n",
      "58/58 [==============================] - 0s 2ms/step - loss: 0.2377 - accuracy: 0.8924 - val_loss: 1.1031 - val_accuracy: 0.6615\n",
      "Epoch 376/1000\n",
      "58/58 [==============================] - 0s 2ms/step - loss: 0.2134 - accuracy: 0.9062 - val_loss: 0.9978 - val_accuracy: 0.6823\n",
      "Epoch 377/1000\n",
      "58/58 [==============================] - 0s 2ms/step - loss: 0.2138 - accuracy: 0.9010 - val_loss: 1.0654 - val_accuracy: 0.7188\n",
      "Epoch 378/1000\n",
      "58/58 [==============================] - 0s 2ms/step - loss: 0.2133 - accuracy: 0.8993 - val_loss: 1.0489 - val_accuracy: 0.7083\n",
      "Epoch 379/1000\n",
      "58/58 [==============================] - 0s 2ms/step - loss: 0.2313 - accuracy: 0.8941 - val_loss: 1.0040 - val_accuracy: 0.6823\n",
      "Epoch 380/1000\n",
      "58/58 [==============================] - 0s 2ms/step - loss: 0.2180 - accuracy: 0.9010 - val_loss: 1.0154 - val_accuracy: 0.6823\n",
      "Epoch 381/1000\n",
      "58/58 [==============================] - 0s 2ms/step - loss: 0.2112 - accuracy: 0.9115 - val_loss: 1.1350 - val_accuracy: 0.6615\n",
      "Epoch 382/1000\n",
      "58/58 [==============================] - 0s 2ms/step - loss: 0.2169 - accuracy: 0.9097 - val_loss: 1.0949 - val_accuracy: 0.6719\n",
      "Epoch 383/1000\n",
      "58/58 [==============================] - 0s 2ms/step - loss: 0.1920 - accuracy: 0.9097 - val_loss: 1.0677 - val_accuracy: 0.6823\n",
      "Epoch 384/1000\n",
      "58/58 [==============================] - 0s 2ms/step - loss: 0.2070 - accuracy: 0.9201 - val_loss: 1.1356 - val_accuracy: 0.6875\n",
      "Epoch 385/1000\n",
      "58/58 [==============================] - 0s 2ms/step - loss: 0.1993 - accuracy: 0.9097 - val_loss: 1.1677 - val_accuracy: 0.6562\n",
      "Epoch 386/1000\n",
      "58/58 [==============================] - 0s 2ms/step - loss: 0.2040 - accuracy: 0.9045 - val_loss: 1.0175 - val_accuracy: 0.6979\n",
      "Epoch 387/1000\n",
      "58/58 [==============================] - 0s 2ms/step - loss: 0.2180 - accuracy: 0.9080 - val_loss: 1.0195 - val_accuracy: 0.6875\n",
      "Epoch 388/1000\n",
      "58/58 [==============================] - 0s 2ms/step - loss: 0.2259 - accuracy: 0.9045 - val_loss: 1.0779 - val_accuracy: 0.7083\n",
      "Epoch 389/1000\n",
      "58/58 [==============================] - 0s 2ms/step - loss: 0.2587 - accuracy: 0.8767 - val_loss: 1.1019 - val_accuracy: 0.6979\n",
      "Epoch 390/1000\n",
      "58/58 [==============================] - 0s 2ms/step - loss: 0.2192 - accuracy: 0.9097 - val_loss: 1.1574 - val_accuracy: 0.6406\n",
      "Epoch 391/1000\n",
      "58/58 [==============================] - 0s 2ms/step - loss: 0.2346 - accuracy: 0.9115 - val_loss: 1.0963 - val_accuracy: 0.6823\n",
      "Epoch 392/1000\n",
      "58/58 [==============================] - 0s 2ms/step - loss: 0.2406 - accuracy: 0.8819 - val_loss: 1.0449 - val_accuracy: 0.6771\n",
      "Epoch 393/1000\n",
      "58/58 [==============================] - 0s 2ms/step - loss: 0.1983 - accuracy: 0.9080 - val_loss: 1.1076 - val_accuracy: 0.6823\n",
      "Epoch 394/1000\n",
      "58/58 [==============================] - 0s 2ms/step - loss: 0.1873 - accuracy: 0.9201 - val_loss: 1.1159 - val_accuracy: 0.6667\n",
      "Epoch 395/1000\n",
      "58/58 [==============================] - 0s 2ms/step - loss: 0.2203 - accuracy: 0.8924 - val_loss: 1.2603 - val_accuracy: 0.6823\n",
      "Epoch 396/1000\n",
      "58/58 [==============================] - 0s 2ms/step - loss: 0.2651 - accuracy: 0.8924 - val_loss: 1.1058 - val_accuracy: 0.6875\n",
      "Epoch 397/1000\n",
      "58/58 [==============================] - 0s 2ms/step - loss: 0.1894 - accuracy: 0.9184 - val_loss: 1.0146 - val_accuracy: 0.6771\n",
      "Epoch 398/1000\n",
      "58/58 [==============================] - 0s 2ms/step - loss: 0.2292 - accuracy: 0.8993 - val_loss: 1.1100 - val_accuracy: 0.6875\n",
      "Epoch 399/1000\n",
      "58/58 [==============================] - 0s 2ms/step - loss: 0.2223 - accuracy: 0.8924 - val_loss: 0.9931 - val_accuracy: 0.7083\n"
     ]
    },
    {
     "name": "stdout",
     "output_type": "stream",
     "text": [
      "Epoch 400/1000\n",
      "58/58 [==============================] - 0s 2ms/step - loss: 0.2590 - accuracy: 0.8750 - val_loss: 1.2787 - val_accuracy: 0.6771\n",
      "Epoch 401/1000\n",
      "58/58 [==============================] - 0s 2ms/step - loss: 0.2289 - accuracy: 0.8958 - val_loss: 1.0769 - val_accuracy: 0.6562\n",
      "Epoch 402/1000\n",
      "58/58 [==============================] - 0s 2ms/step - loss: 0.2097 - accuracy: 0.8993 - val_loss: 1.1068 - val_accuracy: 0.6875\n",
      "Epoch 403/1000\n",
      "58/58 [==============================] - 0s 2ms/step - loss: 0.2007 - accuracy: 0.9201 - val_loss: 1.1260 - val_accuracy: 0.6927\n",
      "Epoch 404/1000\n",
      "58/58 [==============================] - 0s 2ms/step - loss: 0.1998 - accuracy: 0.9201 - val_loss: 1.1434 - val_accuracy: 0.6823\n",
      "Epoch 405/1000\n",
      "58/58 [==============================] - 0s 2ms/step - loss: 0.1918 - accuracy: 0.9115 - val_loss: 1.1408 - val_accuracy: 0.6823\n",
      "Epoch 406/1000\n",
      "58/58 [==============================] - 0s 2ms/step - loss: 0.2062 - accuracy: 0.8976 - val_loss: 1.2141 - val_accuracy: 0.6562\n",
      "Epoch 407/1000\n",
      "58/58 [==============================] - 0s 2ms/step - loss: 0.2334 - accuracy: 0.8941 - val_loss: 1.2578 - val_accuracy: 0.6771\n",
      "Epoch 408/1000\n",
      "58/58 [==============================] - 0s 2ms/step - loss: 0.1841 - accuracy: 0.9253 - val_loss: 1.1994 - val_accuracy: 0.6719\n",
      "Epoch 409/1000\n",
      "58/58 [==============================] - 0s 2ms/step - loss: 0.2147 - accuracy: 0.9080 - val_loss: 1.2287 - val_accuracy: 0.6823\n",
      "Epoch 410/1000\n",
      "58/58 [==============================] - 0s 2ms/step - loss: 0.2051 - accuracy: 0.9115 - val_loss: 1.2459 - val_accuracy: 0.6823\n",
      "Epoch 411/1000\n",
      "58/58 [==============================] - 0s 2ms/step - loss: 0.1912 - accuracy: 0.9236 - val_loss: 1.2778 - val_accuracy: 0.6927\n",
      "Epoch 412/1000\n",
      "58/58 [==============================] - 0s 2ms/step - loss: 0.2117 - accuracy: 0.9115 - val_loss: 1.1736 - val_accuracy: 0.7031\n",
      "Epoch 413/1000\n",
      "58/58 [==============================] - 0s 2ms/step - loss: 0.1828 - accuracy: 0.9201 - val_loss: 1.1799 - val_accuracy: 0.6823\n",
      "Epoch 414/1000\n",
      "58/58 [==============================] - 0s 2ms/step - loss: 0.1951 - accuracy: 0.9201 - val_loss: 1.3053 - val_accuracy: 0.7031\n",
      "Epoch 415/1000\n",
      "58/58 [==============================] - 0s 2ms/step - loss: 0.1984 - accuracy: 0.9115 - val_loss: 1.3485 - val_accuracy: 0.6615\n",
      "Epoch 416/1000\n",
      "58/58 [==============================] - 0s 2ms/step - loss: 0.2331 - accuracy: 0.8958 - val_loss: 1.2123 - val_accuracy: 0.6458\n",
      "Epoch 417/1000\n",
      "58/58 [==============================] - 0s 2ms/step - loss: 0.2247 - accuracy: 0.9010 - val_loss: 1.0890 - val_accuracy: 0.6979\n",
      "Epoch 418/1000\n",
      "58/58 [==============================] - 0s 2ms/step - loss: 0.2057 - accuracy: 0.9080 - val_loss: 1.2981 - val_accuracy: 0.6667\n",
      "Epoch 419/1000\n",
      "58/58 [==============================] - 0s 2ms/step - loss: 0.2088 - accuracy: 0.9045 - val_loss: 1.2364 - val_accuracy: 0.6927\n",
      "Epoch 420/1000\n",
      "58/58 [==============================] - 0s 2ms/step - loss: 0.2221 - accuracy: 0.9010 - val_loss: 1.3982 - val_accuracy: 0.6458\n",
      "Epoch 421/1000\n",
      "58/58 [==============================] - 0s 2ms/step - loss: 0.2716 - accuracy: 0.8924 - val_loss: 1.0944 - val_accuracy: 0.7083\n",
      "Epoch 422/1000\n",
      "58/58 [==============================] - 0s 2ms/step - loss: 0.1917 - accuracy: 0.9167 - val_loss: 1.1820 - val_accuracy: 0.6771\n",
      "Epoch 423/1000\n",
      "58/58 [==============================] - 0s 2ms/step - loss: 0.2020 - accuracy: 0.9167 - val_loss: 1.0905 - val_accuracy: 0.6875\n",
      "Epoch 424/1000\n",
      "58/58 [==============================] - 0s 2ms/step - loss: 0.2136 - accuracy: 0.9115 - val_loss: 1.1727 - val_accuracy: 0.6875\n",
      "Epoch 425/1000\n",
      "58/58 [==============================] - 0s 2ms/step - loss: 0.1935 - accuracy: 0.9184 - val_loss: 1.2451 - val_accuracy: 0.6979\n",
      "Epoch 426/1000\n",
      "58/58 [==============================] - 0s 2ms/step - loss: 0.1866 - accuracy: 0.9219 - val_loss: 1.0736 - val_accuracy: 0.7031\n",
      "Epoch 427/1000\n",
      "58/58 [==============================] - 0s 2ms/step - loss: 0.1967 - accuracy: 0.9045 - val_loss: 1.3438 - val_accuracy: 0.6771\n",
      "Epoch 428/1000\n",
      "58/58 [==============================] - 0s 2ms/step - loss: 0.2124 - accuracy: 0.9062 - val_loss: 1.0960 - val_accuracy: 0.7031\n",
      "Epoch 429/1000\n",
      "58/58 [==============================] - 0s 2ms/step - loss: 0.2259 - accuracy: 0.9115 - val_loss: 1.2080 - val_accuracy: 0.6771\n",
      "Epoch 430/1000\n",
      "58/58 [==============================] - 0s 2ms/step - loss: 0.2042 - accuracy: 0.9062 - val_loss: 1.1798 - val_accuracy: 0.6667\n",
      "Epoch 431/1000\n",
      "58/58 [==============================] - 0s 2ms/step - loss: 0.2280 - accuracy: 0.8993 - val_loss: 1.0628 - val_accuracy: 0.7083\n",
      "Epoch 432/1000\n",
      "58/58 [==============================] - 0s 2ms/step - loss: 0.2210 - accuracy: 0.8924 - val_loss: 1.1971 - val_accuracy: 0.6562\n",
      "Epoch 433/1000\n",
      "58/58 [==============================] - 0s 2ms/step - loss: 0.1971 - accuracy: 0.9097 - val_loss: 1.1498 - val_accuracy: 0.7031\n",
      "Epoch 434/1000\n",
      "58/58 [==============================] - 0s 2ms/step - loss: 0.1803 - accuracy: 0.9167 - val_loss: 1.1746 - val_accuracy: 0.7031\n",
      "Epoch 435/1000\n",
      "58/58 [==============================] - 0s 2ms/step - loss: 0.1717 - accuracy: 0.9271 - val_loss: 1.1395 - val_accuracy: 0.6875\n",
      "Epoch 436/1000\n",
      "58/58 [==============================] - 0s 2ms/step - loss: 0.1850 - accuracy: 0.9236 - val_loss: 1.1126 - val_accuracy: 0.6979\n",
      "Epoch 437/1000\n",
      "58/58 [==============================] - 0s 2ms/step - loss: 0.1882 - accuracy: 0.9115 - val_loss: 1.1733 - val_accuracy: 0.6823\n",
      "Epoch 438/1000\n",
      "58/58 [==============================] - 0s 2ms/step - loss: 0.1895 - accuracy: 0.9097 - val_loss: 1.2001 - val_accuracy: 0.6562\n",
      "Epoch 439/1000\n",
      "58/58 [==============================] - 0s 2ms/step - loss: 0.1830 - accuracy: 0.9201 - val_loss: 1.1378 - val_accuracy: 0.7083\n",
      "Epoch 440/1000\n",
      "58/58 [==============================] - 0s 2ms/step - loss: 0.1714 - accuracy: 0.9219 - val_loss: 1.1986 - val_accuracy: 0.6719\n",
      "Epoch 441/1000\n",
      "58/58 [==============================] - 0s 2ms/step - loss: 0.1950 - accuracy: 0.9028 - val_loss: 1.2370 - val_accuracy: 0.6771\n",
      "Epoch 442/1000\n",
      "58/58 [==============================] - 0s 2ms/step - loss: 0.1859 - accuracy: 0.9288 - val_loss: 1.2531 - val_accuracy: 0.6719\n",
      "Epoch 443/1000\n",
      "58/58 [==============================] - 0s 2ms/step - loss: 0.1796 - accuracy: 0.9323 - val_loss: 1.2726 - val_accuracy: 0.6875\n",
      "Epoch 444/1000\n",
      "58/58 [==============================] - 0s 2ms/step - loss: 0.1953 - accuracy: 0.9201 - val_loss: 1.1548 - val_accuracy: 0.7031\n",
      "Epoch 445/1000\n",
      "58/58 [==============================] - 0s 2ms/step - loss: 0.2251 - accuracy: 0.9028 - val_loss: 1.2308 - val_accuracy: 0.6771\n",
      "Epoch 446/1000\n",
      "58/58 [==============================] - 0s 2ms/step - loss: 0.1823 - accuracy: 0.9306 - val_loss: 1.2008 - val_accuracy: 0.6979\n",
      "Epoch 447/1000\n",
      "58/58 [==============================] - 0s 2ms/step - loss: 0.1723 - accuracy: 0.9340 - val_loss: 1.1496 - val_accuracy: 0.6719\n",
      "Epoch 448/1000\n",
      "58/58 [==============================] - 0s 2ms/step - loss: 0.2440 - accuracy: 0.8941 - val_loss: 1.1989 - val_accuracy: 0.6979\n",
      "Epoch 449/1000\n",
      "58/58 [==============================] - 0s 2ms/step - loss: 0.2064 - accuracy: 0.9080 - val_loss: 1.4184 - val_accuracy: 0.6562\n",
      "Epoch 450/1000\n",
      "58/58 [==============================] - 0s 2ms/step - loss: 0.2091 - accuracy: 0.9062 - val_loss: 1.2096 - val_accuracy: 0.6823\n",
      "Epoch 451/1000\n",
      "58/58 [==============================] - 0s 2ms/step - loss: 0.1789 - accuracy: 0.9288 - val_loss: 1.1458 - val_accuracy: 0.6823\n",
      "Epoch 452/1000\n",
      "58/58 [==============================] - 0s 2ms/step - loss: 0.1642 - accuracy: 0.9306 - val_loss: 1.2134 - val_accuracy: 0.6510\n",
      "Epoch 453/1000\n",
      "58/58 [==============================] - 0s 2ms/step - loss: 0.2124 - accuracy: 0.9097 - val_loss: 1.1162 - val_accuracy: 0.6562\n",
      "Epoch 454/1000\n",
      "58/58 [==============================] - 0s 2ms/step - loss: 0.2087 - accuracy: 0.9149 - val_loss: 1.1699 - val_accuracy: 0.7083\n",
      "Epoch 455/1000\n",
      "58/58 [==============================] - 0s 2ms/step - loss: 0.1982 - accuracy: 0.9167 - val_loss: 1.0607 - val_accuracy: 0.6875\n",
      "Epoch 456/1000\n",
      "58/58 [==============================] - 0s 2ms/step - loss: 0.1627 - accuracy: 0.9375 - val_loss: 1.1877 - val_accuracy: 0.6875\n"
     ]
    },
    {
     "name": "stdout",
     "output_type": "stream",
     "text": [
      "Epoch 457/1000\n",
      "58/58 [==============================] - 0s 2ms/step - loss: 0.1963 - accuracy: 0.9097 - val_loss: 1.2997 - val_accuracy: 0.6719\n",
      "Epoch 458/1000\n",
      "58/58 [==============================] - 0s 2ms/step - loss: 0.2090 - accuracy: 0.9219 - val_loss: 1.3340 - val_accuracy: 0.6719\n",
      "Epoch 459/1000\n",
      "58/58 [==============================] - 0s 2ms/step - loss: 0.1816 - accuracy: 0.9253 - val_loss: 1.1923 - val_accuracy: 0.6875\n",
      "Epoch 460/1000\n",
      "58/58 [==============================] - 0s 2ms/step - loss: 0.2029 - accuracy: 0.9045 - val_loss: 1.2862 - val_accuracy: 0.6510\n",
      "Epoch 461/1000\n",
      "58/58 [==============================] - 0s 2ms/step - loss: 0.1873 - accuracy: 0.9306 - val_loss: 1.3851 - val_accuracy: 0.6562\n",
      "Epoch 462/1000\n",
      "58/58 [==============================] - 0s 2ms/step - loss: 0.1900 - accuracy: 0.9149 - val_loss: 1.3010 - val_accuracy: 0.6823\n",
      "Epoch 463/1000\n",
      "58/58 [==============================] - 0s 2ms/step - loss: 0.1666 - accuracy: 0.9236 - val_loss: 1.2903 - val_accuracy: 0.6875\n",
      "Epoch 464/1000\n",
      "58/58 [==============================] - 0s 2ms/step - loss: 0.1880 - accuracy: 0.9271 - val_loss: 1.2057 - val_accuracy: 0.6875\n",
      "Epoch 465/1000\n",
      "58/58 [==============================] - 0s 2ms/step - loss: 0.2096 - accuracy: 0.9167 - val_loss: 1.2942 - val_accuracy: 0.6823\n",
      "Epoch 466/1000\n",
      "58/58 [==============================] - 0s 2ms/step - loss: 0.1761 - accuracy: 0.9288 - val_loss: 1.3021 - val_accuracy: 0.6875\n",
      "Epoch 467/1000\n",
      "58/58 [==============================] - 0s 2ms/step - loss: 0.1657 - accuracy: 0.9392 - val_loss: 1.3302 - val_accuracy: 0.6823\n",
      "Epoch 468/1000\n",
      "58/58 [==============================] - 0s 2ms/step - loss: 0.2007 - accuracy: 0.9115 - val_loss: 1.2515 - val_accuracy: 0.6615\n",
      "Epoch 469/1000\n",
      "58/58 [==============================] - 0s 2ms/step - loss: 0.1757 - accuracy: 0.9115 - val_loss: 1.2487 - val_accuracy: 0.6927\n",
      "Epoch 470/1000\n",
      "58/58 [==============================] - 0s 2ms/step - loss: 0.1783 - accuracy: 0.9323 - val_loss: 1.2639 - val_accuracy: 0.6823\n",
      "Epoch 471/1000\n",
      "58/58 [==============================] - 0s 2ms/step - loss: 0.1863 - accuracy: 0.9219 - val_loss: 1.1590 - val_accuracy: 0.6771\n",
      "Epoch 472/1000\n",
      "58/58 [==============================] - 0s 2ms/step - loss: 0.1955 - accuracy: 0.9184 - val_loss: 1.2511 - val_accuracy: 0.6615\n",
      "Epoch 473/1000\n",
      "58/58 [==============================] - 0s 2ms/step - loss: 0.1748 - accuracy: 0.9219 - val_loss: 1.2134 - val_accuracy: 0.6823\n",
      "Epoch 474/1000\n",
      "58/58 [==============================] - 0s 2ms/step - loss: 0.1642 - accuracy: 0.9253 - val_loss: 1.1938 - val_accuracy: 0.6927\n",
      "Epoch 475/1000\n",
      "58/58 [==============================] - 0s 3ms/step - loss: 0.2024 - accuracy: 0.9149 - val_loss: 1.3356 - val_accuracy: 0.6458\n",
      "Epoch 476/1000\n",
      "58/58 [==============================] - 0s 2ms/step - loss: 0.1624 - accuracy: 0.9306 - val_loss: 1.2978 - val_accuracy: 0.6771\n",
      "Epoch 477/1000\n",
      "58/58 [==============================] - 0s 2ms/step - loss: 0.2082 - accuracy: 0.9149 - val_loss: 1.3818 - val_accuracy: 0.6615\n",
      "Epoch 478/1000\n",
      "58/58 [==============================] - 0s 2ms/step - loss: 0.1994 - accuracy: 0.9236 - val_loss: 1.1820 - val_accuracy: 0.6927\n",
      "Epoch 479/1000\n",
      "58/58 [==============================] - 0s 2ms/step - loss: 0.2066 - accuracy: 0.9184 - val_loss: 1.5076 - val_accuracy: 0.6719\n",
      "Epoch 480/1000\n",
      "58/58 [==============================] - 0s 2ms/step - loss: 0.2034 - accuracy: 0.9219 - val_loss: 1.2685 - val_accuracy: 0.6875\n",
      "Epoch 481/1000\n",
      "58/58 [==============================] - 0s 2ms/step - loss: 0.1821 - accuracy: 0.9149 - val_loss: 1.1658 - val_accuracy: 0.6927\n",
      "Epoch 482/1000\n",
      "58/58 [==============================] - 0s 2ms/step - loss: 0.1671 - accuracy: 0.9288 - val_loss: 1.2361 - val_accuracy: 0.6823\n",
      "Epoch 483/1000\n",
      "58/58 [==============================] - 0s 2ms/step - loss: 0.1650 - accuracy: 0.9271 - val_loss: 1.1376 - val_accuracy: 0.6875\n",
      "Epoch 484/1000\n",
      "58/58 [==============================] - 0s 2ms/step - loss: 0.1735 - accuracy: 0.9236 - val_loss: 1.3294 - val_accuracy: 0.6667\n",
      "Epoch 485/1000\n",
      "58/58 [==============================] - 0s 2ms/step - loss: 0.1859 - accuracy: 0.9236 - val_loss: 1.2994 - val_accuracy: 0.6562\n",
      "Epoch 486/1000\n",
      "58/58 [==============================] - 0s 2ms/step - loss: 0.1919 - accuracy: 0.9115 - val_loss: 1.3082 - val_accuracy: 0.6719\n",
      "Epoch 487/1000\n",
      "58/58 [==============================] - 0s 2ms/step - loss: 0.1836 - accuracy: 0.9167 - val_loss: 1.2409 - val_accuracy: 0.6875\n",
      "Epoch 488/1000\n",
      "58/58 [==============================] - 0s 2ms/step - loss: 0.1656 - accuracy: 0.9340 - val_loss: 1.1702 - val_accuracy: 0.7083\n",
      "Epoch 489/1000\n",
      "58/58 [==============================] - 0s 2ms/step - loss: 0.2049 - accuracy: 0.9115 - val_loss: 1.3138 - val_accuracy: 0.6875\n",
      "Epoch 490/1000\n",
      "58/58 [==============================] - 0s 2ms/step - loss: 0.1626 - accuracy: 0.9306 - val_loss: 1.2610 - val_accuracy: 0.6771\n",
      "Epoch 491/1000\n",
      "58/58 [==============================] - 0s 2ms/step - loss: 0.1932 - accuracy: 0.9097 - val_loss: 1.2266 - val_accuracy: 0.6562\n",
      "Epoch 492/1000\n",
      "58/58 [==============================] - 0s 2ms/step - loss: 0.2755 - accuracy: 0.8872 - val_loss: 1.4204 - val_accuracy: 0.6458\n",
      "Epoch 493/1000\n",
      "58/58 [==============================] - 0s 2ms/step - loss: 0.1656 - accuracy: 0.9306 - val_loss: 1.2045 - val_accuracy: 0.6562\n",
      "Epoch 494/1000\n",
      "58/58 [==============================] - 0s 2ms/step - loss: 0.1712 - accuracy: 0.9323 - val_loss: 1.3521 - val_accuracy: 0.6562\n",
      "Epoch 495/1000\n",
      "58/58 [==============================] - 0s 2ms/step - loss: 0.1629 - accuracy: 0.9392 - val_loss: 1.2295 - val_accuracy: 0.6771\n",
      "Epoch 496/1000\n",
      "58/58 [==============================] - 0s 2ms/step - loss: 0.1745 - accuracy: 0.9323 - val_loss: 1.1712 - val_accuracy: 0.6719\n",
      "Epoch 497/1000\n",
      "58/58 [==============================] - 0s 2ms/step - loss: 0.1752 - accuracy: 0.9219 - val_loss: 1.2956 - val_accuracy: 0.6562\n",
      "Epoch 498/1000\n",
      "58/58 [==============================] - 0s 2ms/step - loss: 0.1699 - accuracy: 0.9253 - val_loss: 1.2559 - val_accuracy: 0.6927\n",
      "Epoch 499/1000\n",
      "58/58 [==============================] - 0s 2ms/step - loss: 0.3103 - accuracy: 0.8750 - val_loss: 1.1559 - val_accuracy: 0.6823\n",
      "Epoch 500/1000\n",
      "58/58 [==============================] - 0s 2ms/step - loss: 0.2220 - accuracy: 0.9028 - val_loss: 1.3911 - val_accuracy: 0.6615\n",
      "Epoch 501/1000\n",
      "58/58 [==============================] - 0s 2ms/step - loss: 0.1732 - accuracy: 0.9149 - val_loss: 1.2816 - val_accuracy: 0.6875\n",
      "Epoch 502/1000\n",
      "58/58 [==============================] - 0s 2ms/step - loss: 0.1529 - accuracy: 0.9340 - val_loss: 1.2415 - val_accuracy: 0.6719\n",
      "Epoch 503/1000\n",
      "58/58 [==============================] - 0s 2ms/step - loss: 0.1630 - accuracy: 0.9236 - val_loss: 1.1845 - val_accuracy: 0.6719\n",
      "Epoch 504/1000\n",
      "58/58 [==============================] - 0s 2ms/step - loss: 0.1813 - accuracy: 0.9184 - val_loss: 1.3041 - val_accuracy: 0.6667\n",
      "Epoch 505/1000\n",
      "58/58 [==============================] - 0s 2ms/step - loss: 0.1845 - accuracy: 0.9253 - val_loss: 1.3359 - val_accuracy: 0.6979\n",
      "Epoch 506/1000\n",
      "58/58 [==============================] - 0s 2ms/step - loss: 0.1556 - accuracy: 0.9375 - val_loss: 1.5442 - val_accuracy: 0.6458\n",
      "Epoch 507/1000\n",
      "58/58 [==============================] - 0s 2ms/step - loss: 0.2224 - accuracy: 0.9201 - val_loss: 1.3051 - val_accuracy: 0.6875\n",
      "Epoch 508/1000\n",
      "58/58 [==============================] - 0s 2ms/step - loss: 0.1727 - accuracy: 0.9167 - val_loss: 1.3463 - val_accuracy: 0.6667\n",
      "Epoch 509/1000\n",
      "58/58 [==============================] - 0s 2ms/step - loss: 0.1635 - accuracy: 0.9340 - val_loss: 1.3608 - val_accuracy: 0.6823\n",
      "Epoch 510/1000\n",
      "58/58 [==============================] - 0s 2ms/step - loss: 0.1536 - accuracy: 0.9253 - val_loss: 1.3920 - val_accuracy: 0.6719\n",
      "Epoch 511/1000\n",
      "58/58 [==============================] - 0s 2ms/step - loss: 0.1529 - accuracy: 0.9323 - val_loss: 1.2567 - val_accuracy: 0.6771\n",
      "Epoch 512/1000\n",
      "58/58 [==============================] - 0s 2ms/step - loss: 0.1462 - accuracy: 0.9288 - val_loss: 1.4186 - val_accuracy: 0.6667\n",
      "Epoch 513/1000\n",
      "58/58 [==============================] - 0s 2ms/step - loss: 0.1588 - accuracy: 0.9288 - val_loss: 1.3186 - val_accuracy: 0.6562\n"
     ]
    },
    {
     "name": "stdout",
     "output_type": "stream",
     "text": [
      "Epoch 514/1000\n",
      "58/58 [==============================] - 0s 2ms/step - loss: 0.1525 - accuracy: 0.9358 - val_loss: 1.4762 - val_accuracy: 0.6562\n",
      "Epoch 515/1000\n",
      "58/58 [==============================] - 0s 2ms/step - loss: 0.1627 - accuracy: 0.9132 - val_loss: 1.2752 - val_accuracy: 0.6719\n",
      "Epoch 516/1000\n",
      "58/58 [==============================] - 0s 2ms/step - loss: 0.1558 - accuracy: 0.9288 - val_loss: 1.4183 - val_accuracy: 0.6510\n",
      "Epoch 517/1000\n",
      "58/58 [==============================] - 0s 2ms/step - loss: 0.1536 - accuracy: 0.9392 - val_loss: 1.3888 - val_accuracy: 0.6719\n",
      "Epoch 518/1000\n",
      "58/58 [==============================] - 0s 2ms/step - loss: 0.1870 - accuracy: 0.9115 - val_loss: 1.3351 - val_accuracy: 0.6562\n",
      "Epoch 519/1000\n",
      "58/58 [==============================] - 0s 2ms/step - loss: 0.1561 - accuracy: 0.9340 - val_loss: 1.3764 - val_accuracy: 0.6667\n",
      "Epoch 520/1000\n",
      "58/58 [==============================] - 0s 2ms/step - loss: 0.1745 - accuracy: 0.9219 - val_loss: 1.5742 - val_accuracy: 0.6562\n",
      "Epoch 521/1000\n",
      "58/58 [==============================] - 0s 2ms/step - loss: 0.1568 - accuracy: 0.9288 - val_loss: 1.6839 - val_accuracy: 0.6667\n",
      "Epoch 522/1000\n",
      "58/58 [==============================] - 0s 2ms/step - loss: 0.2271 - accuracy: 0.8993 - val_loss: 1.4085 - val_accuracy: 0.6510\n",
      "Epoch 523/1000\n",
      "58/58 [==============================] - 0s 2ms/step - loss: 0.1660 - accuracy: 0.9253 - val_loss: 1.4151 - val_accuracy: 0.6719\n",
      "Epoch 524/1000\n",
      "58/58 [==============================] - 0s 2ms/step - loss: 0.1744 - accuracy: 0.9271 - val_loss: 1.6454 - val_accuracy: 0.6510\n",
      "Epoch 525/1000\n",
      "58/58 [==============================] - 0s 2ms/step - loss: 0.1600 - accuracy: 0.9288 - val_loss: 1.4963 - val_accuracy: 0.6510\n",
      "Epoch 526/1000\n",
      "58/58 [==============================] - 0s 2ms/step - loss: 0.1412 - accuracy: 0.9444 - val_loss: 1.4997 - val_accuracy: 0.6667\n",
      "Epoch 527/1000\n",
      "58/58 [==============================] - 0s 2ms/step - loss: 0.1474 - accuracy: 0.9358 - val_loss: 1.5807 - val_accuracy: 0.6562\n",
      "Epoch 528/1000\n",
      "58/58 [==============================] - 0s 2ms/step - loss: 0.1920 - accuracy: 0.9253 - val_loss: 1.6089 - val_accuracy: 0.6458\n",
      "Epoch 529/1000\n",
      "58/58 [==============================] - 0s 2ms/step - loss: 0.1916 - accuracy: 0.9097 - val_loss: 1.4836 - val_accuracy: 0.6771\n",
      "Epoch 530/1000\n",
      "58/58 [==============================] - 0s 2ms/step - loss: 0.1712 - accuracy: 0.9271 - val_loss: 1.5215 - val_accuracy: 0.6667\n",
      "Epoch 531/1000\n",
      "58/58 [==============================] - 0s 2ms/step - loss: 0.1596 - accuracy: 0.9375 - val_loss: 1.2199 - val_accuracy: 0.6771\n",
      "Epoch 532/1000\n",
      "58/58 [==============================] - 0s 2ms/step - loss: 0.2496 - accuracy: 0.8906 - val_loss: 1.7428 - val_accuracy: 0.6719\n",
      "Epoch 533/1000\n",
      "58/58 [==============================] - 0s 2ms/step - loss: 0.3409 - accuracy: 0.8767 - val_loss: 1.3977 - val_accuracy: 0.6719\n",
      "Epoch 534/1000\n",
      "58/58 [==============================] - 0s 2ms/step - loss: 0.2386 - accuracy: 0.8924 - val_loss: 1.1864 - val_accuracy: 0.6875\n",
      "Epoch 535/1000\n",
      "58/58 [==============================] - 0s 2ms/step - loss: 0.1798 - accuracy: 0.9236 - val_loss: 1.2898 - val_accuracy: 0.6667\n",
      "Epoch 536/1000\n",
      "58/58 [==============================] - 0s 2ms/step - loss: 0.1590 - accuracy: 0.9375 - val_loss: 1.3194 - val_accuracy: 0.6875\n",
      "Epoch 537/1000\n",
      "58/58 [==============================] - 0s 2ms/step - loss: 0.1429 - accuracy: 0.9410 - val_loss: 1.4300 - val_accuracy: 0.6771\n",
      "Epoch 538/1000\n",
      "58/58 [==============================] - 0s 2ms/step - loss: 0.1540 - accuracy: 0.9392 - val_loss: 1.5023 - val_accuracy: 0.6458\n",
      "Epoch 539/1000\n",
      "58/58 [==============================] - 0s 2ms/step - loss: 0.1545 - accuracy: 0.9340 - val_loss: 1.3711 - val_accuracy: 0.6771\n",
      "Epoch 540/1000\n",
      "58/58 [==============================] - 0s 2ms/step - loss: 0.1426 - accuracy: 0.9358 - val_loss: 1.4361 - val_accuracy: 0.6406\n",
      "Epoch 541/1000\n",
      "58/58 [==============================] - 0s 2ms/step - loss: 0.1646 - accuracy: 0.9427 - val_loss: 1.4007 - val_accuracy: 0.6771\n",
      "Epoch 542/1000\n",
      "58/58 [==============================] - 0s 2ms/step - loss: 0.1997 - accuracy: 0.9219 - val_loss: 1.5165 - val_accuracy: 0.6667\n",
      "Epoch 543/1000\n",
      "58/58 [==============================] - 0s 2ms/step - loss: 0.1503 - accuracy: 0.9253 - val_loss: 1.3331 - val_accuracy: 0.6510\n",
      "Epoch 544/1000\n",
      "58/58 [==============================] - 0s 2ms/step - loss: 0.1386 - accuracy: 0.9444 - val_loss: 1.4645 - val_accuracy: 0.6667\n",
      "Epoch 545/1000\n",
      "58/58 [==============================] - 0s 2ms/step - loss: 0.1339 - accuracy: 0.9427 - val_loss: 1.3882 - val_accuracy: 0.6667\n",
      "Epoch 546/1000\n",
      "58/58 [==============================] - 0s 2ms/step - loss: 0.1345 - accuracy: 0.9444 - val_loss: 1.5199 - val_accuracy: 0.6510\n",
      "Epoch 547/1000\n",
      "58/58 [==============================] - 0s 2ms/step - loss: 0.1326 - accuracy: 0.9427 - val_loss: 1.3297 - val_accuracy: 0.6823\n",
      "Epoch 548/1000\n",
      "58/58 [==============================] - 0s 2ms/step - loss: 0.1485 - accuracy: 0.9306 - val_loss: 1.4443 - val_accuracy: 0.6406\n",
      "Epoch 549/1000\n",
      "58/58 [==============================] - 0s 2ms/step - loss: 0.1503 - accuracy: 0.9340 - val_loss: 1.5295 - val_accuracy: 0.6562\n",
      "Epoch 550/1000\n",
      "58/58 [==============================] - 0s 2ms/step - loss: 0.1585 - accuracy: 0.9306 - val_loss: 1.5271 - val_accuracy: 0.6510\n",
      "Epoch 551/1000\n",
      "58/58 [==============================] - 0s 2ms/step - loss: 0.1391 - accuracy: 0.9375 - val_loss: 1.4635 - val_accuracy: 0.6615\n",
      "Epoch 552/1000\n",
      "58/58 [==============================] - 0s 2ms/step - loss: 0.1702 - accuracy: 0.9253 - val_loss: 1.5156 - val_accuracy: 0.6667\n",
      "Epoch 553/1000\n",
      "58/58 [==============================] - 0s 2ms/step - loss: 0.1773 - accuracy: 0.9219 - val_loss: 1.4934 - val_accuracy: 0.6458\n",
      "Epoch 554/1000\n",
      "58/58 [==============================] - 0s 2ms/step - loss: 0.1626 - accuracy: 0.9340 - val_loss: 1.5823 - val_accuracy: 0.6823\n",
      "Epoch 555/1000\n",
      "58/58 [==============================] - 0s 2ms/step - loss: 0.1574 - accuracy: 0.9323 - val_loss: 1.6125 - val_accuracy: 0.6562\n",
      "Epoch 556/1000\n",
      "58/58 [==============================] - 0s 2ms/step - loss: 0.1324 - accuracy: 0.9427 - val_loss: 1.5929 - val_accuracy: 0.6562\n",
      "Epoch 557/1000\n",
      "58/58 [==============================] - 0s 2ms/step - loss: 0.1247 - accuracy: 0.9444 - val_loss: 1.5983 - val_accuracy: 0.6771\n",
      "Epoch 558/1000\n",
      "58/58 [==============================] - 0s 2ms/step - loss: 0.1444 - accuracy: 0.9427 - val_loss: 1.6112 - val_accuracy: 0.6562\n",
      "Epoch 559/1000\n",
      "58/58 [==============================] - 0s 2ms/step - loss: 0.1598 - accuracy: 0.9306 - val_loss: 1.4694 - val_accuracy: 0.6562\n",
      "Epoch 560/1000\n",
      "58/58 [==============================] - 0s 2ms/step - loss: 0.1413 - accuracy: 0.9358 - val_loss: 1.4686 - val_accuracy: 0.6562\n",
      "Epoch 561/1000\n",
      "58/58 [==============================] - 0s 2ms/step - loss: 0.1722 - accuracy: 0.9323 - val_loss: 1.6817 - val_accuracy: 0.6615\n",
      "Epoch 562/1000\n",
      "58/58 [==============================] - 0s 2ms/step - loss: 0.1493 - accuracy: 0.9323 - val_loss: 1.6291 - val_accuracy: 0.6667\n",
      "Epoch 563/1000\n",
      "58/58 [==============================] - 0s 2ms/step - loss: 0.1623 - accuracy: 0.9271 - val_loss: 1.3758 - val_accuracy: 0.6823\n",
      "Epoch 564/1000\n",
      "58/58 [==============================] - 0s 2ms/step - loss: 0.1954 - accuracy: 0.9184 - val_loss: 1.4666 - val_accuracy: 0.6562\n",
      "Epoch 565/1000\n",
      "58/58 [==============================] - 0s 2ms/step - loss: 0.1721 - accuracy: 0.9375 - val_loss: 1.3760 - val_accuracy: 0.6823\n",
      "Epoch 566/1000\n",
      "58/58 [==============================] - 0s 2ms/step - loss: 0.1469 - accuracy: 0.9410 - val_loss: 1.4671 - val_accuracy: 0.6562\n",
      "Epoch 567/1000\n",
      "58/58 [==============================] - 0s 2ms/step - loss: 0.1618 - accuracy: 0.9253 - val_loss: 1.3965 - val_accuracy: 0.6667\n",
      "Epoch 568/1000\n",
      "58/58 [==============================] - 0s 2ms/step - loss: 0.1736 - accuracy: 0.9340 - val_loss: 1.4372 - val_accuracy: 0.6719\n",
      "Epoch 569/1000\n",
      "58/58 [==============================] - 0s 2ms/step - loss: 0.1584 - accuracy: 0.9201 - val_loss: 1.4073 - val_accuracy: 0.6771\n",
      "Epoch 570/1000\n",
      "58/58 [==============================] - 0s 2ms/step - loss: 0.1396 - accuracy: 0.9497 - val_loss: 1.7586 - val_accuracy: 0.6406\n"
     ]
    },
    {
     "name": "stdout",
     "output_type": "stream",
     "text": [
      "Epoch 571/1000\n",
      "58/58 [==============================] - 0s 2ms/step - loss: 0.1286 - accuracy: 0.9444 - val_loss: 1.4617 - val_accuracy: 0.6510\n",
      "Epoch 572/1000\n",
      "58/58 [==============================] - 0s 2ms/step - loss: 0.1355 - accuracy: 0.9427 - val_loss: 1.5523 - val_accuracy: 0.6510\n",
      "Epoch 573/1000\n",
      "58/58 [==============================] - 0s 2ms/step - loss: 0.1561 - accuracy: 0.9323 - val_loss: 1.4729 - val_accuracy: 0.6667\n",
      "Epoch 574/1000\n",
      "58/58 [==============================] - 0s 2ms/step - loss: 0.1905 - accuracy: 0.9132 - val_loss: 1.7312 - val_accuracy: 0.6719\n",
      "Epoch 575/1000\n",
      "58/58 [==============================] - 0s 2ms/step - loss: 0.2161 - accuracy: 0.9149 - val_loss: 1.6821 - val_accuracy: 0.6719\n",
      "Epoch 576/1000\n",
      "58/58 [==============================] - 0s 2ms/step - loss: 0.1607 - accuracy: 0.9288 - val_loss: 1.5208 - val_accuracy: 0.6510\n",
      "Epoch 577/1000\n",
      "58/58 [==============================] - 0s 2ms/step - loss: 0.1377 - accuracy: 0.9444 - val_loss: 1.6080 - val_accuracy: 0.6875\n",
      "Epoch 578/1000\n",
      "58/58 [==============================] - 0s 2ms/step - loss: 0.1707 - accuracy: 0.9427 - val_loss: 1.6194 - val_accuracy: 0.6458\n",
      "Epoch 579/1000\n",
      "58/58 [==============================] - 0s 2ms/step - loss: 0.1244 - accuracy: 0.9514 - val_loss: 1.5434 - val_accuracy: 0.6562\n",
      "Epoch 580/1000\n",
      "58/58 [==============================] - 0s 2ms/step - loss: 0.1408 - accuracy: 0.9427 - val_loss: 1.6278 - val_accuracy: 0.6510\n",
      "Epoch 581/1000\n",
      "58/58 [==============================] - 0s 2ms/step - loss: 0.1556 - accuracy: 0.9410 - val_loss: 1.6057 - val_accuracy: 0.6615\n",
      "Epoch 582/1000\n",
      "58/58 [==============================] - 0s 2ms/step - loss: 0.1222 - accuracy: 0.9444 - val_loss: 1.6081 - val_accuracy: 0.6562\n",
      "Epoch 583/1000\n",
      "58/58 [==============================] - 0s 2ms/step - loss: 0.1379 - accuracy: 0.9427 - val_loss: 1.5209 - val_accuracy: 0.6771\n",
      "Epoch 584/1000\n",
      "58/58 [==============================] - 0s 2ms/step - loss: 0.1316 - accuracy: 0.9479 - val_loss: 1.7075 - val_accuracy: 0.6667\n",
      "Epoch 585/1000\n",
      "58/58 [==============================] - 0s 2ms/step - loss: 0.1524 - accuracy: 0.9253 - val_loss: 1.7320 - val_accuracy: 0.6354\n",
      "Epoch 586/1000\n",
      "58/58 [==============================] - 0s 2ms/step - loss: 0.1426 - accuracy: 0.9358 - val_loss: 1.7094 - val_accuracy: 0.6667\n",
      "Epoch 587/1000\n",
      "58/58 [==============================] - 0s 2ms/step - loss: 0.1252 - accuracy: 0.9497 - val_loss: 1.5623 - val_accuracy: 0.6719\n",
      "Epoch 588/1000\n",
      "58/58 [==============================] - 0s 2ms/step - loss: 0.1489 - accuracy: 0.9306 - val_loss: 1.6165 - val_accuracy: 0.6510\n",
      "Epoch 589/1000\n",
      "58/58 [==============================] - 0s 2ms/step - loss: 0.1351 - accuracy: 0.9392 - val_loss: 1.6086 - val_accuracy: 0.6458\n",
      "Epoch 590/1000\n",
      "58/58 [==============================] - 0s 2ms/step - loss: 0.1276 - accuracy: 0.9479 - val_loss: 1.4303 - val_accuracy: 0.6875\n",
      "Epoch 591/1000\n",
      "58/58 [==============================] - 0s 2ms/step - loss: 0.1993 - accuracy: 0.9167 - val_loss: 1.6917 - val_accuracy: 0.6302\n",
      "Epoch 592/1000\n",
      "58/58 [==============================] - 0s 2ms/step - loss: 0.2333 - accuracy: 0.8976 - val_loss: 1.5869 - val_accuracy: 0.6667\n",
      "Epoch 593/1000\n",
      "58/58 [==============================] - 0s 2ms/step - loss: 0.2212 - accuracy: 0.9132 - val_loss: 1.4605 - val_accuracy: 0.6562\n",
      "Epoch 594/1000\n",
      "58/58 [==============================] - 0s 2ms/step - loss: 0.1660 - accuracy: 0.9253 - val_loss: 1.6256 - val_accuracy: 0.6458\n",
      "Epoch 595/1000\n",
      "58/58 [==============================] - 0s 2ms/step - loss: 0.1488 - accuracy: 0.9392 - val_loss: 1.4854 - val_accuracy: 0.6458\n",
      "Epoch 596/1000\n",
      "58/58 [==============================] - 0s 2ms/step - loss: 0.1470 - accuracy: 0.9340 - val_loss: 1.5347 - val_accuracy: 0.6771\n",
      "Epoch 597/1000\n",
      "58/58 [==============================] - 0s 2ms/step - loss: 0.1241 - accuracy: 0.9479 - val_loss: 1.6605 - val_accuracy: 0.6458\n",
      "Epoch 598/1000\n",
      "58/58 [==============================] - 0s 2ms/step - loss: 0.1443 - accuracy: 0.9306 - val_loss: 1.5946 - val_accuracy: 0.6510\n",
      "Epoch 599/1000\n",
      "58/58 [==============================] - 0s 2ms/step - loss: 0.1409 - accuracy: 0.9479 - val_loss: 1.6818 - val_accuracy: 0.6875\n",
      "Epoch 600/1000\n",
      "58/58 [==============================] - 0s 2ms/step - loss: 0.1624 - accuracy: 0.9253 - val_loss: 1.6944 - val_accuracy: 0.6823\n",
      "Epoch 601/1000\n",
      "58/58 [==============================] - 0s 2ms/step - loss: 0.2686 - accuracy: 0.8906 - val_loss: 1.8045 - val_accuracy: 0.6927\n",
      "Epoch 602/1000\n",
      "58/58 [==============================] - 0s 2ms/step - loss: 0.2313 - accuracy: 0.9028 - val_loss: 1.7922 - val_accuracy: 0.6771\n",
      "Epoch 603/1000\n",
      "58/58 [==============================] - 0s 2ms/step - loss: 0.1829 - accuracy: 0.9219 - val_loss: 1.5395 - val_accuracy: 0.6667\n",
      "Epoch 604/1000\n",
      "58/58 [==============================] - 0s 2ms/step - loss: 0.1348 - accuracy: 0.9514 - val_loss: 1.6035 - val_accuracy: 0.6823\n",
      "Epoch 605/1000\n",
      "58/58 [==============================] - 0s 2ms/step - loss: 0.1546 - accuracy: 0.9444 - val_loss: 1.7502 - val_accuracy: 0.6458\n",
      "Epoch 606/1000\n",
      "58/58 [==============================] - 0s 2ms/step - loss: 0.1377 - accuracy: 0.9392 - val_loss: 1.5520 - val_accuracy: 0.6302\n",
      "Epoch 607/1000\n",
      "58/58 [==============================] - 0s 2ms/step - loss: 0.1171 - accuracy: 0.9566 - val_loss: 1.5161 - val_accuracy: 0.6615\n",
      "Epoch 608/1000\n",
      "58/58 [==============================] - 0s 2ms/step - loss: 0.1112 - accuracy: 0.9583 - val_loss: 1.6289 - val_accuracy: 0.6510\n",
      "Epoch 609/1000\n",
      "58/58 [==============================] - 0s 2ms/step - loss: 0.1249 - accuracy: 0.9514 - val_loss: 1.5847 - val_accuracy: 0.6562\n",
      "Epoch 610/1000\n",
      "58/58 [==============================] - 0s 2ms/step - loss: 0.1412 - accuracy: 0.9462 - val_loss: 1.5635 - val_accuracy: 0.6615\n",
      "Epoch 611/1000\n",
      "58/58 [==============================] - 0s 2ms/step - loss: 0.1307 - accuracy: 0.9462 - val_loss: 1.6068 - val_accuracy: 0.6875\n",
      "Epoch 612/1000\n",
      "58/58 [==============================] - 0s 2ms/step - loss: 0.1314 - accuracy: 0.9462 - val_loss: 1.7181 - val_accuracy: 0.6406\n",
      "Epoch 613/1000\n",
      "58/58 [==============================] - 0s 2ms/step - loss: 0.1228 - accuracy: 0.9462 - val_loss: 1.5771 - val_accuracy: 0.6667\n",
      "Epoch 614/1000\n",
      "58/58 [==============================] - 0s 2ms/step - loss: 0.1186 - accuracy: 0.9427 - val_loss: 1.7889 - val_accuracy: 0.6667\n",
      "Epoch 615/1000\n",
      "58/58 [==============================] - 0s 2ms/step - loss: 0.1575 - accuracy: 0.9410 - val_loss: 1.6120 - val_accuracy: 0.6823\n",
      "Epoch 616/1000\n",
      "58/58 [==============================] - 0s 2ms/step - loss: 0.3287 - accuracy: 0.8750 - val_loss: 1.5448 - val_accuracy: 0.6771\n",
      "Epoch 617/1000\n",
      "58/58 [==============================] - 0s 2ms/step - loss: 0.1940 - accuracy: 0.9323 - val_loss: 1.7358 - val_accuracy: 0.6771\n",
      "Epoch 618/1000\n",
      "58/58 [==============================] - 0s 2ms/step - loss: 0.1414 - accuracy: 0.9340 - val_loss: 1.5705 - val_accuracy: 0.6615\n",
      "Epoch 619/1000\n",
      "58/58 [==============================] - 0s 2ms/step - loss: 0.1606 - accuracy: 0.9323 - val_loss: 2.0134 - val_accuracy: 0.6719\n",
      "Epoch 620/1000\n",
      "58/58 [==============================] - 0s 2ms/step - loss: 0.2523 - accuracy: 0.8958 - val_loss: 1.6471 - val_accuracy: 0.6406\n",
      "Epoch 621/1000\n",
      "58/58 [==============================] - 0s 2ms/step - loss: 0.1702 - accuracy: 0.9392 - val_loss: 1.6462 - val_accuracy: 0.6510\n",
      "Epoch 622/1000\n",
      "58/58 [==============================] - 0s 2ms/step - loss: 0.1163 - accuracy: 0.9566 - val_loss: 1.5415 - val_accuracy: 0.6667\n",
      "Epoch 623/1000\n",
      "58/58 [==============================] - 0s 2ms/step - loss: 0.1208 - accuracy: 0.9462 - val_loss: 1.6184 - val_accuracy: 0.6458\n",
      "Epoch 624/1000\n",
      "58/58 [==============================] - 0s 2ms/step - loss: 0.1177 - accuracy: 0.9583 - val_loss: 1.5658 - val_accuracy: 0.6667\n",
      "Epoch 625/1000\n",
      "58/58 [==============================] - 0s 2ms/step - loss: 0.1245 - accuracy: 0.9514 - val_loss: 1.5345 - val_accuracy: 0.6979\n",
      "Epoch 626/1000\n",
      "58/58 [==============================] - 0s 2ms/step - loss: 0.1164 - accuracy: 0.9514 - val_loss: 1.9194 - val_accuracy: 0.6615\n",
      "Epoch 627/1000\n",
      "58/58 [==============================] - 0s 2ms/step - loss: 0.1183 - accuracy: 0.9497 - val_loss: 2.0309 - val_accuracy: 0.6562\n"
     ]
    },
    {
     "name": "stdout",
     "output_type": "stream",
     "text": [
      "Epoch 628/1000\n",
      "58/58 [==============================] - 0s 2ms/step - loss: 0.1313 - accuracy: 0.9514 - val_loss: 1.8296 - val_accuracy: 0.6562\n",
      "Epoch 629/1000\n",
      "58/58 [==============================] - 0s 2ms/step - loss: 0.1140 - accuracy: 0.9479 - val_loss: 1.6711 - val_accuracy: 0.6771\n",
      "Epoch 630/1000\n",
      "58/58 [==============================] - 0s 2ms/step - loss: 0.1310 - accuracy: 0.9462 - val_loss: 1.8724 - val_accuracy: 0.6354\n",
      "Epoch 631/1000\n",
      "58/58 [==============================] - 0s 2ms/step - loss: 0.1286 - accuracy: 0.9462 - val_loss: 2.0733 - val_accuracy: 0.6406\n",
      "Epoch 632/1000\n",
      "58/58 [==============================] - 0s 2ms/step - loss: 0.2153 - accuracy: 0.9132 - val_loss: 1.7814 - val_accuracy: 0.6615\n",
      "Epoch 633/1000\n",
      "58/58 [==============================] - 0s 2ms/step - loss: 0.1443 - accuracy: 0.9410 - val_loss: 1.7230 - val_accuracy: 0.6667\n",
      "Epoch 634/1000\n",
      "58/58 [==============================] - 0s 2ms/step - loss: 0.1279 - accuracy: 0.9444 - val_loss: 1.7375 - val_accuracy: 0.6615\n",
      "Epoch 635/1000\n",
      "58/58 [==============================] - 0s 2ms/step - loss: 0.1174 - accuracy: 0.9549 - val_loss: 1.7404 - val_accuracy: 0.6719\n",
      "Epoch 636/1000\n",
      "58/58 [==============================] - 0s 2ms/step - loss: 0.1350 - accuracy: 0.9462 - val_loss: 1.6046 - val_accuracy: 0.6875\n",
      "Epoch 637/1000\n",
      "58/58 [==============================] - 0s 2ms/step - loss: 0.1329 - accuracy: 0.9392 - val_loss: 1.8473 - val_accuracy: 0.6510\n",
      "Epoch 638/1000\n",
      "58/58 [==============================] - 0s 2ms/step - loss: 0.1436 - accuracy: 0.9410 - val_loss: 1.6377 - val_accuracy: 0.6510\n",
      "Epoch 639/1000\n",
      "58/58 [==============================] - 0s 2ms/step - loss: 0.1358 - accuracy: 0.9340 - val_loss: 1.7898 - val_accuracy: 0.6562\n",
      "Epoch 640/1000\n",
      "58/58 [==============================] - 0s 2ms/step - loss: 0.1533 - accuracy: 0.9288 - val_loss: 1.6435 - val_accuracy: 0.6615\n",
      "Epoch 641/1000\n",
      "58/58 [==============================] - 0s 2ms/step - loss: 0.1806 - accuracy: 0.9132 - val_loss: 1.9147 - val_accuracy: 0.6615\n",
      "Epoch 642/1000\n",
      "58/58 [==============================] - 0s 2ms/step - loss: 0.1286 - accuracy: 0.9444 - val_loss: 1.6714 - val_accuracy: 0.6719\n",
      "Epoch 643/1000\n",
      "58/58 [==============================] - 0s 2ms/step - loss: 0.1043 - accuracy: 0.9549 - val_loss: 1.6964 - val_accuracy: 0.6458\n",
      "Epoch 644/1000\n",
      "58/58 [==============================] - 0s 2ms/step - loss: 0.1251 - accuracy: 0.9462 - val_loss: 1.7847 - val_accuracy: 0.6406\n",
      "Epoch 645/1000\n",
      "58/58 [==============================] - 0s 2ms/step - loss: 0.1048 - accuracy: 0.9583 - val_loss: 1.9007 - val_accuracy: 0.6302\n",
      "Epoch 646/1000\n",
      "58/58 [==============================] - 0s 2ms/step - loss: 0.2138 - accuracy: 0.9271 - val_loss: 1.6385 - val_accuracy: 0.7135\n",
      "Epoch 647/1000\n",
      "58/58 [==============================] - 0s 2ms/step - loss: 0.2604 - accuracy: 0.9010 - val_loss: 1.7813 - val_accuracy: 0.6667\n",
      "Epoch 648/1000\n",
      "58/58 [==============================] - 0s 2ms/step - loss: 0.1554 - accuracy: 0.9306 - val_loss: 1.8094 - val_accuracy: 0.6875\n",
      "Epoch 649/1000\n",
      "58/58 [==============================] - 0s 2ms/step - loss: 0.1489 - accuracy: 0.9358 - val_loss: 1.6163 - val_accuracy: 0.6510\n",
      "Epoch 650/1000\n",
      "58/58 [==============================] - 0s 2ms/step - loss: 0.2002 - accuracy: 0.9323 - val_loss: 1.5334 - val_accuracy: 0.6719\n",
      "Epoch 651/1000\n",
      "58/58 [==============================] - 0s 2ms/step - loss: 0.2211 - accuracy: 0.9149 - val_loss: 1.6441 - val_accuracy: 0.6823\n",
      "Epoch 652/1000\n",
      "58/58 [==============================] - 0s 2ms/step - loss: 0.1707 - accuracy: 0.9271 - val_loss: 1.7191 - val_accuracy: 0.6875\n",
      "Epoch 653/1000\n",
      "58/58 [==============================] - 0s 2ms/step - loss: 0.1594 - accuracy: 0.9392 - val_loss: 1.5458 - val_accuracy: 0.6719\n",
      "Epoch 654/1000\n",
      "58/58 [==============================] - 0s 2ms/step - loss: 0.1244 - accuracy: 0.9583 - val_loss: 1.6700 - val_accuracy: 0.6927\n",
      "Epoch 655/1000\n",
      "58/58 [==============================] - 0s 2ms/step - loss: 0.1193 - accuracy: 0.9566 - val_loss: 1.8584 - val_accuracy: 0.6771\n",
      "Epoch 656/1000\n",
      "58/58 [==============================] - 0s 2ms/step - loss: 0.1145 - accuracy: 0.9653 - val_loss: 1.6905 - val_accuracy: 0.6771\n",
      "Epoch 657/1000\n",
      "58/58 [==============================] - 0s 2ms/step - loss: 0.1615 - accuracy: 0.9375 - val_loss: 1.7136 - val_accuracy: 0.6667\n",
      "Epoch 658/1000\n",
      "58/58 [==============================] - 0s 2ms/step - loss: 0.1195 - accuracy: 0.9514 - val_loss: 1.6819 - val_accuracy: 0.6823\n",
      "Epoch 659/1000\n",
      "58/58 [==============================] - 0s 2ms/step - loss: 0.1516 - accuracy: 0.9358 - val_loss: 1.6716 - val_accuracy: 0.6719\n",
      "Epoch 660/1000\n",
      "58/58 [==============================] - 0s 2ms/step - loss: 0.1315 - accuracy: 0.9444 - val_loss: 1.8176 - val_accuracy: 0.6823\n",
      "Epoch 661/1000\n",
      "58/58 [==============================] - 0s 2ms/step - loss: 0.1169 - accuracy: 0.9497 - val_loss: 2.0141 - val_accuracy: 0.6719\n",
      "Epoch 662/1000\n",
      "58/58 [==============================] - 0s 2ms/step - loss: 0.1559 - accuracy: 0.9497 - val_loss: 1.7749 - val_accuracy: 0.6562\n",
      "Epoch 663/1000\n",
      "58/58 [==============================] - 0s 2ms/step - loss: 0.1189 - accuracy: 0.9601 - val_loss: 1.7231 - val_accuracy: 0.6615\n",
      "Epoch 664/1000\n",
      "58/58 [==============================] - 0s 2ms/step - loss: 0.1664 - accuracy: 0.9392 - val_loss: 1.8195 - val_accuracy: 0.6406\n",
      "Epoch 665/1000\n",
      "58/58 [==============================] - 0s 2ms/step - loss: 0.1348 - accuracy: 0.9479 - val_loss: 1.7859 - val_accuracy: 0.6562\n",
      "Epoch 666/1000\n",
      "58/58 [==============================] - 0s 2ms/step - loss: 0.1272 - accuracy: 0.9462 - val_loss: 1.8742 - val_accuracy: 0.6771\n",
      "Epoch 667/1000\n",
      "58/58 [==============================] - 0s 2ms/step - loss: 0.1388 - accuracy: 0.9444 - val_loss: 1.8928 - val_accuracy: 0.6302\n",
      "Epoch 668/1000\n",
      "58/58 [==============================] - 0s 2ms/step - loss: 0.1304 - accuracy: 0.9444 - val_loss: 1.9446 - val_accuracy: 0.6406\n",
      "Epoch 669/1000\n",
      "58/58 [==============================] - 0s 2ms/step - loss: 0.1428 - accuracy: 0.9375 - val_loss: 2.0470 - val_accuracy: 0.6615\n",
      "Epoch 670/1000\n",
      "58/58 [==============================] - 0s 2ms/step - loss: 0.1108 - accuracy: 0.9531 - val_loss: 1.8799 - val_accuracy: 0.6615\n",
      "Epoch 671/1000\n",
      "58/58 [==============================] - 0s 2ms/step - loss: 0.1173 - accuracy: 0.9462 - val_loss: 1.9429 - val_accuracy: 0.6667\n",
      "Epoch 672/1000\n",
      "58/58 [==============================] - 0s 2ms/step - loss: 0.1072 - accuracy: 0.9601 - val_loss: 1.8267 - val_accuracy: 0.6562\n",
      "Epoch 673/1000\n",
      "58/58 [==============================] - 0s 2ms/step - loss: 0.1068 - accuracy: 0.9549 - val_loss: 1.9176 - val_accuracy: 0.6406\n",
      "Epoch 674/1000\n",
      "58/58 [==============================] - 0s 2ms/step - loss: 0.1084 - accuracy: 0.9549 - val_loss: 1.9007 - val_accuracy: 0.6250\n",
      "Epoch 675/1000\n",
      "58/58 [==============================] - 0s 2ms/step - loss: 0.1041 - accuracy: 0.9601 - val_loss: 1.9021 - val_accuracy: 0.6667\n",
      "Epoch 676/1000\n",
      "58/58 [==============================] - 0s 2ms/step - loss: 0.1019 - accuracy: 0.9583 - val_loss: 2.0447 - val_accuracy: 0.6562\n",
      "Epoch 677/1000\n",
      "58/58 [==============================] - 0s 2ms/step - loss: 0.1234 - accuracy: 0.9531 - val_loss: 1.8461 - val_accuracy: 0.6510\n",
      "Epoch 678/1000\n",
      "58/58 [==============================] - 0s 2ms/step - loss: 0.2672 - accuracy: 0.8993 - val_loss: 2.1477 - val_accuracy: 0.6250\n",
      "Epoch 679/1000\n",
      "58/58 [==============================] - 0s 2ms/step - loss: 0.2500 - accuracy: 0.9028 - val_loss: 1.6031 - val_accuracy: 0.6562\n",
      "Epoch 680/1000\n",
      "58/58 [==============================] - 0s 2ms/step - loss: 0.1499 - accuracy: 0.9323 - val_loss: 1.6720 - val_accuracy: 0.6562\n",
      "Epoch 681/1000\n",
      "58/58 [==============================] - 0s 2ms/step - loss: 0.1221 - accuracy: 0.9462 - val_loss: 1.8154 - val_accuracy: 0.6719\n",
      "Epoch 682/1000\n",
      "58/58 [==============================] - 0s 2ms/step - loss: 0.1641 - accuracy: 0.9462 - val_loss: 1.6964 - val_accuracy: 0.6458\n",
      "Epoch 683/1000\n",
      "58/58 [==============================] - 0s 2ms/step - loss: 0.1719 - accuracy: 0.9288 - val_loss: 1.8800 - val_accuracy: 0.6667\n",
      "Epoch 684/1000\n",
      "58/58 [==============================] - 0s 2ms/step - loss: 0.1311 - accuracy: 0.9549 - val_loss: 1.8375 - val_accuracy: 0.6615\n"
     ]
    },
    {
     "name": "stdout",
     "output_type": "stream",
     "text": [
      "Epoch 685/1000\n",
      "58/58 [==============================] - 0s 2ms/step - loss: 0.1478 - accuracy: 0.9392 - val_loss: 1.8348 - val_accuracy: 0.6510\n",
      "Epoch 686/1000\n",
      "58/58 [==============================] - 0s 2ms/step - loss: 0.1171 - accuracy: 0.9583 - val_loss: 1.7159 - val_accuracy: 0.6510\n",
      "Epoch 687/1000\n",
      "58/58 [==============================] - 0s 2ms/step - loss: 0.0965 - accuracy: 0.9635 - val_loss: 1.9113 - val_accuracy: 0.6771\n",
      "Epoch 688/1000\n",
      "58/58 [==============================] - 0s 2ms/step - loss: 0.1081 - accuracy: 0.9601 - val_loss: 1.7159 - val_accuracy: 0.6719\n",
      "Epoch 689/1000\n",
      "58/58 [==============================] - 0s 2ms/step - loss: 0.1209 - accuracy: 0.9479 - val_loss: 1.8734 - val_accuracy: 0.6823\n",
      "Epoch 690/1000\n",
      "58/58 [==============================] - 0s 2ms/step - loss: 0.1123 - accuracy: 0.9531 - val_loss: 1.9308 - val_accuracy: 0.6458\n",
      "Epoch 691/1000\n",
      "58/58 [==============================] - 0s 2ms/step - loss: 0.1134 - accuracy: 0.9514 - val_loss: 1.9023 - val_accuracy: 0.6823\n",
      "Epoch 692/1000\n",
      "58/58 [==============================] - 0s 2ms/step - loss: 0.0994 - accuracy: 0.9601 - val_loss: 2.0141 - val_accuracy: 0.6771\n",
      "Epoch 693/1000\n",
      "58/58 [==============================] - 0s 2ms/step - loss: 0.1049 - accuracy: 0.9566 - val_loss: 1.8969 - val_accuracy: 0.6510\n",
      "Epoch 694/1000\n",
      "58/58 [==============================] - 0s 2ms/step - loss: 0.1059 - accuracy: 0.9635 - val_loss: 1.8543 - val_accuracy: 0.6719\n",
      "Epoch 695/1000\n",
      "58/58 [==============================] - 0s 2ms/step - loss: 0.1066 - accuracy: 0.9583 - val_loss: 1.8998 - val_accuracy: 0.6667\n",
      "Epoch 696/1000\n",
      "58/58 [==============================] - 0s 2ms/step - loss: 0.0976 - accuracy: 0.9601 - val_loss: 2.0451 - val_accuracy: 0.6719\n",
      "Epoch 697/1000\n",
      "58/58 [==============================] - 0s 2ms/step - loss: 0.1009 - accuracy: 0.9618 - val_loss: 1.9167 - val_accuracy: 0.6562\n",
      "Epoch 698/1000\n",
      "58/58 [==============================] - 0s 2ms/step - loss: 0.1395 - accuracy: 0.9427 - val_loss: 2.0881 - val_accuracy: 0.6562\n",
      "Epoch 699/1000\n",
      "58/58 [==============================] - 0s 2ms/step - loss: 0.2594 - accuracy: 0.8906 - val_loss: 1.5654 - val_accuracy: 0.6719\n",
      "Epoch 700/1000\n",
      "58/58 [==============================] - 0s 2ms/step - loss: 0.2241 - accuracy: 0.8958 - val_loss: 1.8473 - val_accuracy: 0.6719\n",
      "Epoch 701/1000\n",
      "58/58 [==============================] - 0s 2ms/step - loss: 0.1379 - accuracy: 0.9444 - val_loss: 1.8059 - val_accuracy: 0.6406\n",
      "Epoch 702/1000\n",
      "58/58 [==============================] - 0s 2ms/step - loss: 0.1367 - accuracy: 0.9323 - val_loss: 2.0500 - val_accuracy: 0.6615\n",
      "Epoch 703/1000\n",
      "58/58 [==============================] - 0s 2ms/step - loss: 0.1367 - accuracy: 0.9410 - val_loss: 1.8265 - val_accuracy: 0.6719\n",
      "Epoch 704/1000\n",
      "58/58 [==============================] - 0s 2ms/step - loss: 0.1393 - accuracy: 0.9375 - val_loss: 1.7101 - val_accuracy: 0.6562\n",
      "Epoch 705/1000\n",
      "58/58 [==============================] - 0s 2ms/step - loss: 0.1820 - accuracy: 0.9184 - val_loss: 1.9974 - val_accuracy: 0.6510\n",
      "Epoch 706/1000\n",
      "58/58 [==============================] - 0s 2ms/step - loss: 0.1608 - accuracy: 0.9392 - val_loss: 1.9538 - val_accuracy: 0.6823\n",
      "Epoch 707/1000\n",
      "58/58 [==============================] - 0s 2ms/step - loss: 0.1661 - accuracy: 0.9462 - val_loss: 2.1487 - val_accuracy: 0.6823\n",
      "Epoch 708/1000\n",
      "58/58 [==============================] - 0s 2ms/step - loss: 0.1420 - accuracy: 0.9340 - val_loss: 1.9612 - val_accuracy: 0.6510\n",
      "Epoch 709/1000\n",
      "58/58 [==============================] - 0s 2ms/step - loss: 0.1232 - accuracy: 0.9601 - val_loss: 1.6643 - val_accuracy: 0.6458\n",
      "Epoch 710/1000\n",
      "58/58 [==============================] - 0s 2ms/step - loss: 0.1306 - accuracy: 0.9497 - val_loss: 1.8318 - val_accuracy: 0.6615\n",
      "Epoch 711/1000\n",
      "58/58 [==============================] - 0s 2ms/step - loss: 0.1122 - accuracy: 0.9566 - val_loss: 1.8320 - val_accuracy: 0.6615\n",
      "Epoch 712/1000\n",
      "58/58 [==============================] - 0s 2ms/step - loss: 0.1186 - accuracy: 0.9462 - val_loss: 1.7238 - val_accuracy: 0.6302\n",
      "Epoch 713/1000\n",
      "58/58 [==============================] - 0s 2ms/step - loss: 0.1450 - accuracy: 0.9358 - val_loss: 2.0435 - val_accuracy: 0.6667\n",
      "Epoch 714/1000\n",
      "58/58 [==============================] - 0s 2ms/step - loss: 0.1227 - accuracy: 0.9427 - val_loss: 1.8938 - val_accuracy: 0.6615\n",
      "Epoch 715/1000\n",
      "58/58 [==============================] - 0s 2ms/step - loss: 0.1144 - accuracy: 0.9566 - val_loss: 1.8318 - val_accuracy: 0.6615\n",
      "Epoch 716/1000\n",
      "58/58 [==============================] - 0s 2ms/step - loss: 0.0958 - accuracy: 0.9601 - val_loss: 1.8856 - val_accuracy: 0.6667\n",
      "Epoch 717/1000\n",
      "58/58 [==============================] - 0s 2ms/step - loss: 0.1103 - accuracy: 0.9549 - val_loss: 1.9035 - val_accuracy: 0.6667\n",
      "Epoch 718/1000\n",
      "58/58 [==============================] - 0s 2ms/step - loss: 0.0999 - accuracy: 0.9670 - val_loss: 2.1543 - val_accuracy: 0.6302\n",
      "Epoch 719/1000\n",
      "58/58 [==============================] - 0s 2ms/step - loss: 0.1117 - accuracy: 0.9583 - val_loss: 2.0460 - val_accuracy: 0.6667\n",
      "Epoch 720/1000\n",
      "58/58 [==============================] - 0s 2ms/step - loss: 0.1130 - accuracy: 0.9653 - val_loss: 1.8883 - val_accuracy: 0.6667\n",
      "Epoch 721/1000\n",
      "58/58 [==============================] - 0s 2ms/step - loss: 0.3960 - accuracy: 0.8715 - val_loss: 2.1619 - val_accuracy: 0.6719\n",
      "Epoch 722/1000\n",
      "58/58 [==============================] - 0s 2ms/step - loss: 0.3124 - accuracy: 0.8837 - val_loss: 1.8363 - val_accuracy: 0.6406\n",
      "Epoch 723/1000\n",
      "58/58 [==============================] - 0s 2ms/step - loss: 0.1977 - accuracy: 0.9184 - val_loss: 1.6412 - val_accuracy: 0.6875\n",
      "Epoch 724/1000\n",
      "58/58 [==============================] - 0s 2ms/step - loss: 0.1313 - accuracy: 0.9392 - val_loss: 1.7596 - val_accuracy: 0.6562\n",
      "Epoch 725/1000\n",
      "58/58 [==============================] - 0s 2ms/step - loss: 0.1047 - accuracy: 0.9601 - val_loss: 1.5825 - val_accuracy: 0.6771\n",
      "Epoch 726/1000\n",
      "58/58 [==============================] - 0s 2ms/step - loss: 0.1052 - accuracy: 0.9566 - val_loss: 1.8069 - val_accuracy: 0.6719\n",
      "Epoch 727/1000\n",
      "58/58 [==============================] - 0s 2ms/step - loss: 0.0875 - accuracy: 0.9583 - val_loss: 1.7191 - val_accuracy: 0.6458\n",
      "Epoch 728/1000\n",
      "58/58 [==============================] - 0s 2ms/step - loss: 0.0918 - accuracy: 0.9635 - val_loss: 1.6926 - val_accuracy: 0.6823\n",
      "Epoch 729/1000\n",
      "58/58 [==============================] - 0s 2ms/step - loss: 0.1020 - accuracy: 0.9531 - val_loss: 1.8465 - val_accuracy: 0.6510\n",
      "Epoch 730/1000\n",
      "58/58 [==============================] - 0s 2ms/step - loss: 0.0887 - accuracy: 0.9653 - val_loss: 1.9611 - val_accuracy: 0.6458\n",
      "Epoch 731/1000\n",
      "58/58 [==============================] - 0s 2ms/step - loss: 0.0821 - accuracy: 0.9670 - val_loss: 1.9422 - val_accuracy: 0.6615\n",
      "Epoch 732/1000\n",
      "58/58 [==============================] - 0s 2ms/step - loss: 0.0970 - accuracy: 0.9566 - val_loss: 1.8281 - val_accuracy: 0.6458\n",
      "Epoch 733/1000\n",
      "58/58 [==============================] - 0s 2ms/step - loss: 0.0893 - accuracy: 0.9635 - val_loss: 1.9978 - val_accuracy: 0.6354\n",
      "Epoch 734/1000\n",
      "58/58 [==============================] - 0s 2ms/step - loss: 0.1279 - accuracy: 0.9514 - val_loss: 1.8365 - val_accuracy: 0.6458\n",
      "Epoch 735/1000\n",
      "58/58 [==============================] - 0s 2ms/step - loss: 0.2162 - accuracy: 0.9253 - val_loss: 1.9825 - val_accuracy: 0.6719\n",
      "Epoch 736/1000\n",
      "58/58 [==============================] - 0s 2ms/step - loss: 0.1360 - accuracy: 0.9444 - val_loss: 1.9280 - val_accuracy: 0.6667\n",
      "Epoch 737/1000\n",
      "58/58 [==============================] - 0s 2ms/step - loss: 0.1133 - accuracy: 0.9583 - val_loss: 1.7761 - val_accuracy: 0.6719\n",
      "Epoch 738/1000\n",
      "58/58 [==============================] - 0s 2ms/step - loss: 0.1839 - accuracy: 0.9271 - val_loss: 1.9329 - val_accuracy: 0.6771\n",
      "Epoch 739/1000\n",
      "58/58 [==============================] - 0s 2ms/step - loss: 0.2561 - accuracy: 0.9115 - val_loss: 1.8172 - val_accuracy: 0.6823\n",
      "Epoch 740/1000\n",
      "58/58 [==============================] - 0s 2ms/step - loss: 0.1191 - accuracy: 0.9462 - val_loss: 1.8763 - val_accuracy: 0.6823\n",
      "Epoch 741/1000\n",
      "58/58 [==============================] - 0s 2ms/step - loss: 0.1077 - accuracy: 0.9601 - val_loss: 1.9358 - val_accuracy: 0.6562\n"
     ]
    },
    {
     "name": "stdout",
     "output_type": "stream",
     "text": [
      "Epoch 742/1000\n",
      "58/58 [==============================] - 0s 2ms/step - loss: 0.0882 - accuracy: 0.9688 - val_loss: 1.8811 - val_accuracy: 0.6458\n",
      "Epoch 743/1000\n",
      "58/58 [==============================] - 0s 2ms/step - loss: 0.0941 - accuracy: 0.9601 - val_loss: 2.0369 - val_accuracy: 0.6458\n",
      "Epoch 744/1000\n",
      "58/58 [==============================] - 0s 2ms/step - loss: 0.0934 - accuracy: 0.9618 - val_loss: 2.1566 - val_accuracy: 0.6354\n",
      "Epoch 745/1000\n",
      "58/58 [==============================] - 0s 2ms/step - loss: 0.1353 - accuracy: 0.9358 - val_loss: 2.2645 - val_accuracy: 0.6302\n",
      "Epoch 746/1000\n",
      "58/58 [==============================] - 0s 2ms/step - loss: 0.1418 - accuracy: 0.9410 - val_loss: 2.3231 - val_accuracy: 0.6510\n",
      "Epoch 747/1000\n",
      "58/58 [==============================] - 0s 2ms/step - loss: 0.1574 - accuracy: 0.9410 - val_loss: 2.2052 - val_accuracy: 0.6458\n",
      "Epoch 748/1000\n",
      "58/58 [==============================] - 0s 2ms/step - loss: 0.1190 - accuracy: 0.9514 - val_loss: 2.0186 - val_accuracy: 0.6198\n",
      "Epoch 749/1000\n",
      "58/58 [==============================] - 0s 2ms/step - loss: 0.1230 - accuracy: 0.9549 - val_loss: 2.0935 - val_accuracy: 0.6719\n",
      "Epoch 750/1000\n",
      "58/58 [==============================] - 0s 2ms/step - loss: 0.1230 - accuracy: 0.9479 - val_loss: 1.8251 - val_accuracy: 0.6510\n",
      "Epoch 751/1000\n",
      "58/58 [==============================] - 0s 2ms/step - loss: 0.0998 - accuracy: 0.9601 - val_loss: 1.9731 - val_accuracy: 0.6406\n",
      "Epoch 752/1000\n",
      "58/58 [==============================] - 0s 2ms/step - loss: 0.1026 - accuracy: 0.9653 - val_loss: 2.0752 - val_accuracy: 0.6562\n",
      "Epoch 753/1000\n",
      "58/58 [==============================] - 0s 2ms/step - loss: 0.1113 - accuracy: 0.9531 - val_loss: 1.9998 - val_accuracy: 0.6667\n",
      "Epoch 754/1000\n",
      "58/58 [==============================] - 0s 2ms/step - loss: 0.0813 - accuracy: 0.9688 - val_loss: 1.7851 - val_accuracy: 0.6458\n",
      "Epoch 755/1000\n",
      "58/58 [==============================] - 0s 2ms/step - loss: 0.1029 - accuracy: 0.9653 - val_loss: 2.1519 - val_accuracy: 0.6354\n",
      "Epoch 756/1000\n",
      "58/58 [==============================] - 0s 2ms/step - loss: 0.1172 - accuracy: 0.9462 - val_loss: 2.1725 - val_accuracy: 0.6354\n",
      "Epoch 757/1000\n",
      "58/58 [==============================] - 0s 2ms/step - loss: 0.1300 - accuracy: 0.9462 - val_loss: 2.0488 - val_accuracy: 0.6354\n",
      "Epoch 758/1000\n",
      "58/58 [==============================] - 0s 2ms/step - loss: 0.1039 - accuracy: 0.9635 - val_loss: 2.4568 - val_accuracy: 0.6615\n",
      "Epoch 759/1000\n",
      "58/58 [==============================] - 0s 2ms/step - loss: 0.0993 - accuracy: 0.9635 - val_loss: 2.3694 - val_accuracy: 0.6198\n",
      "Epoch 760/1000\n",
      "58/58 [==============================] - 0s 2ms/step - loss: 0.1098 - accuracy: 0.9531 - val_loss: 1.9611 - val_accuracy: 0.6458\n",
      "Epoch 761/1000\n",
      "58/58 [==============================] - 0s 2ms/step - loss: 0.1065 - accuracy: 0.9514 - val_loss: 2.0909 - val_accuracy: 0.6615\n",
      "Epoch 762/1000\n",
      "58/58 [==============================] - 0s 2ms/step - loss: 0.1076 - accuracy: 0.9531 - val_loss: 1.7875 - val_accuracy: 0.6510\n",
      "Epoch 763/1000\n",
      "58/58 [==============================] - 0s 2ms/step - loss: 0.1231 - accuracy: 0.9549 - val_loss: 2.1834 - val_accuracy: 0.6354\n",
      "Epoch 764/1000\n",
      "58/58 [==============================] - 0s 2ms/step - loss: 0.1339 - accuracy: 0.9444 - val_loss: 2.2212 - val_accuracy: 0.6198\n",
      "Epoch 765/1000\n",
      "58/58 [==============================] - 0s 2ms/step - loss: 0.1058 - accuracy: 0.9514 - val_loss: 2.0043 - val_accuracy: 0.6510\n",
      "Epoch 766/1000\n",
      "58/58 [==============================] - 0s 2ms/step - loss: 0.0882 - accuracy: 0.9618 - val_loss: 2.2044 - val_accuracy: 0.6250\n",
      "Epoch 767/1000\n",
      "58/58 [==============================] - 0s 2ms/step - loss: 0.1089 - accuracy: 0.9531 - val_loss: 2.0890 - val_accuracy: 0.6562\n",
      "Epoch 768/1000\n",
      "58/58 [==============================] - 0s 2ms/step - loss: 0.1072 - accuracy: 0.9566 - val_loss: 2.0641 - val_accuracy: 0.6510\n",
      "Epoch 769/1000\n",
      "58/58 [==============================] - 0s 2ms/step - loss: 0.1286 - accuracy: 0.9566 - val_loss: 1.9706 - val_accuracy: 0.6562\n",
      "Epoch 770/1000\n",
      "58/58 [==============================] - 0s 2ms/step - loss: 0.1027 - accuracy: 0.9601 - val_loss: 1.9028 - val_accuracy: 0.6562\n",
      "Epoch 771/1000\n",
      "58/58 [==============================] - 0s 2ms/step - loss: 0.0910 - accuracy: 0.9653 - val_loss: 2.1176 - val_accuracy: 0.6719\n",
      "Epoch 772/1000\n",
      "58/58 [==============================] - 0s 2ms/step - loss: 0.0856 - accuracy: 0.9705 - val_loss: 2.1838 - val_accuracy: 0.6667\n",
      "Epoch 773/1000\n",
      "58/58 [==============================] - 0s 2ms/step - loss: 0.1176 - accuracy: 0.9497 - val_loss: 2.1288 - val_accuracy: 0.6562\n",
      "Epoch 774/1000\n",
      "58/58 [==============================] - 0s 2ms/step - loss: 0.1101 - accuracy: 0.9601 - val_loss: 1.9363 - val_accuracy: 0.6562\n",
      "Epoch 775/1000\n",
      "58/58 [==============================] - 0s 2ms/step - loss: 0.1094 - accuracy: 0.9514 - val_loss: 2.2526 - val_accuracy: 0.6510\n",
      "Epoch 776/1000\n",
      "58/58 [==============================] - 0s 2ms/step - loss: 0.1006 - accuracy: 0.9583 - val_loss: 2.1191 - val_accuracy: 0.6406\n",
      "Epoch 777/1000\n",
      "58/58 [==============================] - 0s 2ms/step - loss: 0.0816 - accuracy: 0.9740 - val_loss: 1.9938 - val_accuracy: 0.6562\n",
      "Epoch 778/1000\n",
      "58/58 [==============================] - 0s 2ms/step - loss: 0.1550 - accuracy: 0.9462 - val_loss: 2.0743 - val_accuracy: 0.6302\n",
      "Epoch 779/1000\n",
      "58/58 [==============================] - 0s 2ms/step - loss: 0.3570 - accuracy: 0.8924 - val_loss: 2.2276 - val_accuracy: 0.6458\n",
      "Epoch 780/1000\n",
      "58/58 [==============================] - 0s 2ms/step - loss: 0.2893 - accuracy: 0.8889 - val_loss: 1.8717 - val_accuracy: 0.6562\n",
      "Epoch 781/1000\n",
      "58/58 [==============================] - 0s 2ms/step - loss: 0.1820 - accuracy: 0.9306 - val_loss: 1.8165 - val_accuracy: 0.6667\n",
      "Epoch 782/1000\n",
      "58/58 [==============================] - 0s 2ms/step - loss: 0.1238 - accuracy: 0.9462 - val_loss: 1.9095 - val_accuracy: 0.6667\n",
      "Epoch 783/1000\n",
      "58/58 [==============================] - 0s 2ms/step - loss: 0.1167 - accuracy: 0.9514 - val_loss: 1.7176 - val_accuracy: 0.6927\n",
      "Epoch 784/1000\n",
      "58/58 [==============================] - 0s 2ms/step - loss: 0.0809 - accuracy: 0.9688 - val_loss: 1.8055 - val_accuracy: 0.6562\n",
      "Epoch 785/1000\n",
      "58/58 [==============================] - 0s 2ms/step - loss: 0.0790 - accuracy: 0.9757 - val_loss: 2.0453 - val_accuracy: 0.6615\n",
      "Epoch 786/1000\n",
      "58/58 [==============================] - 0s 2ms/step - loss: 0.0809 - accuracy: 0.9705 - val_loss: 1.9960 - val_accuracy: 0.6510\n",
      "Epoch 787/1000\n",
      "58/58 [==============================] - 0s 2ms/step - loss: 0.0776 - accuracy: 0.9688 - val_loss: 2.1055 - val_accuracy: 0.6406\n",
      "Epoch 788/1000\n",
      "58/58 [==============================] - 0s 2ms/step - loss: 0.0735 - accuracy: 0.9757 - val_loss: 1.9594 - val_accuracy: 0.6667\n",
      "Epoch 789/1000\n",
      "58/58 [==============================] - 0s 2ms/step - loss: 0.0798 - accuracy: 0.9670 - val_loss: 1.9368 - val_accuracy: 0.6667\n",
      "Epoch 790/1000\n",
      "58/58 [==============================] - 0s 2ms/step - loss: 0.0704 - accuracy: 0.9740 - val_loss: 2.0049 - val_accuracy: 0.6719\n",
      "Epoch 791/1000\n",
      "58/58 [==============================] - 0s 2ms/step - loss: 0.0830 - accuracy: 0.9670 - val_loss: 2.0722 - val_accuracy: 0.6667\n",
      "Epoch 792/1000\n",
      "58/58 [==============================] - 0s 2ms/step - loss: 0.0718 - accuracy: 0.9740 - val_loss: 2.0083 - val_accuracy: 0.6562\n",
      "Epoch 793/1000\n",
      "58/58 [==============================] - 0s 2ms/step - loss: 0.1339 - accuracy: 0.9410 - val_loss: 2.0391 - val_accuracy: 0.6875\n",
      "Epoch 794/1000\n",
      "58/58 [==============================] - 0s 2ms/step - loss: 0.0954 - accuracy: 0.9601 - val_loss: 2.0223 - val_accuracy: 0.6823\n",
      "Epoch 795/1000\n",
      "58/58 [==============================] - 0s 2ms/step - loss: 0.0871 - accuracy: 0.9757 - val_loss: 2.1390 - val_accuracy: 0.6667\n",
      "Epoch 796/1000\n",
      "58/58 [==============================] - 0s 2ms/step - loss: 0.1301 - accuracy: 0.9531 - val_loss: 1.9645 - val_accuracy: 0.6719\n",
      "Epoch 797/1000\n",
      "58/58 [==============================] - 0s 2ms/step - loss: 0.1352 - accuracy: 0.9531 - val_loss: 2.2973 - val_accuracy: 0.6458\n",
      "Epoch 798/1000\n",
      "58/58 [==============================] - 0s 2ms/step - loss: 0.2713 - accuracy: 0.9010 - val_loss: 1.6369 - val_accuracy: 0.6615\n"
     ]
    },
    {
     "name": "stdout",
     "output_type": "stream",
     "text": [
      "Epoch 799/1000\n",
      "58/58 [==============================] - 0s 2ms/step - loss: 0.1858 - accuracy: 0.9323 - val_loss: 1.8475 - val_accuracy: 0.7031\n",
      "Epoch 800/1000\n",
      "58/58 [==============================] - 0s 2ms/step - loss: 0.2141 - accuracy: 0.9271 - val_loss: 1.7803 - val_accuracy: 0.6615\n",
      "Epoch 801/1000\n",
      "58/58 [==============================] - 0s 2ms/step - loss: 0.1668 - accuracy: 0.9392 - val_loss: 2.1056 - val_accuracy: 0.6719\n",
      "Epoch 802/1000\n",
      "58/58 [==============================] - 0s 2ms/step - loss: 0.0886 - accuracy: 0.9705 - val_loss: 2.1003 - val_accuracy: 0.6771\n",
      "Epoch 803/1000\n",
      "58/58 [==============================] - 0s 2ms/step - loss: 0.0730 - accuracy: 0.9722 - val_loss: 2.3773 - val_accuracy: 0.6719\n",
      "Epoch 804/1000\n",
      "58/58 [==============================] - 0s 2ms/step - loss: 0.1059 - accuracy: 0.9583 - val_loss: 2.0275 - val_accuracy: 0.6719\n",
      "Epoch 805/1000\n",
      "58/58 [==============================] - 0s 2ms/step - loss: 0.0768 - accuracy: 0.9722 - val_loss: 2.0874 - val_accuracy: 0.6667\n",
      "Epoch 806/1000\n",
      "58/58 [==============================] - 0s 2ms/step - loss: 0.0802 - accuracy: 0.9618 - val_loss: 2.1458 - val_accuracy: 0.6667\n",
      "Epoch 807/1000\n",
      "58/58 [==============================] - 0s 2ms/step - loss: 0.0722 - accuracy: 0.9740 - val_loss: 2.1845 - val_accuracy: 0.6510\n",
      "Epoch 808/1000\n",
      "58/58 [==============================] - 0s 2ms/step - loss: 0.0736 - accuracy: 0.9670 - val_loss: 2.0189 - val_accuracy: 0.6667\n",
      "Epoch 809/1000\n",
      "58/58 [==============================] - 0s 2ms/step - loss: 0.0962 - accuracy: 0.9653 - val_loss: 2.1947 - val_accuracy: 0.6667\n",
      "Epoch 810/1000\n",
      "58/58 [==============================] - 0s 2ms/step - loss: 0.0833 - accuracy: 0.9670 - val_loss: 2.2555 - val_accuracy: 0.6562\n",
      "Epoch 811/1000\n",
      "58/58 [==============================] - 0s 2ms/step - loss: 0.0751 - accuracy: 0.9740 - val_loss: 2.2373 - val_accuracy: 0.6719\n",
      "Epoch 812/1000\n",
      "58/58 [==============================] - 0s 2ms/step - loss: 0.0729 - accuracy: 0.9722 - val_loss: 2.4107 - val_accuracy: 0.6510\n",
      "Epoch 813/1000\n",
      "58/58 [==============================] - 0s 2ms/step - loss: 0.0749 - accuracy: 0.9740 - val_loss: 2.2975 - val_accuracy: 0.6667\n",
      "Epoch 814/1000\n",
      "58/58 [==============================] - 0s 2ms/step - loss: 0.0735 - accuracy: 0.9705 - val_loss: 2.3052 - val_accuracy: 0.6562\n",
      "Epoch 815/1000\n",
      "58/58 [==============================] - 0s 2ms/step - loss: 0.0989 - accuracy: 0.9514 - val_loss: 2.2850 - val_accuracy: 0.6458\n",
      "Epoch 816/1000\n",
      "58/58 [==============================] - 0s 2ms/step - loss: 0.0868 - accuracy: 0.9757 - val_loss: 2.3121 - val_accuracy: 0.6354\n",
      "Epoch 817/1000\n",
      "58/58 [==============================] - 0s 2ms/step - loss: 0.0989 - accuracy: 0.9653 - val_loss: 2.3042 - val_accuracy: 0.6823\n",
      "Epoch 818/1000\n",
      "58/58 [==============================] - 0s 2ms/step - loss: 0.0967 - accuracy: 0.9653 - val_loss: 2.6239 - val_accuracy: 0.6250\n",
      "Epoch 819/1000\n",
      "58/58 [==============================] - 0s 2ms/step - loss: 0.1599 - accuracy: 0.9340 - val_loss: 1.7408 - val_accuracy: 0.7240\n",
      "Epoch 820/1000\n",
      "58/58 [==============================] - 0s 2ms/step - loss: 0.1624 - accuracy: 0.9323 - val_loss: 2.3546 - val_accuracy: 0.6615\n",
      "Epoch 821/1000\n",
      "58/58 [==============================] - 0s 2ms/step - loss: 0.3893 - accuracy: 0.8802 - val_loss: 1.8030 - val_accuracy: 0.6615\n",
      "Epoch 822/1000\n",
      "58/58 [==============================] - 0s 2ms/step - loss: 0.2604 - accuracy: 0.8976 - val_loss: 1.7903 - val_accuracy: 0.6823\n",
      "Epoch 823/1000\n",
      "58/58 [==============================] - 0s 2ms/step - loss: 0.2338 - accuracy: 0.9184 - val_loss: 1.7779 - val_accuracy: 0.6615\n",
      "Epoch 824/1000\n",
      "58/58 [==============================] - 0s 2ms/step - loss: 0.2559 - accuracy: 0.9115 - val_loss: 2.5727 - val_accuracy: 0.6406\n",
      "Epoch 825/1000\n",
      "58/58 [==============================] - 0s 2ms/step - loss: 0.1843 - accuracy: 0.9253 - val_loss: 1.8569 - val_accuracy: 0.6510\n",
      "Epoch 826/1000\n",
      "58/58 [==============================] - 0s 2ms/step - loss: 0.1230 - accuracy: 0.9497 - val_loss: 2.2156 - val_accuracy: 0.6250\n",
      "Epoch 827/1000\n",
      "58/58 [==============================] - 0s 2ms/step - loss: 0.0853 - accuracy: 0.9653 - val_loss: 2.0287 - val_accuracy: 0.6615\n",
      "Epoch 828/1000\n",
      "58/58 [==============================] - 0s 2ms/step - loss: 0.0857 - accuracy: 0.9653 - val_loss: 2.1165 - val_accuracy: 0.6354\n",
      "Epoch 829/1000\n",
      "58/58 [==============================] - 0s 2ms/step - loss: 0.0677 - accuracy: 0.9826 - val_loss: 2.2192 - val_accuracy: 0.6354\n",
      "Epoch 830/1000\n",
      "58/58 [==============================] - 0s 2ms/step - loss: 0.0689 - accuracy: 0.9792 - val_loss: 2.0312 - val_accuracy: 0.6510\n",
      "Epoch 831/1000\n",
      "58/58 [==============================] - 0s 2ms/step - loss: 0.0667 - accuracy: 0.9774 - val_loss: 2.1447 - val_accuracy: 0.6458\n",
      "Epoch 832/1000\n",
      "58/58 [==============================] - 0s 2ms/step - loss: 0.0659 - accuracy: 0.9757 - val_loss: 2.0679 - val_accuracy: 0.6510\n",
      "Epoch 833/1000\n",
      "58/58 [==============================] - 0s 2ms/step - loss: 0.0713 - accuracy: 0.9740 - val_loss: 2.3078 - val_accuracy: 0.6562\n",
      "Epoch 834/1000\n",
      "58/58 [==============================] - 0s 2ms/step - loss: 0.0692 - accuracy: 0.9757 - val_loss: 2.1937 - val_accuracy: 0.6406\n",
      "Epoch 835/1000\n",
      "58/58 [==============================] - 0s 2ms/step - loss: 0.0696 - accuracy: 0.9688 - val_loss: 2.1928 - val_accuracy: 0.6510\n",
      "Epoch 836/1000\n",
      "58/58 [==============================] - 0s 2ms/step - loss: 0.0638 - accuracy: 0.9792 - val_loss: 2.1882 - val_accuracy: 0.6406\n",
      "Epoch 837/1000\n",
      "58/58 [==============================] - 0s 2ms/step - loss: 0.0679 - accuracy: 0.9792 - val_loss: 2.2521 - val_accuracy: 0.6458\n",
      "Epoch 838/1000\n",
      "58/58 [==============================] - 0s 2ms/step - loss: 0.1206 - accuracy: 0.9549 - val_loss: 2.2071 - val_accuracy: 0.6406\n",
      "Epoch 839/1000\n",
      "58/58 [==============================] - 0s 2ms/step - loss: 0.1472 - accuracy: 0.9497 - val_loss: 2.6414 - val_accuracy: 0.6354\n",
      "Epoch 840/1000\n",
      "58/58 [==============================] - 0s 2ms/step - loss: 0.1646 - accuracy: 0.9358 - val_loss: 2.4987 - val_accuracy: 0.6406\n",
      "Epoch 841/1000\n",
      "58/58 [==============================] - 0s 2ms/step - loss: 0.1382 - accuracy: 0.9514 - val_loss: 2.1560 - val_accuracy: 0.6458\n",
      "Epoch 842/1000\n",
      "58/58 [==============================] - 0s 2ms/step - loss: 0.1382 - accuracy: 0.9444 - val_loss: 2.3488 - val_accuracy: 0.6406\n",
      "Epoch 843/1000\n",
      "58/58 [==============================] - 0s 2ms/step - loss: 0.2099 - accuracy: 0.9149 - val_loss: 1.8838 - val_accuracy: 0.6719\n",
      "Epoch 844/1000\n",
      "58/58 [==============================] - 0s 2ms/step - loss: 0.1183 - accuracy: 0.9618 - val_loss: 2.0039 - val_accuracy: 0.6771\n",
      "Epoch 845/1000\n",
      "58/58 [==============================] - 0s 2ms/step - loss: 0.1468 - accuracy: 0.9427 - val_loss: 2.2637 - val_accuracy: 0.6562\n",
      "Epoch 846/1000\n",
      "58/58 [==============================] - 0s 2ms/step - loss: 0.0833 - accuracy: 0.9757 - val_loss: 2.0914 - val_accuracy: 0.6562\n",
      "Epoch 847/1000\n",
      "58/58 [==============================] - 0s 2ms/step - loss: 0.0781 - accuracy: 0.9670 - val_loss: 2.3185 - val_accuracy: 0.6615\n",
      "Epoch 848/1000\n",
      "58/58 [==============================] - 0s 2ms/step - loss: 0.0974 - accuracy: 0.9635 - val_loss: 2.2581 - val_accuracy: 0.6823\n",
      "Epoch 849/1000\n",
      "58/58 [==============================] - 0s 2ms/step - loss: 0.1184 - accuracy: 0.9531 - val_loss: 2.4952 - val_accuracy: 0.6719\n",
      "Epoch 850/1000\n",
      "58/58 [==============================] - 0s 2ms/step - loss: 0.1528 - accuracy: 0.9531 - val_loss: 2.3674 - val_accuracy: 0.6510\n",
      "Epoch 851/1000\n",
      "58/58 [==============================] - 0s 2ms/step - loss: 0.1105 - accuracy: 0.9618 - val_loss: 2.4359 - val_accuracy: 0.6458\n",
      "Epoch 852/1000\n",
      "58/58 [==============================] - 0s 2ms/step - loss: 0.1152 - accuracy: 0.9583 - val_loss: 2.3003 - val_accuracy: 0.6458\n",
      "Epoch 853/1000\n",
      "58/58 [==============================] - 0s 2ms/step - loss: 0.1270 - accuracy: 0.9635 - val_loss: 2.3269 - val_accuracy: 0.6302\n",
      "Epoch 854/1000\n",
      "58/58 [==============================] - 0s 2ms/step - loss: 0.0779 - accuracy: 0.9757 - val_loss: 2.0267 - val_accuracy: 0.6510\n",
      "Epoch 855/1000\n",
      "58/58 [==============================] - 0s 2ms/step - loss: 0.0955 - accuracy: 0.9531 - val_loss: 2.1186 - val_accuracy: 0.6458\n"
     ]
    },
    {
     "name": "stdout",
     "output_type": "stream",
     "text": [
      "Epoch 856/1000\n",
      "58/58 [==============================] - 0s 2ms/step - loss: 0.0803 - accuracy: 0.9705 - val_loss: 2.0769 - val_accuracy: 0.6302\n",
      "Epoch 857/1000\n",
      "58/58 [==============================] - 0s 2ms/step - loss: 0.0727 - accuracy: 0.9688 - val_loss: 1.9725 - val_accuracy: 0.6615\n",
      "Epoch 858/1000\n",
      "58/58 [==============================] - 0s 2ms/step - loss: 0.0736 - accuracy: 0.9757 - val_loss: 2.2150 - val_accuracy: 0.6458\n",
      "Epoch 859/1000\n",
      "58/58 [==============================] - 0s 2ms/step - loss: 0.0654 - accuracy: 0.9757 - val_loss: 2.1315 - val_accuracy: 0.6562\n",
      "Epoch 860/1000\n",
      "58/58 [==============================] - 0s 2ms/step - loss: 0.0722 - accuracy: 0.9740 - val_loss: 2.0088 - val_accuracy: 0.6771\n",
      "Epoch 861/1000\n",
      "58/58 [==============================] - 0s 2ms/step - loss: 0.0658 - accuracy: 0.9722 - val_loss: 2.1665 - val_accuracy: 0.6719\n",
      "Epoch 862/1000\n",
      "58/58 [==============================] - 0s 2ms/step - loss: 0.0580 - accuracy: 0.9792 - val_loss: 2.2510 - val_accuracy: 0.6562\n",
      "Epoch 863/1000\n",
      "58/58 [==============================] - 0s 2ms/step - loss: 0.0621 - accuracy: 0.9722 - val_loss: 2.3118 - val_accuracy: 0.6562\n",
      "Epoch 864/1000\n",
      "58/58 [==============================] - 0s 2ms/step - loss: 0.0971 - accuracy: 0.9653 - val_loss: 2.2650 - val_accuracy: 0.6406\n",
      "Epoch 865/1000\n",
      "58/58 [==============================] - 0s 2ms/step - loss: 0.0912 - accuracy: 0.9618 - val_loss: 2.1455 - val_accuracy: 0.6823\n",
      "Epoch 866/1000\n",
      "58/58 [==============================] - 0s 2ms/step - loss: 0.3094 - accuracy: 0.9097 - val_loss: 2.0918 - val_accuracy: 0.6406\n",
      "Epoch 867/1000\n",
      "58/58 [==============================] - 0s 2ms/step - loss: 0.1829 - accuracy: 0.9253 - val_loss: 1.8560 - val_accuracy: 0.6510\n",
      "Epoch 868/1000\n",
      "58/58 [==============================] - 0s 2ms/step - loss: 0.1090 - accuracy: 0.9566 - val_loss: 2.7235 - val_accuracy: 0.6615\n",
      "Epoch 869/1000\n",
      "58/58 [==============================] - 0s 2ms/step - loss: 0.0842 - accuracy: 0.9757 - val_loss: 2.5809 - val_accuracy: 0.6406\n",
      "Epoch 870/1000\n",
      "58/58 [==============================] - 0s 2ms/step - loss: 0.1070 - accuracy: 0.9583 - val_loss: 2.5080 - val_accuracy: 0.6406\n",
      "Epoch 871/1000\n",
      "58/58 [==============================] - 0s 2ms/step - loss: 0.0999 - accuracy: 0.9635 - val_loss: 2.5313 - val_accuracy: 0.6562\n",
      "Epoch 872/1000\n",
      "58/58 [==============================] - 0s 2ms/step - loss: 0.0758 - accuracy: 0.9740 - val_loss: 2.5959 - val_accuracy: 0.6562\n",
      "Epoch 873/1000\n",
      "58/58 [==============================] - 0s 2ms/step - loss: 0.0678 - accuracy: 0.9722 - val_loss: 2.5866 - val_accuracy: 0.6250\n",
      "Epoch 874/1000\n",
      "58/58 [==============================] - 0s 2ms/step - loss: 0.0668 - accuracy: 0.9757 - val_loss: 2.6996 - val_accuracy: 0.6458\n",
      "Epoch 875/1000\n",
      "58/58 [==============================] - 0s 2ms/step - loss: 0.0875 - accuracy: 0.9601 - val_loss: 2.7195 - val_accuracy: 0.6667\n",
      "Epoch 876/1000\n",
      "58/58 [==============================] - 0s 2ms/step - loss: 0.0811 - accuracy: 0.9670 - val_loss: 2.4760 - val_accuracy: 0.6510\n",
      "Epoch 877/1000\n",
      "58/58 [==============================] - 0s 2ms/step - loss: 0.0779 - accuracy: 0.9653 - val_loss: 2.4651 - val_accuracy: 0.6406\n",
      "Epoch 878/1000\n",
      "58/58 [==============================] - 0s 2ms/step - loss: 0.0645 - accuracy: 0.9792 - val_loss: 2.5722 - val_accuracy: 0.6458\n",
      "Epoch 879/1000\n",
      "58/58 [==============================] - 0s 2ms/step - loss: 0.0624 - accuracy: 0.9722 - val_loss: 2.6378 - val_accuracy: 0.6302\n",
      "Epoch 880/1000\n",
      "58/58 [==============================] - 0s 2ms/step - loss: 0.0692 - accuracy: 0.9826 - val_loss: 2.4834 - val_accuracy: 0.6562\n",
      "Epoch 881/1000\n",
      "58/58 [==============================] - 0s 2ms/step - loss: 0.0873 - accuracy: 0.9583 - val_loss: 2.4283 - val_accuracy: 0.6302\n",
      "Epoch 882/1000\n",
      "58/58 [==============================] - 0s 2ms/step - loss: 0.0978 - accuracy: 0.9635 - val_loss: 2.4912 - val_accuracy: 0.6615\n",
      "Epoch 883/1000\n",
      "58/58 [==============================] - 0s 2ms/step - loss: 0.1018 - accuracy: 0.9618 - val_loss: 2.5688 - val_accuracy: 0.6615\n",
      "Epoch 884/1000\n",
      "58/58 [==============================] - 0s 2ms/step - loss: 0.0805 - accuracy: 0.9653 - val_loss: 2.2229 - val_accuracy: 0.6719\n",
      "Epoch 885/1000\n",
      "58/58 [==============================] - 0s 2ms/step - loss: 0.1240 - accuracy: 0.9531 - val_loss: 2.6160 - val_accuracy: 0.6406\n",
      "Epoch 886/1000\n",
      "58/58 [==============================] - 0s 2ms/step - loss: 0.1057 - accuracy: 0.9531 - val_loss: 2.4162 - val_accuracy: 0.6615\n",
      "Epoch 887/1000\n",
      "58/58 [==============================] - 0s 2ms/step - loss: 0.1571 - accuracy: 0.9340 - val_loss: 2.4340 - val_accuracy: 0.6510\n",
      "Epoch 888/1000\n",
      "58/58 [==============================] - 0s 2ms/step - loss: 0.1729 - accuracy: 0.9288 - val_loss: 2.7223 - val_accuracy: 0.6458\n",
      "Epoch 889/1000\n",
      "58/58 [==============================] - 0s 2ms/step - loss: 0.3161 - accuracy: 0.8976 - val_loss: 2.8190 - val_accuracy: 0.6719\n",
      "Epoch 890/1000\n",
      "58/58 [==============================] - 0s 2ms/step - loss: 0.1581 - accuracy: 0.9375 - val_loss: 2.7191 - val_accuracy: 0.6458\n",
      "Epoch 891/1000\n",
      "58/58 [==============================] - 0s 2ms/step - loss: 0.1602 - accuracy: 0.9392 - val_loss: 2.5561 - val_accuracy: 0.6562\n",
      "Epoch 892/1000\n",
      "58/58 [==============================] - 0s 2ms/step - loss: 0.1835 - accuracy: 0.9167 - val_loss: 2.1551 - val_accuracy: 0.6354\n",
      "Epoch 893/1000\n",
      "58/58 [==============================] - 0s 2ms/step - loss: 0.0956 - accuracy: 0.9601 - val_loss: 2.5500 - val_accuracy: 0.6667\n",
      "Epoch 894/1000\n",
      "58/58 [==============================] - 0s 2ms/step - loss: 0.0730 - accuracy: 0.9757 - val_loss: 2.2054 - val_accuracy: 0.6510\n",
      "Epoch 895/1000\n",
      "58/58 [==============================] - 0s 2ms/step - loss: 0.0863 - accuracy: 0.9688 - val_loss: 2.2637 - val_accuracy: 0.6667\n",
      "Epoch 896/1000\n",
      "58/58 [==============================] - 0s 2ms/step - loss: 0.0708 - accuracy: 0.9774 - val_loss: 2.3251 - val_accuracy: 0.6562\n",
      "Epoch 897/1000\n",
      "58/58 [==============================] - 0s 2ms/step - loss: 0.0823 - accuracy: 0.9705 - val_loss: 2.6010 - val_accuracy: 0.6250\n",
      "Epoch 898/1000\n",
      "58/58 [==============================] - 0s 2ms/step - loss: 0.2666 - accuracy: 0.9271 - val_loss: 2.0428 - val_accuracy: 0.6823\n",
      "Epoch 899/1000\n",
      "58/58 [==============================] - 0s 2ms/step - loss: 0.1550 - accuracy: 0.9358 - val_loss: 2.1433 - val_accuracy: 0.6354\n",
      "Epoch 900/1000\n",
      "58/58 [==============================] - 0s 2ms/step - loss: 0.1225 - accuracy: 0.9444 - val_loss: 2.0835 - val_accuracy: 0.6562\n",
      "Epoch 901/1000\n",
      "58/58 [==============================] - 0s 2ms/step - loss: 0.1035 - accuracy: 0.9601 - val_loss: 2.1435 - val_accuracy: 0.6302\n",
      "Epoch 902/1000\n",
      "58/58 [==============================] - 0s 2ms/step - loss: 0.0710 - accuracy: 0.9740 - val_loss: 2.0905 - val_accuracy: 0.6354\n",
      "Epoch 903/1000\n",
      "58/58 [==============================] - 0s 2ms/step - loss: 0.0661 - accuracy: 0.9792 - val_loss: 2.0121 - val_accuracy: 0.6510\n",
      "Epoch 904/1000\n",
      "58/58 [==============================] - 0s 2ms/step - loss: 0.0639 - accuracy: 0.9809 - val_loss: 2.1300 - val_accuracy: 0.6510\n",
      "Epoch 905/1000\n",
      "58/58 [==============================] - 0s 2ms/step - loss: 0.0635 - accuracy: 0.9757 - val_loss: 2.1478 - val_accuracy: 0.6562\n",
      "Epoch 906/1000\n",
      "58/58 [==============================] - 0s 2ms/step - loss: 0.0676 - accuracy: 0.9757 - val_loss: 2.0683 - val_accuracy: 0.6562\n",
      "Epoch 907/1000\n",
      "58/58 [==============================] - 0s 2ms/step - loss: 0.0556 - accuracy: 0.9826 - val_loss: 2.1202 - val_accuracy: 0.6458\n",
      "Epoch 908/1000\n",
      "58/58 [==============================] - 0s 2ms/step - loss: 0.0617 - accuracy: 0.9792 - val_loss: 2.1107 - val_accuracy: 0.6510\n",
      "Epoch 909/1000\n",
      "58/58 [==============================] - 0s 2ms/step - loss: 0.0699 - accuracy: 0.9774 - val_loss: 2.2221 - val_accuracy: 0.6562\n",
      "Epoch 910/1000\n",
      "58/58 [==============================] - 0s 2ms/step - loss: 0.0557 - accuracy: 0.9826 - val_loss: 2.2272 - val_accuracy: 0.6562\n",
      "Epoch 911/1000\n",
      "58/58 [==============================] - 0s 2ms/step - loss: 0.0570 - accuracy: 0.9826 - val_loss: 2.1822 - val_accuracy: 0.6302\n",
      "Epoch 912/1000\n",
      "58/58 [==============================] - 0s 2ms/step - loss: 0.0692 - accuracy: 0.9653 - val_loss: 2.2823 - val_accuracy: 0.6510\n"
     ]
    },
    {
     "name": "stdout",
     "output_type": "stream",
     "text": [
      "Epoch 913/1000\n",
      "58/58 [==============================] - 0s 2ms/step - loss: 0.0880 - accuracy: 0.9653 - val_loss: 2.2907 - val_accuracy: 0.6458\n",
      "Epoch 914/1000\n",
      "58/58 [==============================] - 0s 2ms/step - loss: 0.1793 - accuracy: 0.9392 - val_loss: 2.5343 - val_accuracy: 0.6250\n",
      "Epoch 915/1000\n",
      "58/58 [==============================] - 0s 2ms/step - loss: 0.2779 - accuracy: 0.9080 - val_loss: 1.7649 - val_accuracy: 0.6406\n",
      "Epoch 916/1000\n",
      "58/58 [==============================] - 0s 2ms/step - loss: 0.2234 - accuracy: 0.9236 - val_loss: 2.3200 - val_accuracy: 0.6562\n",
      "Epoch 917/1000\n",
      "58/58 [==============================] - 0s 2ms/step - loss: 0.2129 - accuracy: 0.9167 - val_loss: 2.3773 - val_accuracy: 0.6146\n",
      "Epoch 918/1000\n",
      "58/58 [==============================] - 0s 2ms/step - loss: 0.1609 - accuracy: 0.9392 - val_loss: 2.0013 - val_accuracy: 0.6615\n",
      "Epoch 919/1000\n",
      "58/58 [==============================] - 0s 2ms/step - loss: 0.0909 - accuracy: 0.9653 - val_loss: 2.1685 - val_accuracy: 0.6354\n",
      "Epoch 920/1000\n",
      "58/58 [==============================] - 0s 2ms/step - loss: 0.0596 - accuracy: 0.9809 - val_loss: 2.2073 - val_accuracy: 0.6458\n",
      "Epoch 921/1000\n",
      "58/58 [==============================] - 0s 2ms/step - loss: 0.0605 - accuracy: 0.9740 - val_loss: 2.1913 - val_accuracy: 0.6615\n",
      "Epoch 922/1000\n",
      "58/58 [==============================] - 0s 2ms/step - loss: 0.0594 - accuracy: 0.9809 - val_loss: 2.1308 - val_accuracy: 0.6719\n",
      "Epoch 923/1000\n",
      "58/58 [==============================] - 0s 2ms/step - loss: 0.0491 - accuracy: 0.9844 - val_loss: 2.1571 - val_accuracy: 0.6667\n",
      "Epoch 924/1000\n",
      "58/58 [==============================] - 0s 2ms/step - loss: 0.0502 - accuracy: 0.9844 - val_loss: 2.2246 - val_accuracy: 0.6667\n",
      "Epoch 925/1000\n",
      "58/58 [==============================] - 0s 2ms/step - loss: 0.0528 - accuracy: 0.9792 - val_loss: 2.2201 - val_accuracy: 0.6615\n",
      "Epoch 926/1000\n",
      "58/58 [==============================] - 0s 2ms/step - loss: 0.0599 - accuracy: 0.9740 - val_loss: 2.3508 - val_accuracy: 0.6458\n",
      "Epoch 927/1000\n",
      "58/58 [==============================] - 0s 2ms/step - loss: 0.0675 - accuracy: 0.9774 - val_loss: 2.2571 - val_accuracy: 0.6562\n",
      "Epoch 928/1000\n",
      "58/58 [==============================] - 0s 2ms/step - loss: 0.0574 - accuracy: 0.9792 - val_loss: 2.3677 - val_accuracy: 0.6562\n",
      "Epoch 929/1000\n",
      "58/58 [==============================] - 0s 2ms/step - loss: 0.0510 - accuracy: 0.9826 - val_loss: 2.3176 - val_accuracy: 0.6771\n",
      "Epoch 930/1000\n",
      "58/58 [==============================] - 0s 2ms/step - loss: 0.0592 - accuracy: 0.9792 - val_loss: 2.2328 - val_accuracy: 0.6615\n",
      "Epoch 931/1000\n",
      "58/58 [==============================] - 0s 2ms/step - loss: 0.1436 - accuracy: 0.9601 - val_loss: 2.3835 - val_accuracy: 0.6406\n",
      "Epoch 932/1000\n",
      "58/58 [==============================] - 0s 2ms/step - loss: 0.1559 - accuracy: 0.9479 - val_loss: 2.0154 - val_accuracy: 0.6458\n",
      "Epoch 933/1000\n",
      "58/58 [==============================] - 0s 2ms/step - loss: 0.1954 - accuracy: 0.9392 - val_loss: 2.3697 - val_accuracy: 0.6406\n",
      "Epoch 934/1000\n",
      "58/58 [==============================] - 0s 2ms/step - loss: 0.1987 - accuracy: 0.9253 - val_loss: 2.4187 - val_accuracy: 0.6458\n",
      "Epoch 935/1000\n",
      "58/58 [==============================] - 0s 2ms/step - loss: 0.0917 - accuracy: 0.9740 - val_loss: 2.6565 - val_accuracy: 0.6562\n",
      "Epoch 936/1000\n",
      "58/58 [==============================] - 0s 2ms/step - loss: 0.0600 - accuracy: 0.9792 - val_loss: 2.8684 - val_accuracy: 0.6250\n",
      "Epoch 937/1000\n",
      "58/58 [==============================] - 0s 2ms/step - loss: 0.0711 - accuracy: 0.9740 - val_loss: 2.5098 - val_accuracy: 0.6771\n",
      "Epoch 938/1000\n",
      "58/58 [==============================] - 0s 2ms/step - loss: 0.0519 - accuracy: 0.9844 - val_loss: 2.5154 - val_accuracy: 0.6458\n",
      "Epoch 939/1000\n",
      "58/58 [==============================] - 0s 2ms/step - loss: 0.0486 - accuracy: 0.9896 - val_loss: 2.6632 - val_accuracy: 0.6510\n",
      "Epoch 940/1000\n",
      "58/58 [==============================] - 0s 2ms/step - loss: 0.0597 - accuracy: 0.9792 - val_loss: 2.6318 - val_accuracy: 0.6667\n",
      "Epoch 941/1000\n",
      "58/58 [==============================] - 0s 2ms/step - loss: 0.0862 - accuracy: 0.9653 - val_loss: 2.2465 - val_accuracy: 0.6406\n",
      "Epoch 942/1000\n",
      "58/58 [==============================] - 0s 2ms/step - loss: 0.0879 - accuracy: 0.9618 - val_loss: 2.4135 - val_accuracy: 0.6615\n",
      "Epoch 943/1000\n",
      "58/58 [==============================] - 0s 2ms/step - loss: 0.0730 - accuracy: 0.9670 - val_loss: 2.3807 - val_accuracy: 0.6562\n",
      "Epoch 944/1000\n",
      "58/58 [==============================] - 0s 2ms/step - loss: 0.0806 - accuracy: 0.9792 - val_loss: 2.3549 - val_accuracy: 0.6562\n",
      "Epoch 945/1000\n",
      "58/58 [==============================] - 0s 2ms/step - loss: 0.1423 - accuracy: 0.9514 - val_loss: 2.4213 - val_accuracy: 0.6510\n",
      "Epoch 946/1000\n",
      "58/58 [==============================] - 0s 2ms/step - loss: 0.2043 - accuracy: 0.9201 - val_loss: 2.3211 - val_accuracy: 0.6302\n",
      "Epoch 947/1000\n",
      "58/58 [==============================] - 0s 2ms/step - loss: 0.1798 - accuracy: 0.9358 - val_loss: 2.1774 - val_accuracy: 0.6510\n",
      "Epoch 948/1000\n",
      "58/58 [==============================] - 0s 2ms/step - loss: 0.0948 - accuracy: 0.9583 - val_loss: 2.2681 - val_accuracy: 0.6771\n",
      "Epoch 949/1000\n",
      "58/58 [==============================] - 0s 2ms/step - loss: 0.0741 - accuracy: 0.9757 - val_loss: 2.6141 - val_accuracy: 0.6562\n",
      "Epoch 950/1000\n",
      "58/58 [==============================] - 0s 2ms/step - loss: 0.0607 - accuracy: 0.9757 - val_loss: 2.4874 - val_accuracy: 0.6354\n",
      "Epoch 951/1000\n",
      "58/58 [==============================] - 0s 2ms/step - loss: 0.0655 - accuracy: 0.9722 - val_loss: 2.5081 - val_accuracy: 0.6510\n",
      "Epoch 952/1000\n",
      "58/58 [==============================] - 0s 2ms/step - loss: 0.0541 - accuracy: 0.9792 - val_loss: 2.3944 - val_accuracy: 0.6510\n",
      "Epoch 953/1000\n",
      "58/58 [==============================] - 0s 2ms/step - loss: 0.0496 - accuracy: 0.9774 - val_loss: 2.2957 - val_accuracy: 0.6406\n",
      "Epoch 954/1000\n",
      "58/58 [==============================] - 0s 2ms/step - loss: 0.0512 - accuracy: 0.9757 - val_loss: 2.3372 - val_accuracy: 0.6667\n",
      "Epoch 955/1000\n",
      "58/58 [==============================] - 0s 2ms/step - loss: 0.0618 - accuracy: 0.9774 - val_loss: 2.3660 - val_accuracy: 0.6562\n",
      "Epoch 956/1000\n",
      "58/58 [==============================] - 0s 2ms/step - loss: 0.0484 - accuracy: 0.9861 - val_loss: 2.1961 - val_accuracy: 0.6562\n",
      "Epoch 957/1000\n",
      "58/58 [==============================] - 0s 2ms/step - loss: 0.0533 - accuracy: 0.9792 - val_loss: 2.4314 - val_accuracy: 0.6510\n",
      "Epoch 958/1000\n",
      "58/58 [==============================] - 0s 2ms/step - loss: 0.0450 - accuracy: 0.9844 - val_loss: 2.3774 - val_accuracy: 0.6406\n",
      "Epoch 959/1000\n",
      "58/58 [==============================] - 0s 2ms/step - loss: 0.0498 - accuracy: 0.9809 - val_loss: 2.2761 - val_accuracy: 0.6771\n",
      "Epoch 960/1000\n",
      "58/58 [==============================] - 0s 2ms/step - loss: 0.0455 - accuracy: 0.9844 - val_loss: 2.3703 - val_accuracy: 0.6719\n",
      "Epoch 961/1000\n",
      "58/58 [==============================] - 0s 2ms/step - loss: 0.0552 - accuracy: 0.9757 - val_loss: 2.2804 - val_accuracy: 0.6458\n",
      "Epoch 962/1000\n",
      "58/58 [==============================] - 0s 2ms/step - loss: 0.0544 - accuracy: 0.9722 - val_loss: 2.2641 - val_accuracy: 0.6510\n",
      "Epoch 963/1000\n",
      "58/58 [==============================] - 0s 2ms/step - loss: 0.0472 - accuracy: 0.9826 - val_loss: 2.3339 - val_accuracy: 0.6562\n",
      "Epoch 964/1000\n",
      "58/58 [==============================] - 0s 2ms/step - loss: 0.0644 - accuracy: 0.9757 - val_loss: 2.3301 - val_accuracy: 0.6562\n",
      "Epoch 965/1000\n",
      "58/58 [==============================] - 0s 2ms/step - loss: 0.0555 - accuracy: 0.9757 - val_loss: 2.3652 - val_accuracy: 0.6302\n",
      "Epoch 966/1000\n",
      "58/58 [==============================] - 0s 2ms/step - loss: 0.0538 - accuracy: 0.9826 - val_loss: 2.2882 - val_accuracy: 0.6615\n",
      "Epoch 967/1000\n",
      "58/58 [==============================] - 0s 2ms/step - loss: 0.0582 - accuracy: 0.9774 - val_loss: 2.1990 - val_accuracy: 0.6771\n",
      "Epoch 968/1000\n",
      "58/58 [==============================] - 0s 2ms/step - loss: 0.0591 - accuracy: 0.9757 - val_loss: 2.3439 - val_accuracy: 0.6719\n",
      "Epoch 969/1000\n",
      "58/58 [==============================] - 0s 2ms/step - loss: 0.0707 - accuracy: 0.9792 - val_loss: 2.3612 - val_accuracy: 0.6510\n"
     ]
    },
    {
     "name": "stdout",
     "output_type": "stream",
     "text": [
      "Epoch 970/1000\n",
      "58/58 [==============================] - 0s 2ms/step - loss: 0.0612 - accuracy: 0.9774 - val_loss: 2.2639 - val_accuracy: 0.6510\n",
      "Epoch 971/1000\n",
      "58/58 [==============================] - 0s 2ms/step - loss: 0.0650 - accuracy: 0.9792 - val_loss: 2.3560 - val_accuracy: 0.6719\n",
      "Epoch 972/1000\n",
      "58/58 [==============================] - 0s 2ms/step - loss: 0.0743 - accuracy: 0.9688 - val_loss: 2.5803 - val_accuracy: 0.6615\n",
      "Epoch 973/1000\n",
      "58/58 [==============================] - 0s 2ms/step - loss: 0.0957 - accuracy: 0.9653 - val_loss: 2.4464 - val_accuracy: 0.6458\n",
      "Epoch 974/1000\n",
      "58/58 [==============================] - 0s 2ms/step - loss: 0.0921 - accuracy: 0.9635 - val_loss: 3.0079 - val_accuracy: 0.6302\n",
      "Epoch 975/1000\n",
      "58/58 [==============================] - 0s 2ms/step - loss: 0.6233 - accuracy: 0.8837 - val_loss: 1.8976 - val_accuracy: 0.7083\n",
      "Epoch 976/1000\n",
      "58/58 [==============================] - 0s 2ms/step - loss: 0.2792 - accuracy: 0.8993 - val_loss: 1.9038 - val_accuracy: 0.6719\n",
      "Epoch 977/1000\n",
      "58/58 [==============================] - 0s 2ms/step - loss: 0.2769 - accuracy: 0.9097 - val_loss: 2.0236 - val_accuracy: 0.6406\n",
      "Epoch 978/1000\n",
      "58/58 [==============================] - 0s 2ms/step - loss: 0.1317 - accuracy: 0.9479 - val_loss: 2.0662 - val_accuracy: 0.6510\n",
      "Epoch 979/1000\n",
      "58/58 [==============================] - 0s 2ms/step - loss: 0.1286 - accuracy: 0.9583 - val_loss: 1.9125 - val_accuracy: 0.6458\n",
      "Epoch 980/1000\n",
      "58/58 [==============================] - 0s 2ms/step - loss: 0.0857 - accuracy: 0.9722 - val_loss: 1.8477 - val_accuracy: 0.6823\n",
      "Epoch 981/1000\n",
      "58/58 [==============================] - 0s 2ms/step - loss: 0.0888 - accuracy: 0.9740 - val_loss: 1.8409 - val_accuracy: 0.6719\n",
      "Epoch 982/1000\n",
      "58/58 [==============================] - 0s 2ms/step - loss: 0.0591 - accuracy: 0.9792 - val_loss: 1.9757 - val_accuracy: 0.6719\n",
      "Epoch 983/1000\n",
      "58/58 [==============================] - 0s 2ms/step - loss: 0.0575 - accuracy: 0.9809 - val_loss: 2.0134 - val_accuracy: 0.6615\n",
      "Epoch 984/1000\n",
      "58/58 [==============================] - 0s 2ms/step - loss: 0.0486 - accuracy: 0.9826 - val_loss: 2.0653 - val_accuracy: 0.6615\n",
      "Epoch 985/1000\n",
      "58/58 [==============================] - 0s 2ms/step - loss: 0.0553 - accuracy: 0.9809 - val_loss: 2.0711 - val_accuracy: 0.6875\n",
      "Epoch 986/1000\n",
      "58/58 [==============================] - 0s 2ms/step - loss: 0.0458 - accuracy: 0.9861 - val_loss: 2.1592 - val_accuracy: 0.6667\n",
      "Epoch 987/1000\n",
      "58/58 [==============================] - 0s 2ms/step - loss: 0.0432 - accuracy: 0.9878 - val_loss: 2.2043 - val_accuracy: 0.6562\n",
      "Epoch 988/1000\n",
      "58/58 [==============================] - 0s 2ms/step - loss: 0.0511 - accuracy: 0.9826 - val_loss: 2.1770 - val_accuracy: 0.6562\n",
      "Epoch 989/1000\n",
      "58/58 [==============================] - 0s 2ms/step - loss: 0.0446 - accuracy: 0.9844 - val_loss: 2.3052 - val_accuracy: 0.6615\n",
      "Epoch 990/1000\n",
      "58/58 [==============================] - 0s 2ms/step - loss: 0.0442 - accuracy: 0.9878 - val_loss: 2.2880 - val_accuracy: 0.6771\n",
      "Epoch 991/1000\n",
      "58/58 [==============================] - 0s 2ms/step - loss: 0.0446 - accuracy: 0.9861 - val_loss: 2.3427 - val_accuracy: 0.6510\n",
      "Epoch 992/1000\n",
      "58/58 [==============================] - 0s 2ms/step - loss: 0.0422 - accuracy: 0.9844 - val_loss: 2.3003 - val_accuracy: 0.6823\n",
      "Epoch 993/1000\n",
      "58/58 [==============================] - 0s 2ms/step - loss: 0.0434 - accuracy: 0.9878 - val_loss: 2.3069 - val_accuracy: 0.6667\n",
      "Epoch 994/1000\n",
      "58/58 [==============================] - 0s 2ms/step - loss: 0.0587 - accuracy: 0.9844 - val_loss: 2.3862 - val_accuracy: 0.6458\n",
      "Epoch 995/1000\n",
      "58/58 [==============================] - 0s 2ms/step - loss: 0.0465 - accuracy: 0.9826 - val_loss: 2.5654 - val_accuracy: 0.6719\n",
      "Epoch 996/1000\n",
      "58/58 [==============================] - 0s 2ms/step - loss: 0.0457 - accuracy: 0.9844 - val_loss: 2.3597 - val_accuracy: 0.6354\n",
      "Epoch 997/1000\n",
      "58/58 [==============================] - 0s 2ms/step - loss: 0.1018 - accuracy: 0.9601 - val_loss: 2.1673 - val_accuracy: 0.6510\n",
      "Epoch 998/1000\n",
      "58/58 [==============================] - 0s 2ms/step - loss: 0.2288 - accuracy: 0.9045 - val_loss: 2.2114 - val_accuracy: 0.6615\n",
      "Epoch 999/1000\n",
      "58/58 [==============================] - 0s 2ms/step - loss: 0.1315 - accuracy: 0.9549 - val_loss: 2.3539 - val_accuracy: 0.6771\n",
      "Epoch 1000/1000\n",
      "58/58 [==============================] - 0s 2ms/step - loss: 0.0716 - accuracy: 0.9809 - val_loss: 2.4242 - val_accuracy: 0.6615\n",
      "6/6 [==============================] - 0s 2ms/step - loss: 2.4242 - accuracy: 0.6615\n",
      "\n",
      "accuracy: 66.15%\n"
     ]
    }
   ],
   "source": [
    "X_train, X_test, y_train, y_test = train_test_split(X, y, test_size=0.25, random_state=0)\n",
    "from keras.models import Sequential\n",
    "from keras.layers import Dense, Conv2D , Flatten\n",
    "from keras import optimizers\n",
    "from sklearn.preprocessing import StandardScaler,MinMaxScaler\n",
    "\n",
    "sc = StandardScaler()\n",
    "\n",
    "#X_train = sc.fit_transform(X_train)\n",
    "#X_test = sc.transform(X_test)\n",
    "# fix random seed for reproducibility\n",
    "np.random.seed(7)\n",
    "# create model\n",
    "model = Sequential()\n",
    "model.add(Dense(16, input_dim=8,activation='relu'))\n",
    "model.add(Dense(64,  activation='relu')) # 100 neurons with tanh activation function\n",
    "model.add(Dense(12, activation='relu'))\n",
    "model.add(Dense(16,activation='relu'))\n",
    "model.add(Dense(1, activation='sigmoid'))\n",
    "# Compile model\n",
    "\n",
    "#sgd = optimizers.SGD(lr=0.01, nesterov=True)\n",
    "#adam=optimizers.Adam(lr=0.001)\n",
    "model.compile(loss='binary_crossentropy', optimizer='adam', metrics=['accuracy'])\n",
    "#model.compile(loss='mean_squared_error', optimizer=sgd)\n",
    "# Fit the model\n",
    "\n",
    "x=model.fit(X_train, y_train, epochs=1000, batch_size=10,validation_data=(X_test, y_test))\n",
    "#y_pred = model.predict(X_test)\n",
    "# evaluate the model\n",
    "score = model.evaluate(X_test,y_test)\n",
    "print(\"\\n%s: %.2f%%\" % (model.metrics_names[1], score[1]*100))"
   ]
  },
  {
   "cell_type": "code",
   "execution_count": 175,
   "metadata": {},
   "outputs": [
    {
     "name": "stdout",
     "output_type": "stream",
     "text": [
      "18/18 [==============================] - 0s 1ms/step - loss: 0.0445 - accuracy: 0.9896\n",
      "\n",
      "accuracy: 98.96%\n"
     ]
    }
   ],
   "source": [
    "score = model.evaluate(X_train, y_train)\n",
    "print(\"\\n%s: %.2f%%\" % (model.metrics_names[1], score[1]*100))\n",
    "#print(x.history.keys())"
   ]
  },
  {
   "cell_type": "code",
   "execution_count": 178,
   "metadata": {
    "scrolled": true
   },
   "outputs": [
    {
     "data": {
      "image/png": "[encoded data removed]",
      "text/plain": [
       "<Figure size 432x288 with 1 Axes>"
      ]
     },
     "metadata": {
      "needs_background": "light"
     },
     "output_type": "display_data"
    },
    {
     "data": {
      "image/png": "[encoded data removed]",
      "text/plain": [
       "<Figure size 432x288 with 1 Axes>"
      ]
     },
     "metadata": {
      "needs_background": "light"
     },
     "output_type": "display_data"
    }
   ],
   "source": [
    "plt.plot(x.history['accuracy'])\n",
    "plt.plot(x.history['val_accuracy'])\n",
    "#plt.plot(history.history['val_acc'])\n",
    "plt.title('model accuracy')\n",
    "plt.ylabel('accuracy')\n",
    "plt.xlabel('epoch')\n",
    "plt.legend(['train', 'test'], loc='upper left')\n",
    "plt.show()\n",
    "# summarize history for loss\n",
    "plt.plot(x.history['loss'])\n",
    "plt.plot(x.history['val_loss'])\n",
    "plt.title('model loss')\n",
    "plt.ylabel('loss')\n",
    "plt.xlabel('epoch')\n",
    "plt.legend(['train', 'test'], loc='upper left')\n",
    "plt.show()"
   ]
  },
  {
   "cell_type": "code",
   "execution_count": null,
   "metadata": {},
   "outputs": [],
   "source": []
  },
  {
   "cell_type": "code",
   "execution_count": 179,
   "metadata": {},
   "outputs": [
    {
     "name": "stdout",
     "output_type": "stream",
     "text": [
      "Model: \"sequential_2\"\n",
      "_________________________________________________________________\n",
      " Layer (type)                Output Shape              Param #   \n",
      "=================================================================\n",
      " conv2d (Conv2D)             (None, 4, 2, 5)           25        \n",
      "                                                                 \n",
      " conv2d_1 (Conv2D)           (None, 3, 1, 32)          672       \n",
      "                                                                 \n",
      " flatten (Flatten)           (None, 96)                0         \n",
      "                                                                 \n",
      " dense_10 (Dense)            (None, 100)               9700      \n",
      "                                                                 \n",
      " dense_11 (Dense)            (None, 1)                 101       \n",
      "                                                                 \n",
      "=================================================================\n",
      "Total params: 10,498\n",
      "Trainable params: 10,498\n",
      "Non-trainable params: 0\n",
      "_________________________________________________________________\n"
     ]
    }
   ],
   "source": [
    "classifier_CNN = Sequential()\n",
    "classifier_CNN.add(Conv2D(filters = 5 , kernel_size = (2,2), strides =(1,1) , padding = \"same\" ,activation= \"relu\" ,input_shape = (4,2,1) ))\n",
    "classifier_CNN.add(Conv2D(filters = 32 , kernel_size = (2,2), strides =(1,1) , padding = \"valid\" ,activation= \"relu\" ))\n",
    "classifier_CNN.add(Flatten())\n",
    "classifier_CNN.add(Dense(100,activation= \"relu\"))\n",
    "classifier_CNN.add(Dense(1, activation= \"sigmoid\"))\n",
    "classifier_CNN.summary()\n"
   ]
  },
  {
   "cell_type": "code",
   "execution_count": 180,
   "metadata": {},
   "outputs": [
    {
     "data": {
      "text/plain": [
       "(576, 8)"
      ]
     },
     "execution_count": 180,
     "metadata": {},
     "output_type": "execute_result"
    }
   ],
   "source": [
    "X_train.shape"
   ]
  },
  {
   "cell_type": "code",
   "execution_count": 181,
   "metadata": {},
   "outputs": [],
   "source": [
    "X_train = np.array(X_train).reshape((576,4,2,1))\n",
    "X_test = np.array(X_test).reshape((len(X_test),4,2,1))"
   ]
  },
  {
   "cell_type": "code",
   "execution_count": 182,
   "metadata": {},
   "outputs": [
    {
     "name": "stdout",
     "output_type": "stream",
     "text": [
      "Epoch 1/100\n",
      "29/29 [==============================] - 1s 5ms/step - loss: 1.2217 - accuracy: 0.5833 - val_loss: 0.6807 - val_accuracy: 0.5938\n",
      "Epoch 2/100\n",
      "29/29 [==============================] - 0s 2ms/step - loss: 0.6718 - accuracy: 0.6250 - val_loss: 0.6120 - val_accuracy: 0.6927\n",
      "Epoch 3/100\n",
      "29/29 [==============================] - 0s 2ms/step - loss: 0.6593 - accuracy: 0.6615 - val_loss: 0.6356 - val_accuracy: 0.6510\n",
      "Epoch 4/100\n",
      "29/29 [==============================] - 0s 2ms/step - loss: 0.6201 - accuracy: 0.6632 - val_loss: 0.6157 - val_accuracy: 0.6719\n",
      "Epoch 5/100\n",
      "29/29 [==============================] - 0s 2ms/step - loss: 0.6100 - accuracy: 0.6753 - val_loss: 0.7079 - val_accuracy: 0.6094\n",
      "Epoch 6/100\n",
      "29/29 [==============================] - 0s 2ms/step - loss: 0.6223 - accuracy: 0.6701 - val_loss: 0.6053 - val_accuracy: 0.6927\n",
      "Epoch 7/100\n",
      "29/29 [==============================] - 0s 2ms/step - loss: 0.6158 - accuracy: 0.6528 - val_loss: 0.5893 - val_accuracy: 0.6719\n",
      "Epoch 8/100\n",
      "29/29 [==============================] - 0s 3ms/step - loss: 0.5766 - accuracy: 0.7378 - val_loss: 0.6251 - val_accuracy: 0.6771\n",
      "Epoch 9/100\n",
      "29/29 [==============================] - 0s 3ms/step - loss: 0.6621 - accuracy: 0.6892 - val_loss: 0.6694 - val_accuracy: 0.6979\n",
      "Epoch 10/100\n",
      "29/29 [==============================] - 0s 2ms/step - loss: 0.6642 - accuracy: 0.6545 - val_loss: 0.6111 - val_accuracy: 0.6719\n",
      "Epoch 11/100\n",
      "29/29 [==============================] - 0s 2ms/step - loss: 0.6265 - accuracy: 0.6858 - val_loss: 0.6212 - val_accuracy: 0.6667\n",
      "Epoch 12/100\n",
      "29/29 [==============================] - 0s 2ms/step - loss: 0.5598 - accuracy: 0.7292 - val_loss: 0.5917 - val_accuracy: 0.6927\n",
      "Epoch 13/100\n",
      "29/29 [==============================] - 0s 2ms/step - loss: 0.5642 - accuracy: 0.6997 - val_loss: 0.7205 - val_accuracy: 0.6094\n",
      "Epoch 14/100\n",
      "29/29 [==============================] - 0s 2ms/step - loss: 0.5672 - accuracy: 0.6962 - val_loss: 0.5987 - val_accuracy: 0.6771\n",
      "Epoch 15/100\n",
      "29/29 [==============================] - 0s 2ms/step - loss: 0.5748 - accuracy: 0.7153 - val_loss: 0.5752 - val_accuracy: 0.6875\n",
      "Epoch 16/100\n",
      "29/29 [==============================] - 0s 3ms/step - loss: 0.5463 - accuracy: 0.7274 - val_loss: 0.5735 - val_accuracy: 0.7135\n",
      "Epoch 17/100\n",
      "29/29 [==============================] - 0s 2ms/step - loss: 0.5479 - accuracy: 0.7361 - val_loss: 0.6004 - val_accuracy: 0.6823\n",
      "Epoch 18/100\n",
      "29/29 [==============================] - 0s 2ms/step - loss: 0.5523 - accuracy: 0.7257 - val_loss: 0.6336 - val_accuracy: 0.6771\n",
      "Epoch 19/100\n",
      "29/29 [==============================] - 0s 2ms/step - loss: 0.5532 - accuracy: 0.7014 - val_loss: 0.5803 - val_accuracy: 0.6979\n",
      "Epoch 20/100\n",
      "29/29 [==============================] - 0s 3ms/step - loss: 0.5821 - accuracy: 0.6997 - val_loss: 0.5711 - val_accuracy: 0.6875\n",
      "Epoch 21/100\n",
      "29/29 [==============================] - 0s 2ms/step - loss: 0.5829 - accuracy: 0.7083 - val_loss: 0.6985 - val_accuracy: 0.6406\n",
      "Epoch 22/100\n",
      "29/29 [==============================] - 0s 2ms/step - loss: 0.5522 - accuracy: 0.7014 - val_loss: 0.6976 - val_accuracy: 0.6562\n",
      "Epoch 23/100\n",
      "29/29 [==============================] - 0s 2ms/step - loss: 0.5914 - accuracy: 0.6806 - val_loss: 0.6277 - val_accuracy: 0.6875\n",
      "Epoch 24/100\n",
      "29/29 [==============================] - 0s 3ms/step - loss: 0.5698 - accuracy: 0.6962 - val_loss: 0.5765 - val_accuracy: 0.7188\n",
      "Epoch 25/100\n",
      "29/29 [==============================] - 0s 3ms/step - loss: 0.5547 - accuracy: 0.7205 - val_loss: 0.6011 - val_accuracy: 0.7031\n",
      "Epoch 26/100\n",
      "29/29 [==============================] - 0s 2ms/step - loss: 0.5376 - accuracy: 0.7309 - val_loss: 0.5828 - val_accuracy: 0.7031\n",
      "Epoch 27/100\n",
      "29/29 [==============================] - 0s 2ms/step - loss: 0.5407 - accuracy: 0.7309 - val_loss: 0.6371 - val_accuracy: 0.7083\n",
      "Epoch 28/100\n",
      "29/29 [==============================] - 0s 2ms/step - loss: 0.5517 - accuracy: 0.6979 - val_loss: 0.5770 - val_accuracy: 0.7188\n",
      "Epoch 29/100\n",
      "29/29 [==============================] - 0s 2ms/step - loss: 0.5265 - accuracy: 0.7431 - val_loss: 0.5881 - val_accuracy: 0.7344\n",
      "Epoch 30/100\n",
      "29/29 [==============================] - 0s 2ms/step - loss: 0.5283 - accuracy: 0.7326 - val_loss: 0.6113 - val_accuracy: 0.7188\n",
      "Epoch 31/100\n",
      "29/29 [==============================] - 0s 2ms/step - loss: 0.5370 - accuracy: 0.7465 - val_loss: 0.6432 - val_accuracy: 0.6771\n",
      "Epoch 32/100\n",
      "29/29 [==============================] - 0s 2ms/step - loss: 0.5731 - accuracy: 0.7083 - val_loss: 0.5925 - val_accuracy: 0.7396\n",
      "Epoch 33/100\n",
      "29/29 [==============================] - 0s 2ms/step - loss: 0.5397 - accuracy: 0.7448 - val_loss: 0.5558 - val_accuracy: 0.7083\n",
      "Epoch 34/100\n",
      "29/29 [==============================] - 0s 2ms/step - loss: 0.5534 - accuracy: 0.7344 - val_loss: 0.6146 - val_accuracy: 0.7240\n",
      "Epoch 35/100\n",
      "29/29 [==============================] - 0s 2ms/step - loss: 0.5164 - accuracy: 0.7517 - val_loss: 0.6885 - val_accuracy: 0.6823\n",
      "Epoch 36/100\n",
      "29/29 [==============================] - 0s 2ms/step - loss: 0.5299 - accuracy: 0.7274 - val_loss: 0.5938 - val_accuracy: 0.7135\n",
      "Epoch 37/100\n",
      "29/29 [==============================] - 0s 2ms/step - loss: 0.5113 - accuracy: 0.7535 - val_loss: 0.6092 - val_accuracy: 0.6927\n",
      "Epoch 38/100\n",
      "29/29 [==============================] - 0s 3ms/step - loss: 0.5476 - accuracy: 0.7431 - val_loss: 0.5931 - val_accuracy: 0.7292\n",
      "Epoch 39/100\n",
      "29/29 [==============================] - 0s 2ms/step - loss: 0.5250 - accuracy: 0.7292 - val_loss: 0.5759 - val_accuracy: 0.7292\n",
      "Epoch 40/100\n",
      "29/29 [==============================] - 0s 2ms/step - loss: 0.4964 - accuracy: 0.7847 - val_loss: 0.6585 - val_accuracy: 0.6927\n",
      "Epoch 41/100\n",
      "29/29 [==============================] - 0s 2ms/step - loss: 0.5244 - accuracy: 0.7361 - val_loss: 0.5645 - val_accuracy: 0.7500\n",
      "Epoch 42/100\n",
      "29/29 [==============================] - 0s 2ms/step - loss: 0.5018 - accuracy: 0.7448 - val_loss: 0.5913 - val_accuracy: 0.7031\n",
      "Epoch 43/100\n",
      "29/29 [==============================] - 0s 3ms/step - loss: 0.5129 - accuracy: 0.7344 - val_loss: 0.5917 - val_accuracy: 0.7240\n",
      "Epoch 44/100\n",
      "29/29 [==============================] - 0s 2ms/step - loss: 0.5082 - accuracy: 0.7413 - val_loss: 0.5893 - val_accuracy: 0.7031\n",
      "Epoch 45/100\n",
      "29/29 [==============================] - 0s 2ms/step - loss: 0.5051 - accuracy: 0.7552 - val_loss: 0.5891 - val_accuracy: 0.6927\n",
      "Epoch 46/100\n",
      "29/29 [==============================] - 0s 2ms/step - loss: 0.5579 - accuracy: 0.7135 - val_loss: 0.5679 - val_accuracy: 0.7344\n",
      "Epoch 47/100\n",
      "29/29 [==============================] - 0s 2ms/step - loss: 0.5163 - accuracy: 0.7396 - val_loss: 0.5759 - val_accuracy: 0.7292\n",
      "Epoch 48/100\n",
      "29/29 [==============================] - 0s 2ms/step - loss: 0.4851 - accuracy: 0.7639 - val_loss: 0.5858 - val_accuracy: 0.7292\n",
      "Epoch 49/100\n",
      "29/29 [==============================] - 0s 2ms/step - loss: 0.5009 - accuracy: 0.7587 - val_loss: 0.5920 - val_accuracy: 0.7344\n",
      "Epoch 50/100\n",
      "29/29 [==============================] - 0s 2ms/step - loss: 0.4992 - accuracy: 0.7535 - val_loss: 0.5819 - val_accuracy: 0.7396\n",
      "Epoch 51/100\n",
      "29/29 [==============================] - 0s 2ms/step - loss: 0.4996 - accuracy: 0.7656 - val_loss: 0.5650 - val_accuracy: 0.7604\n",
      "Epoch 52/100\n",
      "29/29 [==============================] - 0s 2ms/step - loss: 0.4815 - accuracy: 0.7691 - val_loss: 0.5904 - val_accuracy: 0.7240\n",
      "Epoch 53/100\n",
      "29/29 [==============================] - 0s 2ms/step - loss: 0.5125 - accuracy: 0.7517 - val_loss: 0.5535 - val_accuracy: 0.7448\n",
      "Epoch 54/100\n",
      "29/29 [==============================] - 0s 3ms/step - loss: 0.5145 - accuracy: 0.7535 - val_loss: 0.5743 - val_accuracy: 0.7448\n",
      "Epoch 55/100\n",
      "29/29 [==============================] - 0s 2ms/step - loss: 0.4981 - accuracy: 0.7691 - val_loss: 0.5663 - val_accuracy: 0.7240\n",
      "Epoch 56/100\n",
      "29/29 [==============================] - 0s 3ms/step - loss: 0.4889 - accuracy: 0.7656 - val_loss: 0.5828 - val_accuracy: 0.7448\n",
      "Epoch 57/100\n",
      "29/29 [==============================] - 0s 2ms/step - loss: 0.4990 - accuracy: 0.7500 - val_loss: 0.5614 - val_accuracy: 0.7083\n",
      "Epoch 58/100\n",
      "29/29 [==============================] - 0s 2ms/step - loss: 0.4869 - accuracy: 0.7465 - val_loss: 0.5625 - val_accuracy: 0.7292\n"
     ]
    },
    {
     "name": "stdout",
     "output_type": "stream",
     "text": [
      "Epoch 59/100\n",
      "29/29 [==============================] - 0s 2ms/step - loss: 0.4937 - accuracy: 0.7656 - val_loss: 0.5850 - val_accuracy: 0.7604\n",
      "Epoch 60/100\n",
      "29/29 [==============================] - 0s 2ms/step - loss: 0.5326 - accuracy: 0.7378 - val_loss: 0.5520 - val_accuracy: 0.7604\n",
      "Epoch 61/100\n",
      "29/29 [==============================] - 0s 2ms/step - loss: 0.4822 - accuracy: 0.7812 - val_loss: 0.5952 - val_accuracy: 0.7188\n",
      "Epoch 62/100\n",
      "29/29 [==============================] - 0s 2ms/step - loss: 0.4796 - accuracy: 0.7500 - val_loss: 0.5857 - val_accuracy: 0.7396\n",
      "Epoch 63/100\n",
      "29/29 [==============================] - 0s 2ms/step - loss: 0.4880 - accuracy: 0.7552 - val_loss: 0.7000 - val_accuracy: 0.6719\n",
      "Epoch 64/100\n",
      "29/29 [==============================] - 0s 2ms/step - loss: 0.5269 - accuracy: 0.7500 - val_loss: 0.5664 - val_accuracy: 0.7135\n",
      "Epoch 65/100\n",
      "29/29 [==============================] - 0s 2ms/step - loss: 0.4809 - accuracy: 0.7882 - val_loss: 0.6276 - val_accuracy: 0.6823\n",
      "Epoch 66/100\n",
      "29/29 [==============================] - 0s 2ms/step - loss: 0.5078 - accuracy: 0.7535 - val_loss: 0.5709 - val_accuracy: 0.7396\n",
      "Epoch 67/100\n",
      "29/29 [==============================] - 0s 2ms/step - loss: 0.4690 - accuracy: 0.7691 - val_loss: 0.5579 - val_accuracy: 0.7292\n",
      "Epoch 68/100\n",
      "29/29 [==============================] - 0s 2ms/step - loss: 0.4626 - accuracy: 0.7743 - val_loss: 0.5500 - val_accuracy: 0.7552\n",
      "Epoch 69/100\n",
      "29/29 [==============================] - 0s 2ms/step - loss: 0.4686 - accuracy: 0.7674 - val_loss: 0.6528 - val_accuracy: 0.6771\n",
      "Epoch 70/100\n",
      "29/29 [==============================] - 0s 2ms/step - loss: 0.4864 - accuracy: 0.7569 - val_loss: 0.5614 - val_accuracy: 0.7083\n",
      "Epoch 71/100\n",
      "29/29 [==============================] - 0s 2ms/step - loss: 0.4618 - accuracy: 0.8003 - val_loss: 0.5483 - val_accuracy: 0.7083\n",
      "Epoch 72/100\n",
      "29/29 [==============================] - 0s 2ms/step - loss: 0.4802 - accuracy: 0.7760 - val_loss: 0.5819 - val_accuracy: 0.7396\n",
      "Epoch 73/100\n",
      "29/29 [==============================] - 0s 2ms/step - loss: 0.4762 - accuracy: 0.7639 - val_loss: 0.5890 - val_accuracy: 0.7396\n",
      "Epoch 74/100\n",
      "29/29 [==============================] - 0s 2ms/step - loss: 0.4790 - accuracy: 0.7778 - val_loss: 0.5728 - val_accuracy: 0.7448\n",
      "Epoch 75/100\n",
      "29/29 [==============================] - 0s 2ms/step - loss: 0.4544 - accuracy: 0.7847 - val_loss: 0.5800 - val_accuracy: 0.7240\n",
      "Epoch 76/100\n",
      "29/29 [==============================] - 0s 2ms/step - loss: 0.4875 - accuracy: 0.7795 - val_loss: 0.5495 - val_accuracy: 0.7083\n",
      "Epoch 77/100\n",
      "29/29 [==============================] - 0s 2ms/step - loss: 0.4625 - accuracy: 0.7760 - val_loss: 0.5784 - val_accuracy: 0.7188\n",
      "Epoch 78/100\n",
      "29/29 [==============================] - 0s 2ms/step - loss: 0.4835 - accuracy: 0.7656 - val_loss: 0.7578 - val_accuracy: 0.6198\n",
      "Epoch 79/100\n",
      "29/29 [==============================] - 0s 2ms/step - loss: 0.4754 - accuracy: 0.7674 - val_loss: 0.5513 - val_accuracy: 0.7448\n",
      "Epoch 80/100\n",
      "29/29 [==============================] - 0s 2ms/step - loss: 0.4518 - accuracy: 0.7847 - val_loss: 0.5764 - val_accuracy: 0.7448\n",
      "Epoch 81/100\n",
      "29/29 [==============================] - 0s 2ms/step - loss: 0.4555 - accuracy: 0.7760 - val_loss: 0.5702 - val_accuracy: 0.7135\n",
      "Epoch 82/100\n",
      "29/29 [==============================] - 0s 2ms/step - loss: 0.4600 - accuracy: 0.7847 - val_loss: 0.6566 - val_accuracy: 0.6927\n",
      "Epoch 83/100\n",
      "29/29 [==============================] - 0s 3ms/step - loss: 0.4614 - accuracy: 0.7726 - val_loss: 0.5665 - val_accuracy: 0.7552\n",
      "Epoch 84/100\n",
      "29/29 [==============================] - 0s 2ms/step - loss: 0.4748 - accuracy: 0.7674 - val_loss: 0.5845 - val_accuracy: 0.7083\n",
      "Epoch 85/100\n",
      "29/29 [==============================] - 0s 2ms/step - loss: 0.4750 - accuracy: 0.7656 - val_loss: 0.6207 - val_accuracy: 0.7448\n",
      "Epoch 86/100\n",
      "29/29 [==============================] - 0s 2ms/step - loss: 0.4563 - accuracy: 0.7899 - val_loss: 0.6167 - val_accuracy: 0.7135\n",
      "Epoch 87/100\n",
      "29/29 [==============================] - 0s 2ms/step - loss: 0.4472 - accuracy: 0.7847 - val_loss: 0.5640 - val_accuracy: 0.7292\n",
      "Epoch 88/100\n",
      "29/29 [==============================] - 0s 3ms/step - loss: 0.4450 - accuracy: 0.8021 - val_loss: 0.5672 - val_accuracy: 0.7708\n",
      "Epoch 89/100\n",
      "29/29 [==============================] - 0s 2ms/step - loss: 0.4384 - accuracy: 0.7934 - val_loss: 0.5714 - val_accuracy: 0.7240\n",
      "Epoch 90/100\n",
      "29/29 [==============================] - 0s 2ms/step - loss: 0.4384 - accuracy: 0.7865 - val_loss: 0.5597 - val_accuracy: 0.7396\n",
      "Epoch 91/100\n",
      "29/29 [==============================] - 0s 2ms/step - loss: 0.4296 - accuracy: 0.8090 - val_loss: 0.5615 - val_accuracy: 0.7135\n",
      "Epoch 92/100\n",
      "29/29 [==============================] - 0s 2ms/step - loss: 0.4437 - accuracy: 0.7986 - val_loss: 0.5628 - val_accuracy: 0.7292\n",
      "Epoch 93/100\n",
      "29/29 [==============================] - 0s 2ms/step - loss: 0.4443 - accuracy: 0.7917 - val_loss: 0.5766 - val_accuracy: 0.7292\n",
      "Epoch 94/100\n",
      "29/29 [==============================] - 0s 2ms/step - loss: 0.4286 - accuracy: 0.8090 - val_loss: 0.5671 - val_accuracy: 0.7292\n",
      "Epoch 95/100\n",
      "29/29 [==============================] - 0s 2ms/step - loss: 0.4402 - accuracy: 0.7986 - val_loss: 0.5823 - val_accuracy: 0.7396\n",
      "Epoch 96/100\n",
      "29/29 [==============================] - 0s 3ms/step - loss: 0.4538 - accuracy: 0.8038 - val_loss: 0.6072 - val_accuracy: 0.7396\n",
      "Epoch 97/100\n",
      "29/29 [==============================] - 0s 2ms/step - loss: 0.4364 - accuracy: 0.8056 - val_loss: 0.5652 - val_accuracy: 0.7552\n",
      "Epoch 98/100\n",
      "29/29 [==============================] - 0s 2ms/step - loss: 0.4334 - accuracy: 0.7812 - val_loss: 0.5720 - val_accuracy: 0.7240\n",
      "Epoch 99/100\n",
      "29/29 [==============================] - 0s 3ms/step - loss: 0.4173 - accuracy: 0.8160 - val_loss: 0.5746 - val_accuracy: 0.7292\n",
      "Epoch 100/100\n",
      "29/29 [==============================] - 0s 2ms/step - loss: 0.4454 - accuracy: 0.7795 - val_loss: 0.5800 - val_accuracy: 0.7656\n"
     ]
    }
   ],
   "source": [
    "classifier_CNN.compile(optimizer ='adam',loss='binary_crossentropy', metrics =['accuracy'])\n",
    "history = classifier_CNN.fit(X_train , y_train , epochs =100 , batch_size=20,validation_data=(X_test , y_test))"
   ]
  },
  {
   "cell_type": "code",
   "execution_count": 183,
   "metadata": {},
   "outputs": [
    {
     "name": "stdout",
     "output_type": "stream",
     "text": [
      "6/6 [==============================] - 0s 2ms/step - loss: 0.5800 - accuracy: 0.7656\n"
     ]
    },
    {
     "data": {
      "text/plain": [
       "[0.5799898505210876, 0.765625]"
      ]
     },
     "execution_count": 183,
     "metadata": {},
     "output_type": "execute_result"
    }
   ],
   "source": [
    "classifier_CNN.evaluate(X_test, y_test)"
   ]
  },
  {
   "cell_type": "code",
   "execution_count": 184,
   "metadata": {},
   "outputs": [
    {
     "name": "stdout",
     "output_type": "stream",
     "text": [
      "6/6 [==============================] - 0s 2ms/step - loss: 0.5800 - accuracy: 0.7656\n"
     ]
    }
   ],
   "source": [
    "acc = classifier_CNN.evaluate(X_test, y_test)[1]\n",
    "#scores1 = scores.append(acc)\n",
    "scores.append(acc)"
   ]
  },
  {
   "cell_type": "code",
   "execution_count": 185,
   "metadata": {},
   "outputs": [
    {
     "name": "stdout",
     "output_type": "stream",
     "text": [
      "0.765625\n"
     ]
    }
   ],
   "source": [
    "#print(scores)\n",
    "print(acc)"
   ]
  },
  {
   "cell_type": "code",
   "execution_count": 186,
   "metadata": {},
   "outputs": [
    {
     "data": {
      "text/plain": [
       "<AxesSubplot:>"
      ]
     },
     "execution_count": 186,
     "metadata": {},
     "output_type": "execute_result"
    },
    {
     "data": {
      "image/png": "[encoded data removed]",
      "text/plain": [
       "<Figure size 576x576 with 1 Axes>"
      ]
     },
     "metadata": {
      "needs_background": "light"
     },
     "output_type": "display_data"
    }
   ],
   "source": [
    "y=['KNN','SVC','LR','DT','GNB','RF','GB','XGB','CNN']\n",
    "plt.figure(figsize= (8, 8))\n",
    "sns.barplot(x= y , y = scores ,orient = 'v')\n"
   ]
  },
  {
   "cell_type": "code",
   "execution_count": 187,
   "metadata": {},
   "outputs": [
    {
     "data": {
      "text/plain": [
       "[{'label': 'LR', 'model': LogisticRegression()},\n",
       " {'label': 'GB', 'model': GradientBoostingClassifier()},\n",
       " {'label': 'GNB', 'model': GaussianNB()},\n",
       " {'label': 'KNN', 'model': KNeighborsClassifier()},\n",
       " {'label': 'RF', 'model': RandomForestClassifier()},\n",
       " {'label': 'DT', 'model': DecisionTreeClassifier()},\n",
       " {'label': 'SVC', 'model': SVC(probability=True)},\n",
       " {'label': 'XGB',\n",
       "  'model': XGBClassifier(base_score=0.5, booster='gbtree', colsample_bylevel=1,\n",
       "                colsample_bynode=1, colsample_bytree=1, enable_categorical=False,\n",
       "                gamma=0, gpu_id=-1, importance_type=None,\n",
       "                interaction_constraints='', learning_rate=0.300000012,\n",
       "                max_delta_step=0, max_depth=6, min_child_weight=1, missing=nan,\n",
       "                monotone_constraints='()', n_estimators=100, n_jobs=6,\n",
       "                num_parallel_tree=1, predictor='auto', random_state=0,\n",
       "                reg_alpha=0, reg_lambda=1, scale_pos_weight=1, subsample=1,\n",
       "                tree_method='exact', validate_parameters=1, verbosity=None)}]"
      ]
     },
     "execution_count": 187,
     "metadata": {},
     "output_type": "execute_result"
    }
   ],
   "source": [
    "models\n"
   ]
  },
  {
   "cell_type": "code",
   "execution_count": 188,
   "metadata": {},
   "outputs": [
    {
     "name": "stdout",
     "output_type": "stream",
     "text": [
      "dict_keys(['loss', 'accuracy', 'val_loss', 'val_accuracy'])\n"
     ]
    },
    {
     "data": {
      "image/png": "[encoded data removed]",
      "text/plain": [
       "<Figure size 432x288 with 1 Axes>"
      ]
     },
     "metadata": {
      "needs_background": "light"
     },
     "output_type": "display_data"
    }
   ],
   "source": [
    "print(x.history.keys())\n",
    "plt.plot(x.history['accuracy'])\n",
    "#plt.plot(x.history['val_acc'])\n",
    "plt.title('model accuracy')\n",
    "plt.ylabel('accuracy')\n",
    "plt.xlabel('epoch')\n",
    "plt.legend(['train', 'test'], loc='upper left')\n",
    "plt.show()"
   ]
  },
  {
   "cell_type": "code",
   "execution_count": null,
   "metadata": {},
   "outputs": [],
   "source": []
  },
  {
   "cell_type": "code",
   "execution_count": null,
   "metadata": {},
   "outputs": [],
   "source": []
  },
  {
   "cell_type": "code",
   "execution_count": 190,
   "metadata": {},
   "outputs": [
    {
     "ename": "ValueError",
     "evalue": "Found input variables with inconsistent numbers of samples: [768, 9]",
     "output_type": "error",
     "traceback": [
      "\u001b[1;31m---------------------------------------------------------------------------\u001b[0m",
      "\u001b[1;31mValueError\u001b[0m                                Traceback (most recent call last)",
      "\u001b[1;32m<ipython-input-190-608316913ab2>\u001b[0m in \u001b[0;36m<module>\u001b[1;34m\u001b[0m\n\u001b[0;32m      1\u001b[0m \u001b[1;32mfrom\u001b[0m \u001b[0msklearn\u001b[0m\u001b[1;33m.\u001b[0m\u001b[0mmodel_selection\u001b[0m \u001b[1;32mimport\u001b[0m \u001b[0mtrain_test_split\u001b[0m\u001b[1;33m\u001b[0m\u001b[1;33m\u001b[0m\u001b[0m\n\u001b[1;32m----> 2\u001b[1;33m \u001b[0mX_train\u001b[0m\u001b[1;33m,\u001b[0m \u001b[0mX_test\u001b[0m\u001b[1;33m,\u001b[0m \u001b[0my_train\u001b[0m\u001b[1;33m,\u001b[0m \u001b[0my_test\u001b[0m \u001b[1;33m=\u001b[0m \u001b[0mtrain_test_split\u001b[0m\u001b[1;33m(\u001b[0m\u001b[0mX\u001b[0m\u001b[1;33m,\u001b[0m \u001b[0my\u001b[0m\u001b[1;33m,\u001b[0m \u001b[0mtest_size\u001b[0m\u001b[1;33m=\u001b[0m\u001b[1;36m0.33\u001b[0m\u001b[1;33m,\u001b[0m \u001b[0mrandom_state\u001b[0m\u001b[1;33m=\u001b[0m\u001b[1;36m0\u001b[0m\u001b[1;33m)\u001b[0m\u001b[1;33m\u001b[0m\u001b[1;33m\u001b[0m\u001b[0m\n\u001b[0m\u001b[0;32m      3\u001b[0m \u001b[1;32mfrom\u001b[0m \u001b[0mkeras\u001b[0m \u001b[1;32mimport\u001b[0m \u001b[0mmodels\u001b[0m\u001b[1;33m,\u001b[0m \u001b[0mlayers\u001b[0m\u001b[1;33m,\u001b[0m \u001b[0mlosses\u001b[0m\u001b[1;33m,\u001b[0m \u001b[0moptimizers\u001b[0m\u001b[1;33m,\u001b[0m \u001b[0mmetrics\u001b[0m\u001b[1;33m\u001b[0m\u001b[1;33m\u001b[0m\u001b[0m\n\u001b[0;32m      4\u001b[0m \u001b[1;32mfrom\u001b[0m \u001b[0mkeras\u001b[0m\u001b[1;33m.\u001b[0m\u001b[0mmodels\u001b[0m \u001b[1;32mimport\u001b[0m \u001b[0mSequential\u001b[0m\u001b[1;33m\u001b[0m\u001b[1;33m\u001b[0m\u001b[0m\n\u001b[0;32m      5\u001b[0m \u001b[1;32mfrom\u001b[0m \u001b[0mkeras\u001b[0m \u001b[1;32mimport\u001b[0m \u001b[0moptimizers\u001b[0m\u001b[1;33m\u001b[0m\u001b[1;33m\u001b[0m\u001b[0m\n",
      "\u001b[1;32m~\\anaconda3\\lib\\site-packages\\sklearn\\model_selection\\_split.py\u001b[0m in \u001b[0;36mtrain_test_split\u001b[1;34m(test_size, train_size, random_state, shuffle, stratify, *arrays)\u001b[0m\n\u001b[0;32m   2170\u001b[0m         \u001b[1;32mraise\u001b[0m \u001b[0mValueError\u001b[0m\u001b[1;33m(\u001b[0m\u001b[1;34m\"At least one array required as input\"\u001b[0m\u001b[1;33m)\u001b[0m\u001b[1;33m\u001b[0m\u001b[1;33m\u001b[0m\u001b[0m\n\u001b[0;32m   2171\u001b[0m \u001b[1;33m\u001b[0m\u001b[0m\n\u001b[1;32m-> 2172\u001b[1;33m     \u001b[0marrays\u001b[0m \u001b[1;33m=\u001b[0m \u001b[0mindexable\u001b[0m\u001b[1;33m(\u001b[0m\u001b[1;33m*\u001b[0m\u001b[0marrays\u001b[0m\u001b[1;33m)\u001b[0m\u001b[1;33m\u001b[0m\u001b[1;33m\u001b[0m\u001b[0m\n\u001b[0m\u001b[0;32m   2173\u001b[0m \u001b[1;33m\u001b[0m\u001b[0m\n\u001b[0;32m   2174\u001b[0m     \u001b[0mn_samples\u001b[0m \u001b[1;33m=\u001b[0m \u001b[0m_num_samples\u001b[0m\u001b[1;33m(\u001b[0m\u001b[0marrays\u001b[0m\u001b[1;33m[\u001b[0m\u001b[1;36m0\u001b[0m\u001b[1;33m]\u001b[0m\u001b[1;33m)\u001b[0m\u001b[1;33m\u001b[0m\u001b[1;33m\u001b[0m\u001b[0m\n",
      "\u001b[1;32m~\\anaconda3\\lib\\site-packages\\sklearn\\utils\\validation.py\u001b[0m in \u001b[0;36mindexable\u001b[1;34m(*iterables)\u001b[0m\n\u001b[0;32m    297\u001b[0m     \"\"\"\n\u001b[0;32m    298\u001b[0m     \u001b[0mresult\u001b[0m \u001b[1;33m=\u001b[0m \u001b[1;33m[\u001b[0m\u001b[0m_make_indexable\u001b[0m\u001b[1;33m(\u001b[0m\u001b[0mX\u001b[0m\u001b[1;33m)\u001b[0m \u001b[1;32mfor\u001b[0m \u001b[0mX\u001b[0m \u001b[1;32min\u001b[0m \u001b[0miterables\u001b[0m\u001b[1;33m]\u001b[0m\u001b[1;33m\u001b[0m\u001b[1;33m\u001b[0m\u001b[0m\n\u001b[1;32m--> 299\u001b[1;33m     \u001b[0mcheck_consistent_length\u001b[0m\u001b[1;33m(\u001b[0m\u001b[1;33m*\u001b[0m\u001b[0mresult\u001b[0m\u001b[1;33m)\u001b[0m\u001b[1;33m\u001b[0m\u001b[1;33m\u001b[0m\u001b[0m\n\u001b[0m\u001b[0;32m    300\u001b[0m     \u001b[1;32mreturn\u001b[0m \u001b[0mresult\u001b[0m\u001b[1;33m\u001b[0m\u001b[1;33m\u001b[0m\u001b[0m\n\u001b[0;32m    301\u001b[0m \u001b[1;33m\u001b[0m\u001b[0m\n",
      "\u001b[1;32m~\\anaconda3\\lib\\site-packages\\sklearn\\utils\\validation.py\u001b[0m in \u001b[0;36mcheck_consistent_length\u001b[1;34m(*arrays)\u001b[0m\n\u001b[0;32m    260\u001b[0m     \u001b[0muniques\u001b[0m \u001b[1;33m=\u001b[0m \u001b[0mnp\u001b[0m\u001b[1;33m.\u001b[0m\u001b[0munique\u001b[0m\u001b[1;33m(\u001b[0m\u001b[0mlengths\u001b[0m\u001b[1;33m)\u001b[0m\u001b[1;33m\u001b[0m\u001b[1;33m\u001b[0m\u001b[0m\n\u001b[0;32m    261\u001b[0m     \u001b[1;32mif\u001b[0m \u001b[0mlen\u001b[0m\u001b[1;33m(\u001b[0m\u001b[0muniques\u001b[0m\u001b[1;33m)\u001b[0m \u001b[1;33m>\u001b[0m \u001b[1;36m1\u001b[0m\u001b[1;33m:\u001b[0m\u001b[1;33m\u001b[0m\u001b[1;33m\u001b[0m\u001b[0m\n\u001b[1;32m--> 262\u001b[1;33m         raise ValueError(\"Found input variables with inconsistent numbers of\"\n\u001b[0m\u001b[0;32m    263\u001b[0m                          \" samples: %r\" % [int(l) for l in lengths])\n\u001b[0;32m    264\u001b[0m \u001b[1;33m\u001b[0m\u001b[0m\n",
      "\u001b[1;31mValueError\u001b[0m: Found input variables with inconsistent numbers of samples: [768, 9]"
     ]
    }
   ],
   "source": [
    "from sklearn.model_selection import train_test_split\n",
    "X_train, X_test, y_train, y_test = train_test_split(X, y, test_size=0.33, random_state=0)\n",
    "from keras import models, layers, losses, optimizers, metrics\n",
    "from keras.models import Sequential\n",
    "from keras import optimizers\n",
    "import keras\n",
    "from keras.layers import Dense\n",
    "from keras.layers import Dropout\n",
    "from sklearn.preprocessing import StandardScaler,MinMaxScaler\n",
    "\n",
    "sc = StandardScaler()\n",
    "\n",
    "X_train = sc.fit_transform(X_train)\n",
    "X_test = sc.transform(X_test)\n",
    "\n",
    "model = Sequential()\n",
    "\n",
    "# Hyperparameters\n",
    "hold_prob = 0.0\n",
    "beta = 1e-6\n",
    "alpha = 0.05\n",
    "lr_decay = 0.01\n",
    "iterations = 300\n",
    "validation_split = 0.5\n",
    "opt_momentum = 0.8 # (Use only for SGD)\n",
    "\n",
    "# Optimizer\n",
    "opt = optimizers.SGD(lr=alpha, decay=lr_decay, momentum=opt_momentum, nesterov=True)\n",
    "\n",
    "# First Layer\n",
    "model.add(layers.Dense(input_dim=8, units=8, activation='relu'))\n",
    "\n",
    "# Hidden Layers\n",
    "model.add(layers.Dense(units=8, activation='relu', kernel_regularizer=keras.regularizers.l2(beta)))\n",
    "model.add(layers.Dropout(hold_prob))\n",
    "\n",
    "model.add(layers.Dense(units=8, activation='relu', kernel_regularizer=keras.regularizers.l2(beta)))\n",
    "model.add(layers.Dropout(hold_prob))\n",
    "\n",
    "#model.add(layers.Dense(units=12, activation='relu', kernel_regularizer=keras.regularizers.l2(beta)))\n",
    "#model.add(layers.Dropout(hold_prob))\n",
    "\n",
    "# Output Layer\n",
    "model.add(layers.Dense(units=2, activation='sigmoid'))\n",
    "\n",
    "# Compiling the Model\n",
    "model.compile(optimizer='adam', loss='sparse_categorical_crossentropy', metrics=['accuracy'])\n",
    "# Train\n",
    "#model.fit(x=scaled_x_train, y=y_train, epochs=iterations, validation_split=validation_split)\n",
    "#x=model.fit(X_train, y_train, epochs=iterations, batch_size=10,validation_split=validation_split)\n",
    "x=model.fit(X_train, y_train, epochs=iterations, batch_size=10,validation_data=(X_test, y_test))"
   ]
  },
  {
   "cell_type": "code",
   "execution_count": 191,
   "metadata": {},
   "outputs": [
    {
     "ename": "NameError",
     "evalue": "name 'keras' is not defined",
     "output_type": "error",
     "traceback": [
      "\u001b[1;31m---------------------------------------------------------------------------\u001b[0m",
      "\u001b[1;31mNameError\u001b[0m                                 Traceback (most recent call last)",
      "\u001b[1;32m<ipython-input-191-3e7d757435d1>\u001b[0m in \u001b[0;36m<module>\u001b[1;34m\u001b[0m\n\u001b[0;32m      3\u001b[0m \u001b[1;31m# specify filepath- this will write a new file for each epoch with the epoch number contained within the filename\u001b[0m\u001b[1;33m\u001b[0m\u001b[1;33m\u001b[0m\u001b[1;33m\u001b[0m\u001b[0m\n\u001b[0;32m      4\u001b[0m \u001b[0mfilepath\u001b[0m\u001b[1;33m=\u001b[0m\u001b[1;34m\"nn_weights-{epoch:02d}.hdf5\"\u001b[0m\u001b[1;33m\u001b[0m\u001b[1;33m\u001b[0m\u001b[0m\n\u001b[1;32m----> 5\u001b[1;33m checkpoint = keras.callbacks.ModelCheckpoint(filepath, monitor='val_acc', \n\u001b[0m\u001b[0;32m      6\u001b[0m                                              save_weights_only=False, save_best_only=False, mode='max')\n\u001b[0;32m      7\u001b[0m \u001b[1;33m\u001b[0m\u001b[0m\n",
      "\u001b[1;31mNameError\u001b[0m: name 'keras' is not defined"
     ]
    }
   ],
   "source": [
    "#fmon = FitMonitor()# optional\n",
    "from keras.callbacks import ModelCheckpoint\n",
    "# specify filepath- this will write a new file for each epoch with the epoch number contained within the filename\n",
    "filepath=\"nn_weights-{epoch:02d}.hdf5\"\n",
    "checkpoint = keras.callbacks.ModelCheckpoint(filepath, monitor='val_acc', \n",
    "                                             save_weights_only=False, save_best_only=False, mode='max')\n",
    "\n",
    "xModel=model.fit(X_train, y_train, epochs=100,verbose=0,batch_size=10,validation_data=(X_test, y_test),callbacks=[checkpoint],initial_epoch=10)"
   ]
  },
  {
   "cell_type": "code",
   "execution_count": 192,
   "metadata": {},
   "outputs": [
    {
     "ename": "NameError",
     "evalue": "name 'xModel' is not defined",
     "output_type": "error",
     "traceback": [
      "\u001b[1;31m---------------------------------------------------------------------------\u001b[0m",
      "\u001b[1;31mNameError\u001b[0m                                 Traceback (most recent call last)",
      "\u001b[1;32m<ipython-input-192-7179666115a6>\u001b[0m in \u001b[0;36m<module>\u001b[1;34m\u001b[0m\n\u001b[1;32m----> 1\u001b[1;33m \u001b[0mprint\u001b[0m\u001b[1;33m(\u001b[0m\u001b[0mxModel\u001b[0m\u001b[1;33m.\u001b[0m\u001b[0mhistory\u001b[0m\u001b[1;33m.\u001b[0m\u001b[0mkeys\u001b[0m\u001b[1;33m(\u001b[0m\u001b[1;33m)\u001b[0m\u001b[1;33m)\u001b[0m\u001b[1;33m\u001b[0m\u001b[1;33m\u001b[0m\u001b[0m\n\u001b[0m\u001b[0;32m      2\u001b[0m \u001b[1;31m# summarize history for accuracy\u001b[0m\u001b[1;33m\u001b[0m\u001b[1;33m\u001b[0m\u001b[1;33m\u001b[0m\u001b[0m\n",
      "\u001b[1;31mNameError\u001b[0m: name 'xModel' is not defined"
     ]
    }
   ],
   "source": [
    "print(xModel.history.keys())\n",
    "# summarize history for accuracy\n"
   ]
  },
  {
   "cell_type": "code",
   "execution_count": null,
   "metadata": {},
   "outputs": [],
   "source": []
  },
  {
   "cell_type": "code",
   "execution_count": null,
   "metadata": {},
   "outputs": [],
   "source": []
  },
  {
   "cell_type": "code",
   "execution_count": null,
   "metadata": {},
   "outputs": [],
   "source": []
  },
  {
   "cell_type": "code",
   "execution_count": null,
   "metadata": {},
   "outputs": [],
   "source": []
  },
  {
   "cell_type": "code",
   "execution_count": null,
   "metadata": {},
   "outputs": [],
   "source": []
  },
  {
   "cell_type": "code",
   "execution_count": null,
   "metadata": {},
   "outputs": [],
   "source": []
  }
 ],
 "metadata": {
  "kernelspec": {
   "display_name": "Python 3",
   "language": "python",
   "name": "python3"
  },
  "language_info": {
   "codemirror_mode": {
    "name": "ipython",
    "version": 3
   },
   "file_extension": ".py",
   "mimetype": "text/x-python",
   "name": "python",
   "nbconvert_exporter": "python",
   "pygments_lexer": "ipython3",
   "version": "3.9.5"
  }
 },
 "nbformat": 4,
 "nbformat_minor": 2
}
